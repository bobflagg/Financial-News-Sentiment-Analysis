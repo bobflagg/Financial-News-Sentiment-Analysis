{
 "cells": [
  {
   "cell_type": "code",
   "execution_count": 1,
   "metadata": {
    "collapsed": false
   },
   "outputs": [
    {
     "data": {
      "text/html": [
       "<style>.container { width:100% !important; }</style>"
      ],
      "text/plain": [
       "<IPython.core.display.HTML object>"
      ]
     },
     "metadata": {},
     "output_type": "display_data"
    }
   ],
   "source": [
    "from IPython.core.display import display, HTML\n",
    "display(HTML(\"<style>.container { width:100% !important; }</style>\"))\n",
    "\n",
    "%load_ext autoreload\n",
    "%autoreload 2"
   ]
  },
  {
   "cell_type": "code",
   "execution_count": 2,
   "metadata": {
    "collapsed": true
   },
   "outputs": [],
   "source": [
    "from fnsa.entity import ENScopeDetector\n",
    "from fnsa.feature import EntityFeatureExtractor\n",
    "from fnsa.lexicon import get_en2scope, Lexicon\n",
    "from fnsa.scope import DRScopeDetector, IFScopeDetector\n",
    "from fnsa.graph import make_graph\n",
    "from fnsa.util import *\n",
    "import spacy"
   ]
  },
  {
   "cell_type": "code",
   "execution_count": 3,
   "metadata": {
    "collapsed": true
   },
   "outputs": [],
   "source": [
    "nlp = spacy.load('en_core_web_sm')\n",
    "sentences = load_sentences()"
   ]
  },
  {
   "cell_type": "code",
   "execution_count": 6,
   "metadata": {
    "collapsed": false
   },
   "outputs": [],
   "source": [
    "lexicon = Lexicon(nlp)\n",
    "dr_detector = DRScopeDetector()\n",
    "if_detector = IFScopeDetector()\n",
    "en_detector = ENScopeDetector()\n",
    "extractor = EntityFeatureExtractor(lexicon, detectors=[dr_detector, if_detector, en_detector])"
   ]
  },
  {
   "cell_type": "code",
   "execution_count": 10,
   "metadata": {
    "collapsed": false,
    "scrolled": false
   },
   "outputs": [
    {
     "name": "stdout",
     "output_type": "stream",
     "text": [
      "General Electric reports its operating profit increased to $20.5 million.\n",
      " [General Electric/en:ORG] reports its [operating profit/fe:+] [increased/dr:+] to [$20.5 million/en:MONEY] .\n",
      "                     reports                             \n",
      "        ________________|_____________                    \n",
      "       |                          increased              \n",
      "       |                 _____________|___________        \n",
      "       |         operating profit                 to     \n",
      "       |                |                         |       \n",
      "General Electric       its                  $20.5 million\n",
      "\n",
      "1. General Electric -->> [en_ORG, nd_reports, nd_its, fe_+_+_=, dr_+, nd_to, en_MONEY, nd_.]\n",
      "-----\n",
      "Ford Motor Company reported higher full-year profits on Thursday boosted by a buoyant period for its car loans unit.\n",
      " [Ford Motor Company/en:ORG] reported [higher/dr:+] [full-year profits/fe:+] on [Thursday/en:DATE] [boosted/dr:+] by a [buoyant period/fi:+] for its car loans unit .\n",
      "                                  reported                              \n",
      "        _____________________________|_______________                    \n",
      "       |                |            |            boosted               \n",
      "       |                |            |               |                   \n",
      "       |                |            |               by                 \n",
      "       |                |            |               |                   \n",
      "       |                |            |         buoyant period           \n",
      "       |                |            |       ________|_________          \n",
      "       |                |            |      |                 for       \n",
      "       |                |            |      |                  |         \n",
      "       |                |            |      |                 unit      \n",
      "       |                |            |      |         _________|_____    \n",
      "       |         full-year profit    on     |        |             loans\n",
      "       |                s            |      |        |               |  \n",
      "       |                |            |      |        |               |   \n",
      "Ford Motor Compa      higher      Thursday  a       its             car \n",
      "       ny                                                               \n",
      "\n",
      "1. Ford Motor Company -->> [en_ORG, nd_reported, dr_+, fe_+_+_=, nd_on, en_DATE, dr_+, nd_by, nd_a, fi_+_=, nd_for, nd_its, nd_car, nd_loans, nd_unit, nd_.]\n",
      "-----\n",
      "By agreeing to stay the proceedings, AT&T avoided a potential bombshell.\n",
      " By agreeing to stay the proceedings , [AT&T/en:ORG] [avoided/if:rev] a [potential bombshell/fi:-] .\n",
      "     avoided                                      \n",
      "  ______|________________________________          \n",
      " |              By                       |        \n",
      " |              |                        |         \n",
      " |           agreeing                    |        \n",
      " |              |                        |         \n",
      " |             stay                      |        \n",
      " |       _______|__________              |         \n",
      " |      |             proceedings potential bombsh\n",
      " |      |                  |            ell       \n",
      " |      |                  |             |         \n",
      "AT&T    to                the            a        \n",
      "\n",
      "1. AT&T -->> [nd_By, nd_agreeing, nd_to, nd_stay, nd_the, nd_proceedings, nd_,, en_ORG, if_rev, nd_a, fi_-_rev, nd_.]\n",
      "-----\n",
      "Shares of Standard Chartered rose 1.2%, while Royal Bank of Scotland shares rose 2% and Barclays shares were down 1.7%.\n",
      " [Shares/fe:+] of [Standard Chartered/en:ORG] [rose/dr:+] [1.2%/en:PERCENT] , while [Royal Bank/en:ORG] of [Scotland/en:GPE] [shares/fe:+] [rose/dr:+] [2%/en:PERCENT] and [Barclays/en:ORG] [shares/fe:+] were [down/dr:-] [1.7%/en:PERCENT] .\n",
      "                            rose                                   \n",
      "  ___________________________|____                                  \n",
      " |          |                    rose                              \n",
      " |          |            _________|________________________         \n",
      " |          |           |    |    |     shares             |       \n",
      " |          |           |    |    |       |                |        \n",
      " |        Shares        |    |    |   Royal Bank          were     \n",
      " |          |           |    |    |       |          ______|____    \n",
      " |          of          |    |    |       of      shares       down\n",
      " |          |           |    |    |       |         |           |   \n",
      "1.2% Standard Charter while  2%  and   Scotland  Barclays      1.7%\n",
      "            ed                                                     \n",
      "\n",
      "1. Standard Chartered -->> [fe_+_+_=, nd_of, en_ORG, dr_+, en_PERCENT, nd_,, dr_+, nd_.]\n",
      "2. Royal Bank -->> [fe_+_+_=, dr_+, en_PERCENT, nd_,, nd_while, en_ORG, nd_of, en_GPE, fe_+_+_=, dr_+, en_PERCENT, nd_and, fe_+_-_=, nd_were, dr_-, nd_.]\n",
      "3. Barclays -->> [dr_+, nd_while, fe_+_+_=, dr_+, en_PERCENT, nd_and, en_ORG, fe_+_-_=, nd_were, dr_-, en_PERCENT]\n",
      "-----\n",
      "Shares of Standard Chartered could not raise above $57.34, while Royal Bank of Scotland shares rose 2% and Barclays shares were down 1.7%.\n",
      " [Shares/fe:+] of [Standard Chartered/en:ORG] [could not/if:rev] [raise/dr:+] [above $57.34/en:MONEY] , while [Royal Bank/en:ORG] of [Scotland/en:GPE] [shares/fe:+] [rose/dr:+] [2%/en:PERCENT] and [Barclays/en:ORG] [shares/fe:+] were [down/dr:-] [1.7%/en:PERCENT] .\n",
      "                                              raise                                   \n",
      "     ___________________________________________|____                                  \n",
      "    |          |              |                     rose                              \n",
      "    |          |              |            __________|________________________         \n",
      "    |          |              |           |     |    |     shares             |       \n",
      "    |          |              |           |     |    |       |                |        \n",
      "    |          |            Shares        |     |    |   Royal Bank          were     \n",
      "    |          |              |           |     |    |       |          ______|____    \n",
      "    |          |              of          |     |    |       of      shares       down\n",
      "    |          |              |           |     |    |       |         |           |   \n",
      "could not above $57.34 Standard Charter while   2%  and   Scotland  Barclays      1.7%\n",
      "                              ed                                                      \n",
      "\n",
      "1. Standard Chartered -->> [fe_+_+_rev, nd_of, en_ORG, if_rev, dr_+, en_MONEY, nd_,, dr_+, nd_.]\n",
      "2. Royal Bank -->> [fe_+_+_rev, if_rev, dr_+, en_MONEY, nd_,, nd_while, en_ORG, nd_of, en_GPE, fe_+_+_=, dr_+, en_PERCENT, nd_and, fe_+_-_=, nd_were, dr_-, nd_.]\n",
      "3. Barclays -->> [dr_+, nd_while, fe_+_+_=, dr_+, en_PERCENT, nd_and, en_ORG, fe_+_-_=, nd_were, dr_-, en_PERCENT]\n",
      "-----\n",
      "German car manufacturer Volkswagen has been engulfed in a growing scandal over cheating on emissions tests.\n",
      " [German/en:NORP] car manufacturer [Volkswagen/en:ORG] has been [engulfed/dr:-] in a [growing/dr:+] [scandal/lm:-] over [cheating/lm:-] on emissions tests .\n",
      "                             engulfed                              \n",
      "  ______________________________|_____________________________      \n",
      " |   |               |                       |               over  \n",
      " |   |               |                       |                |     \n",
      " |   |               |                       |             cheating\n",
      " |   |               |                       |                |     \n",
      " |   |           Volkswagen                  in               on   \n",
      " |   |               |                       |                |     \n",
      " |   |          manufacturer              scandal           tests  \n",
      " |   |      _________|__________        _____|_______         |     \n",
      "has been German                car     a          growing emissions\n",
      "\n",
      "1. Volkswagen -->> [en_NORP, nd_car, nd_manufacturer, en_ORG, nd_has, nd_been, dr_-, nd_in, nd_a, dr_+, lm_-_=, nd_over, lm_-_=, nd_on, nd_emissions, nd_tests, nd_.]\n",
      "-----\n",
      "CVS Pharmacy Ltd asked the city of Seattle to also file a separate lawsuit against Purdue Inc as well as units of Teva Pharmaceutical, Johnson & Johnson, and Allergan Ltd .\n",
      " [CVS Pharmacy Ltd/en:ORG] asked the city of [Seattle/en:GPE] to also file a separate [lawsuit/if:lit] [against/lm:-] [Purdue Inc/en:ORG] as [well/lm:+] as units of [Teva Pharmaceutical/en:ORG] , [Johnson & Johnson/en:ORG] , and [Allergan Ltd/en:ORG] .\n",
      "                                           asked                                                                       \n",
      "        _____________________________________|________________                                                          \n",
      "       |              |                                      file                                                      \n",
      "       |              |             __________________________|_________                                                \n",
      "       |              |            |   |                             lawsuit                                           \n",
      "       |              |            |   |      __________________________|________________________                       \n",
      "       |              |            |   |     |      |         |               |                units                   \n",
      "       |              |            |   |     |      |         |               |                  |                      \n",
      "       |              |            |   |     |      |         |               |                  of                    \n",
      "       |              |            |   |     |      |         |               |                  |                      \n",
      "       |             city          |   |     |      |         |               |           Teva Pharmaceuti             \n",
      "       |              |            |   |     |      |         |               |                 cal                    \n",
      "       |           ___|______      |   |     |      |         |               |                  |                      \n",
      "       |          |          of    |   |     |      |      against            as          Johnson & Johnso             \n",
      "       |          |          |     |   |     |      |         |               |                  n                     \n",
      "       |          |          |     |   |     |      |         |          _____|___      _________|______________        \n",
      "CVS Pharmacy Ltd the      Seattle  to also   a   separate Purdue Inc    as       well and                  Allergan Ltd\n",
      "\n",
      "1. CVS Pharmacy Ltd -->> [en_ORG, nd_asked, nd_the, nd_city, nd_of, en_GPE, nd_to, nd_also, nd_file, nd_a, nd_separate, if_lit, lm_-_lit, nd_as, nd_units, nd_.]\n",
      "2. Purdue Inc -->> [nd_asked, nd_to, nd_also, nd_file, nd_a, nd_separate, if_lit, lm_-_lit, en_ORG, nd_as, lm_+_=, nd_as, nd_units, nd_of]\n",
      "3. Teva Pharmaceutical -->> [nd_file, nd_a, nd_separate, if_lit, lm_-_lit, nd_as, nd_units, nd_of, en_ORG, nd_,, en_ORG, nd_,, nd_and, en_ORG]\n",
      "4. Johnson & Johnson -->> [nd_file, nd_a, nd_separate, if_lit, lm_-_lit, nd_as, nd_units, nd_of, en_ORG, nd_,, en_ORG, nd_,, nd_and, en_ORG]\n",
      "5. Allergan Ltd -->> [nd_file, nd_a, nd_separate, if_lit, lm_-_lit, nd_as, nd_units, nd_of, en_ORG, nd_,, en_ORG, nd_,, nd_and, en_ORG]\n",
      "-----\n"
     ]
    }
   ],
   "source": [
    "def show_features(sentence, extractor):\n",
    "    doc, data = extractor(sentence)\n",
    "    entities, feature_data = data\n",
    "    show(doc, index=None, include_text=True, include_tree=True)\n",
    "    index = 0\n",
    "    for entity, features in zip(entities, feature_data):\n",
    "        index += 1\n",
    "        print(\"%d. %s -->> [%s]\" % (index, entity,  \", \".join(features)))\n",
    "    return doc\n",
    "for sentence in sentences: \n",
    "    doc = show_features(sentence, extractor)\n",
    "    print(\"-----\")"
   ]
  }
 ],
 "metadata": {
  "anaconda-cloud": {},
  "kernelspec": {
   "display_name": "Python [conda env:fsa]",
   "language": "python",
   "name": "conda-env-fsa-py"
  },
  "language_info": {
   "codemirror_mode": {
    "name": "ipython",
    "version": 3
   },
   "file_extension": ".py",
   "mimetype": "text/x-python",
   "name": "python",
   "nbconvert_exporter": "python",
   "pygments_lexer": "ipython3",
   "version": "3.5.5"
  }
 },
 "nbformat": 4,
 "nbformat_minor": 2
}
