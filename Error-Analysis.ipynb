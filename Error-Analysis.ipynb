{
 "cells": [
  {
   "cell_type": "code",
   "execution_count": 1,
   "metadata": {
    "collapsed": false
   },
   "outputs": [
    {
     "data": {
      "text/html": [
       "<style>.container { width:100% !important; }</style>"
      ],
      "text/plain": [
       "<IPython.core.display.HTML object>"
      ]
     },
     "metadata": {},
     "output_type": "display_data"
    }
   ],
   "source": [
    "from IPython.core.display import display, HTML\n",
    "display(HTML(\"<style>.container { width:100% !important; }</style>\"))\n",
    "\n",
    "import matplotlib.pyplot as plt\n",
    "%matplotlib inline  \n",
    "\n",
    "import numpy as np\n",
    "\n",
    "import warnings\n",
    "warnings.filterwarnings(\"ignore\")\n",
    "\n",
    "%load_ext autoreload\n",
    "%autoreload 2"
   ]
  },
  {
   "cell_type": "code",
   "execution_count": 2,
   "metadata": {
    "collapsed": true
   },
   "outputs": [],
   "source": [
    "from fnsa.classifier.data import load as load_data\n",
    "from fnsa.classifier.util import cross_validate, evaluate, plot_confusion_matrix\n",
    "\n",
    "from sklearn.externals import joblib"
   ]
  },
  {
   "cell_type": "code",
   "execution_count": 3,
   "metadata": {
    "collapsed": false
   },
   "outputs": [],
   "source": [
    "from fnsa.feature import FeatureExtractor, VERY_STRICT_F_TYPE, STRICT_F_TYPE, REGULAR_F_TYPE, FLUSH_F_TYPE\n",
    "from fnsa.lexicon import Lexicon\n",
    "from fnsa.scope import DRScopeDetector, IFScopeDetector\n",
    "#from fnsa.graph import make_graph\n",
    "from fnsa.util import *\n",
    "from fnsa.classifier.util import evaluate, fit, split\n",
    "import spacy"
   ]
  },
  {
   "cell_type": "code",
   "execution_count": 30,
   "metadata": {
    "collapsed": false
   },
   "outputs": [],
   "source": [
    "ftype = VERY_STRICT_F_TYPE\n",
    "#ftype = STRICT_F_TYPE\n",
    "#ftype = REGULAR_F_TYPE\n",
    "#ftype = FLUSH_F_TYPE\n",
    "nlp = spacy.load('en_core_web_sm')\n",
    "lexicon = Lexicon(nlp)\n",
    "dr_detector = DRScopeDetector()\n",
    "if_detector = IFScopeDetector()\n",
    "extractor = FeatureExtractor(lexicon, detectors=[dr_detector, if_detector], ftype=ftype)"
   ]
  },
  {
   "cell_type": "code",
   "execution_count": 37,
   "metadata": {
    "collapsed": false
   },
   "outputs": [
    {
     "name": "stdout",
     "output_type": "stream",
     "text": [
      "Accuracy = 0.830.\n"
     ]
    },
    {
     "data": {
      "image/png": "[encoded data removed]",
      "text/plain": [
       "<Figure size 576x576 with 2 Axes>"
      ]
     },
     "metadata": {},
     "output_type": "display_data"
    }
   ],
   "source": [
    "fname = 'all-agree-%d' % ftype\n",
    "model = 'nbsvm'\n",
    "codes = [-1, 0, 1]\n",
    "code2sentiment = {-1:'-', 0:'=', 1:'+'}\n",
    "\n",
    "sentences, X, y = load_data(fname + \".tsv\")\n",
    "sentences_train, X_train, y_train, sentences_test, X_test, y_test = split(sentences, X, y, test_size=0.2)\n",
    "classifier = fit(X_train, y_train)\n",
    "accuracy, cm = evaluate(classifier, X_test, y_test)\n",
    "plot_confusion_matrix(cm, codes)\n",
    "print(\"Accuracy = %0.3f.\" % (accuracy,))"
   ]
  },
  {
   "cell_type": "code",
   "execution_count": 38,
   "metadata": {
    "collapsed": false
   },
   "outputs": [
    {
     "name": "stdout",
     "output_type": "stream",
     "text": [
      "                      Most Important Features for Classification\n",
      "                      ==========================================\n",
      "        Negative\t               Neutral\t                      Positive\n",
      "\n",
      "[-] 128.06: fe_+_-_=        \t[=] 659.00: fi_=_=          \t[+] 247.32: fe_+_+_=        \t\n",
      "[-]  40.00: fi_=_=          \t[=] 227.35: lm_+_=          \t[+]  61.21: lm_+_=          \t\n",
      "[-]  22.74: lm_-_=          \t[=] 112.17: lm_-_=          \t[+]  50.00: fi_=_=          \t\n",
      "[-]   6.86: fe_+_-_= lm_-_= \t[=]  39.65: lm_+_= lm_+_=   \t[+]  20.23: lm_+_= lm_+_=   \t\n",
      "[-]   6.61: fe_-_-_=        \t[=]  24.12: lm_-_rev        \t[+]  17.14: fe_+_+_= fe_+_+_=\t\n",
      "[-]   6.34: fe_-_+_=        \t[=]  23.38: fe_+_+_=        \t[+]  14.36: fe_-_-_=        \t\n",
      "[-]   5.61: fe_+_-_rev      \t[=]  10.61: lm_+_= lm_-_=   \t[+]  13.39: lm_-_=          \t\n",
      "[-]   5.59: lm_+_=          \t[=]   9.68: lm_+_mod        \t[+]   8.79: lm_+_= fe_+_+_= \t\n",
      "[-]   5.19: fe_+_-_= fe_+_-_=\t[=]   8.53: lm_-_= lm_-_=   \t[+]   8.26: fe_+_+_= lm_+_= \t\n",
      "[-]   5.00: fe_+_-_lit      \t[=]   5.63: lm_-_= lm_+_=   \t[+]   8.14: fe_-_+_=        \t\n",
      "[-]   3.29: lm_-_= lm_-_=   \t[=]   5.03: lm_+_rev        \t[+]   7.39: fe_+_+_rev      \t\n",
      "[-]   2.90: lm_+_rev        \t[=]   4.71: fe_+_+_= lm_+_= \t[+]   5.65: lm_+_= lm_-_=   \t\n",
      "[-]   2.63: lm_-_= fe_+_-_= \t[=]   4.61: lm_+_= fe_+_+_= \t[+]   5.41: fi_+_lit        \t\n",
      "[-]   2.56: fe_+_+_=        \t[=]   2.66: fe_+_-_=        \t[+]   5.09: fe_+_+_= lm_-_= \t\n",
      "[-]   2.43: lm_+_= fe_+_-_= \t[=]   2.00: lm_-_unc        \t[+]   4.42: fi_+_=          \t\n",
      "[-]   2.20: fe_+_-_= lm_+_= \t[=]   2.00: lm_+_lit        \t[+]   3.51: fe_+_+_mod      \t\n",
      "[-]   2.00: fe_+_-_mod      \t[=]   1.65: lm_-_lit        \t[+]   3.02: lm_-_= lm_+_=   \t\n",
      "[-]   1.86: lm_-_= fe_-_+_= \t[=]   1.62: lm_-_= fe_+_-_= \t[+]   2.58: lm_+_mod        \t\n",
      "[-]   1.73: lm_-_unc        \t[=]   1.56: lm_+_= lm_-_rev \t[+]   2.42: fi_+_= lm_+_=   \t\n",
      "[-]   1.55: lm_-_= lm_+_=   \t[=]   1.00: lm_+_unc        \t[+]   2.00: lm_+_lit        \t\n",
      "[-]   1.44: fe_+_-_= fe_+_+_=\t[=]   1.00: fi_+_=          \t[+]   1.85: lm_+_= fe_+_-_= \t\n",
      "[-]   1.33: lm_-_unc lm_-_= \t[=]   1.00: fe_-_+_unc      \t[+]   1.77: fe_+_-_=        \t\n",
      "[-]   1.00: lm_-_rev        \t[=]   1.00: fe_+_-_mod      \t[+]   1.43: lm_-_= fe_+_+_= \t\n",
      "[-]   0.99: lm_-_= fe_+_+_= \t[=]   1.00: fe_+_-_lit      \t[+]   1.43: fi_+_= lm_-_=   \t\n",
      "[-]   0.97: lm_+_= lm_-_=   \t[=]   1.00: fe_+_+_rev      \t[+]   1.41: lm_-_rev        \t\n"
     ]
    }
   ],
   "source": [
    "def important_features(classifier, n=20):\n",
    "    vectorizer = classifier.named_steps['vectorizer']\n",
    "    transformer = classifier.named_steps['transformer'] \n",
    "    estimator = classifier.named_steps['estimator'] \n",
    "    class_labels = estimator.classes_\n",
    "    feature_names = vectorizer.get_feature_names()\n",
    "    topn_class_negative = sorted(zip(estimator.feature_count_[0], feature_names),reverse=True)[:n]\n",
    "    topn_class_neutral = sorted(zip(estimator.feature_count_[1], feature_names),reverse=True)[:n]\n",
    "    topn_class_positive = sorted(zip(estimator.feature_count_[2], feature_names),reverse=True)[:n]\n",
    "    print(\"%64s\" % (\"Most Important Features for Classification\"))\n",
    "    print(\"%64s\" % (\"=\" * len(\"Most Important Features for Classification\")))\n",
    "    print(\"%16s\\t%22s\\t%30s\\n\" % (\"Negative\", \"Neutral\", \"Positive\"))\n",
    "    for i in range(n):\n",
    "        coef_negative, feat_negative = topn_class_negative[i]\n",
    "        coef_neutral, feat_neutral = topn_class_neutral[i]\n",
    "        coef_positive, feat_positive = topn_class_positive[i]\n",
    "        print(\"[-] %6.2f: %-16s\\t[=] %6.2f: %-16s\\t[+] %6.2f: %-16s\\t\" % (coef_negative, feat_negative, coef_neutral, feat_neutral, coef_positive, feat_positive)) \n",
    "    return\n",
    "important_features(classifier, n=25)"
   ]
  },
  {
   "cell_type": "code",
   "execution_count": 29,
   "metadata": {
    "collapsed": false
   },
   "outputs": [
    {
     "name": "stdout",
     "output_type": "stream",
     "text": [
      "[+||-] 1910. TietoEnator was down 1.13 pct to 18.38 , extending recent lows after last week 's second-quarter report , dealers said .\n",
      " [TietoEnator/xe:org] was [down/dr:-] [1.13/xe:car] pct to [18.38/xe:car] , [extending/dr:+] recent [lows/dr:-] after [last week 's/xe:dat] [second-quarter/xe:dat] report , [dealers/fe:+] said .\n",
      "fe_+_+_=\n",
      "-----\n"
     ]
    }
   ],
   "source": [
    "def show_examples(sentiment='-', feature='fe_+_-_rev'):\n",
    "    examples = [i for i, x in enumerate(X) if x == feature and CODE_TO_SENTIMENT[y[i]] == sentiment]\n",
    "    for i in examples: \n",
    "        doc, features, prediction = predict(classifier, extractor, sentences[i])\n",
    "        prediction = CODE_TO_SENTIMENT[prediction]\n",
    "        print(\"[%s||%s] %d. %s\" % (prediction, CODE_TO_SENTIMENT[y[i]], i, sentences[i]))\n",
    "        show(doc, include_text=False, include_tree=False)\n",
    "        print(features)\n",
    "        print('-----')\n",
    "\n",
    "show_examples(sentiment='-', feature='fe_+_+_=')"
   ]
  },
  {
   "cell_type": "code",
   "execution_count": null,
   "metadata": {
    "collapsed": false
   },
   "outputs": [],
   "source": [
    "vectorizer = classifier.named_steps['vectorizer']\n",
    "vectorizer.get_feature_names()"
   ]
  },
  {
   "cell_type": "code",
   "execution_count": null,
   "metadata": {
    "collapsed": false
   },
   "outputs": [],
   "source": [
    "analyzer = vectorizer.build_analyzer()\n",
    "analyzer('fe_-_+_=')"
   ]
  },
  {
   "cell_type": "code",
   "execution_count": 39,
   "metadata": {
    "collapsed": false
   },
   "outputs": [
    {
     "name": "stdout",
     "output_type": "stream",
     "text": [
      "Profit dropped by 33% from the third quarter.\n",
      " [Profit/fe:+] [dropped/dr:-] by [33%/xe:per] from [the third quarter/xe:dat] .\n",
      "       dropped                 \n",
      "   _______|___________          \n",
      "  |       by         from      \n",
      "  |       |           |         \n",
      "Profit   33%   the third quarte\n",
      "                      r        \n",
      "\n",
      "fe_+_-_= -->> -\n",
      "-----\n",
      "Earnings per share ( EPS ) amounted to $0.98 , up from the loss of €0.02 .\n",
      " [Earnings per share/fe:+] ( [EPS/fe:+] ) amounted to $ [0.98/xe:mon] , [up/dr:+] from the [loss/fe:-] of € [0.02/xe:mon] .\n",
      "              amounted              \n",
      "       __________|__________         \n",
      "      |          |          up      \n",
      "      |          |          |        \n",
      "      |          |         from     \n",
      "      |          |          |        \n",
      "      |          |         loss     \n",
      "      |          |       ___|____    \n",
      "Earnings per     to     |        of \n",
      "    share        |      |        |  \n",
      "      |          |      |        |   \n",
      "     EPS        0.98    |       0.02\n",
      "      |          |      |        |   \n",
      "     ...         $     the       €  \n",
      "\n",
      "fe_-_+_= -->> +\n",
      "-----\n",
      "TietoEnator was down 1.13 pct to 18.38 , extending recent lows after last week 's second-quarter report , dealers said .\n",
      " [TietoEnator/xe:org] was [down/dr:-] [1.13/xe:car] pct to [18.38/xe:car] , [extending/dr:+] [recent lows/fe:-] after [last week 's/xe:dat] [second-quarter/xe:dat] report , [dealers/fe:+] said .\n",
      "            said                                                                  \n",
      "    _________|__________________                                                   \n",
      "   |                           was                                                \n",
      "   |          __________________|____________________                              \n",
      "   |         |            |                      extending                        \n",
      "   |         |            |               ___________|_________                    \n",
      "   |         |           down            |                   after                \n",
      "   |         |        ____|_____         |                     |                   \n",
      "   |         |      pct         to       |                   report               \n",
      "   |         |       |          |        |            _________|__________         \n",
      "dealers TietoEnator 1.13      18.38 recent lows last week 's        second-quarter\n",
      "\n",
      "fe_-_+_= fe_+_-_= -->> -\n",
      "-----\n"
     ]
    }
   ],
   "source": [
    "for sentence in [\n",
    "    'Profit dropped by 33% from the third quarter.',\n",
    "    'Earnings per share ( EPS ) amounted to $0.98 , up from the loss of €0.02 .',\n",
    "    \"TietoEnator was down 1.13 pct to 18.38 , extending recent lows after last week 's second-quarter report , dealers said .\"\n",
    "]:\n",
    "    doc, features, prediction = predict(classifier, extractor, sentence)\n",
    "    prediction = CODE_TO_SENTIMENT[prediction]\n",
    "    show(doc, include_text=True, include_tree=True)\n",
    "    print(\"%s -->> %s\" % (features, prediction))\n",
    "    print('-----')"
   ]
  },
  {
   "cell_type": "code",
   "execution_count": null,
   "metadata": {
    "collapsed": false
   },
   "outputs": [],
   "source": [
    "y_pred_train = classifier.predict(X_train)\n",
    "cnt = 0\n",
    "for i in range(len(y_pred_train)):\n",
    "    #print(sentences_train[i], X_train[i], y_pred_train[i], y_train[i])\n",
    "    predicted = CODE_TO_SENTIMENT[y_pred_train[i]]\n",
    "    actual = CODE_TO_SENTIMENT[y_train[i]]\n",
    "    print(\"[%s||%s] %s\\n\\t%s\" % (predicted, actual, X_train[i], sentences_train[i]))\n",
    "    cnt += 1\n",
    "    if cnt == 10: break"
   ]
  },
  {
   "cell_type": "code",
   "execution_count": null,
   "metadata": {
    "collapsed": false
   },
   "outputs": [],
   "source": [
    "for sentence in [\n",
    "    'Construction is scheduled to start in April-June 2007 and to be completed in early 2008 .',\n",
    "    'At this growth rate , paying off the national debt will be extremely painful .',\n",
    "    'Major Order in India: Comptel Corporation has received a significant long-term order for mediation and provisioning solutions being used by a leading operator in India .',\n",
    "    'Production levels have been agreed with producers a long time ago , so a fall in consumption will lead to losses .',\n",
    "    'Operating profit decreased to nearly EUR 1.7 mn , however .',\n",
    "    'The move was triggered by weak demand for forestry equipment and the uncertain market situation .',\n",
    "    'Finnish KCI Konecranes has been awarded an order for four hot metal ladle cranes by Indian steel producer Bhushan Steel & Strips to be delivered in 2007 .',\n",
    "    \"\"\"28 October 2010 - Finnish wood products technology supplier Raute Oyj HEL : RUTAV said today it swung to a net profit of EUR3m for the first nine months of 2010 versus a net loss of EUR5 .2 m for the same period a year earlier .\"\"\",\n",
    "    \"\"\"` The stable outlook reflects Nokia 's strong market position in the global mobile handset market , strong cash flow generation , and very conservative balance sheet , ' said Raab .\"\"\",\n",
    "]:\n",
    "    doc, features = extractor(sentence)\n",
    "    show(doc, include_text=True)\n",
    "    features_as_text = \" \".join(features)\n",
    "    print(features, '-->>', code2sentiment[classifier.predict([features_as_text])[0]])\n",
    "    print('-----')"
   ]
  },
  {
   "cell_type": "code",
   "execution_count": null,
   "metadata": {
    "collapsed": true
   },
   "outputs": [],
   "source": [
    "code2position = {-1:0, 0:1, 1:2}\n",
    "\n",
    "def correct_confidence(classifier, X, y, index):\n",
    "    x = X[index]\n",
    "    probs = classifier.predict_proba([x])[0]\n",
    "    position = code2position[y[index]]\n",
    "    return probs[position]    \n",
    "\n",
    "def show_classification_result(classifier, sentences, X, y, y_predicted, index):\n",
    "    sentence = sentences[index]\n",
    "    actual = code2sentiment[y[index]]\n",
    "    predicted = code2sentiment[y_predicted[index]]\n",
    "    print(\"%d [%s||%s] %s\" % (index, predicted, actual, sentence))\n",
    "    doc, features = extractor(sentence)\n",
    "    show(doc, index=None, include_text=False, include_tree=False)\n",
    "    print(\"<<%s>>\" % X[index])\n",
    "    show_tree(doc)\n"
   ]
  },
  {
   "cell_type": "code",
   "execution_count": null,
   "metadata": {
    "collapsed": false
   },
   "outputs": [],
   "source": [
    "%%time\n",
    "indices = range(len(y_test))\n",
    "indices = sorted(indices, key=lambda index: correct_confidence(classifier, X_test, y_test, index))\n",
    "y_predicted = classifier.predict(X_test)"
   ]
  },
  {
   "cell_type": "code",
   "execution_count": null,
   "metadata": {
    "collapsed": false,
    "scrolled": false
   },
   "outputs": [],
   "source": [
    "import random\n",
    "n = len(y_test)\n",
    "start = 0\n",
    "stop = 10\n",
    "candidate_indices = indices[:48]\n",
    "\n",
    "index = random.choice(candidate_indices)\n",
    "#index = 233\n",
    "show_classification_result(classifier, sentences_test, X_test, y_test, y_predicted, index)"
   ]
  },
  {
   "cell_type": "code",
   "execution_count": null,
   "metadata": {
    "collapsed": false
   },
   "outputs": [],
   "source": [
    "pattern = 'fe_+_-_='\n",
    "value = 1\n",
    "train_instances = [i for i in range(len(y_train)) if X_train[i] == pattern and y_train[i] == value]\n",
    "n_train = len(train_instances)\n",
    "test_instances = [i for i in range(len(y_test)) if X_test[i] == pattern and y_test[i] == value]\n",
    "n_test = len(test_instances)\n",
    "pred_instances = [i for i in range(len(y_test)) if X_test[i] == pattern and y_predicted[i] == value]\n",
    "n_pred = len(pred_instances)\n",
    "print(\"pattern = %s, value = %d, n-train = %d, n-test = %d, n-pred = %d\" % (pattern, value, n_train, n_test, n_pred))"
   ]
  },
  {
   "cell_type": "code",
   "execution_count": null,
   "metadata": {
    "collapsed": false
   },
   "outputs": [],
   "source": [
    "from collections import Counter\n",
    "\n",
    "bags = set([])\n",
    "for xx in X_test:\n",
    "    items = xx.split()\n",
    "    items.sort()\n",
    "    bag = \", \".join(items)\n",
    "    bags.add(bag)\n",
    "print(len(bags))\n",
    "for bag in bags: print(bag)"
   ]
  },
  {
   "cell_type": "code",
   "execution_count": null,
   "metadata": {
    "collapsed": false
   },
   "outputs": [],
   "source": [
    "for i in train_instances:\n",
    "    print(y_train[i], sentences_train[i], X_train[i])"
   ]
  },
  {
   "cell_type": "code",
   "execution_count": null,
   "metadata": {
    "collapsed": false
   },
   "outputs": [],
   "source": [
    "%%time \n",
    "sentences, X, y = load_data(fname + \".tsv\")\n",
    "indices = range(len(y))\n",
    "indices = sorted(indices, key=lambda index: correct_confidence(classifier, X, y, index))\n",
    "y_predicted = classifier.predict(X)\n",
    "\n",
    "accuracy, cm = evaluate(classifier, X, y)\n",
    "plot_confusion_matrix(cm, codes)\n",
    "print(\"Accuracy = %0.3f.\" % (accuracy,))"
   ]
  },
  {
   "cell_type": "code",
   "execution_count": null,
   "metadata": {
    "collapsed": false
   },
   "outputs": [],
   "source": [
    "def predict(classifier, sentence):\n",
    "    doc, features = extractor(sentence)\n",
    "    features = [token.lower() for token in features]\n",
    "    print(\" \".join(features))\n",
    "    return classifier.predict(features)[0]\n",
    "    \n",
    "sentence = \"The Group's operative EBIT will probably be negative.\"\n",
    "predict(classifier, sentence)"
   ]
  },
  {
   "cell_type": "markdown",
   "metadata": {},
   "source": [
    "## Sentence-Level Sentiment Analysis of Financial News Test Dataset"
   ]
  },
  {
   "cell_type": "code",
   "execution_count": null,
   "metadata": {
    "collapsed": false
   },
   "outputs": [],
   "source": [
    "fname = 'ad-hoc'\n",
    "if include_words: fname = '%s-with-words' % fname\n",
    "sl_sentences, sl_X, sl_y = load_data(fname + \".tsv\")\n",
    "#sl_y = [-1 if code == 0 else 1 for code in sl_y]\n",
    "accuracy, cm = evaluate(classifier, sl_X, sl_y)\n",
    "plot_confusion_matrix(cm, codes)\n",
    "print(\"Accuracy = %0.3f.\" % (accuracy,))"
   ]
  },
  {
   "cell_type": "code",
   "execution_count": null,
   "metadata": {
    "collapsed": false
   },
   "outputs": [],
   "source": [
    "indices = range(len(sl_y))\n",
    "indices = sorted(indices, key=lambda index: correct_confidence(classifier, sl_X, sl_y, index))\n",
    "\n",
    "sl_y_predicted = classifier.predict(sl_X)"
   ]
  },
  {
   "cell_type": "code",
   "execution_count": null,
   "metadata": {
    "collapsed": false,
    "scrolled": false
   },
   "outputs": [],
   "source": [
    "start = 100\n",
    "stop = 110\n",
    "for index in indices[start:stop]:\n",
    "    show_classification_result(classifier, sl_sentences, sl_X, sl_y, sl_y_predicted, index)\n",
    "    print('-----')"
   ]
  },
  {
   "cell_type": "code",
   "execution_count": null,
   "metadata": {
    "collapsed": true
   },
   "outputs": [],
   "source": [
    "path = './model/nbsvm-%s.pkl' % fname\n",
    "joblib.dump(classifier, path)\n",
    "classifier_loaded = joblib.load(path)"
   ]
  }
 ],
 "metadata": {
  "anaconda-cloud": {},
  "kernelspec": {
   "display_name": "Python [conda env:fsa]",
   "language": "python",
   "name": "conda-env-fsa-py"
  },
  "language_info": {
   "codemirror_mode": {
    "name": "ipython",
    "version": 3
   },
   "file_extension": ".py",
   "mimetype": "text/x-python",
   "name": "python",
   "nbconvert_exporter": "python",
   "pygments_lexer": "ipython3",
   "version": "3.5.5"
  }
 },
 "nbformat": 4,
 "nbformat_minor": 2
}
