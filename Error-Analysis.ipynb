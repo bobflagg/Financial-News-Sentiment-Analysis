{
 "cells": [
  {
   "cell_type": "code",
   "execution_count": 18,
   "metadata": {
    "collapsed": false
   },
   "outputs": [
    {
     "data": {
      "text/html": [
       "<style>.container { width:100% !important; }</style>"
      ],
      "text/plain": [
       "<IPython.core.display.HTML object>"
      ]
     },
     "metadata": {},
     "output_type": "display_data"
    },
    {
     "name": "stdout",
     "output_type": "stream",
     "text": [
      "The autoreload extension is already loaded. To reload it, use:\n",
      "  %reload_ext autoreload\n"
     ]
    }
   ],
   "source": [
    "from IPython.core.display import display, HTML\n",
    "display(HTML(\"<style>.container { width:100% !important; }</style>\"))\n",
    "\n",
    "import matplotlib.pyplot as plt\n",
    "%matplotlib inline  \n",
    "\n",
    "import numpy as np\n",
    "\n",
    "import warnings\n",
    "warnings.filterwarnings(\"ignore\")\n",
    "\n",
    "%load_ext autoreload\n",
    "%autoreload 2"
   ]
  },
  {
   "cell_type": "code",
   "execution_count": 19,
   "metadata": {
    "collapsed": true
   },
   "outputs": [],
   "source": [
    "from fnsa.classifier.data import load as load_data\n",
    "from fnsa.classifier.util import cross_validate, evaluate, plot_confusion_matrix\n",
    "\n",
    "from sklearn.externals import joblib"
   ]
  },
  {
   "cell_type": "code",
   "execution_count": 40,
   "metadata": {
    "collapsed": false
   },
   "outputs": [],
   "source": [
    "from fnsa.feature import FeatureExtractor, VERY_STRICT_F_TYPE, STRICT_F_TYPE, REGULAR_F_TYPE, FLUSH_F_TYPE\n",
    "from fnsa.lexicon import Lexicon\n",
    "from fnsa.scope import DRScopeDetector, IFScopeDetector\n",
    "#from fnsa.graph import make_graph\n",
    "from fnsa.util import *\n",
    "from fnsa.classifier.util import evaluate, fit, split\n",
    "import spacy"
   ]
  },
  {
   "cell_type": "code",
   "execution_count": 60,
   "metadata": {
    "collapsed": false
   },
   "outputs": [],
   "source": [
    "ftype = VERY_STRICT_F_TYPE\n",
    "#ftype = STRICT_F_TYPE\n",
    "#ftype = REGULAR_F_TYPE\n",
    "#ftype = FLUSH_F_TYPE\n",
    "nlp = spacy.load('en_core_web_sm')\n",
    "lexicon = Lexicon(nlp)\n",
    "dr_detector = DRScopeDetector()\n",
    "if_detector = IFScopeDetector()\n",
    "extractor = FeatureExtractor(lexicon, detectors=[dr_detector, if_detector], ftype=ftype)"
   ]
  },
  {
   "cell_type": "code",
   "execution_count": 63,
   "metadata": {
    "collapsed": false
   },
   "outputs": [
    {
     "name": "stdout",
     "output_type": "stream",
     "text": [
      "Accuracy = 0.845.\n"
     ]
    },
    {
     "data": {
      "image/png": "[encoded data removed]",
      "text/plain": [
       "<Figure size 576x576 with 2 Axes>"
      ]
     },
     "metadata": {},
     "output_type": "display_data"
    }
   ],
   "source": [
    "fname = 'all-agree-%d' % ftype\n",
    "model = 'nb'\n",
    "codes = [-1, 0, 1]\n",
    "code2sentiment = {-1:'-', 0:'=', 1:'+'}\n",
    "\n",
    "sentences, X, y = load_data(fname + \".tsv\")\n",
    "sentences_train, X_train, y_train, sentences_test, X_test, y_test = split(sentences, X, y)\n",
    "classifier = fit(X_train, y_train)\n",
    "accuracy, cm = evaluate(classifier, X_test, y_test)\n",
    "plot_confusion_matrix(cm, codes)\n",
    "print(\"Accuracy = %0.3f.\" % (accuracy,))"
   ]
  },
  {
   "cell_type": "code",
   "execution_count": 64,
   "metadata": {
    "collapsed": false
   },
   "outputs": [
    {
     "name": "stdout",
     "output_type": "stream",
     "text": [
      "Important phrases in negative sentences\n",
      "\n",
      "[-] 125.78: fe_+_-_=\n",
      "[-]  42.00: fi_=_=\n",
      "[-]  24.56: lm_-_=\n",
      "[-]   7.87: fe_-_+_=\n",
      "[-]   7.45: lm_+_=\n",
      "[-]   6.89: fe_-_-_=\n",
      "[-]   6.06: fe_+_-_= lm_-_=\n",
      "[-]   4.54: fe_+_-_rev\n",
      "[-]   4.39: fe_+_-_= fe_+_-_=\n",
      "[-]   4.14: lm_-_= lm_-_=\n",
      "[-]   3.76: fe_+_-_= lm_+_=\n",
      "[-]   3.73: lm_+_= fe_+_-_=\n",
      "[-]   2.91: lm_+_rev\n",
      "[-]   2.60: lm_-_= lm_+_=\n",
      "[-]   2.42: fe_+_+_=\n",
      "-----------------------------------------\n",
      "\n",
      "Important phrases in neutral sentences\n",
      "\n",
      "[=] 634.00: fi_=_=\n",
      "[=] 245.53: lm_+_=\n",
      "[=] 100.97: lm_-_=\n",
      "[=]  33.39: lm_+_= lm_+_=\n",
      "[=]  29.96: fe_+_+_=\n",
      "[=]  25.11: lm_-_rev\n",
      "[=]  18.06: fe_+_-_=\n",
      "[=]  11.11: lm_+_= lm_-_=\n",
      "[=]   8.32: lm_+_mod\n",
      "[=]   7.58: lm_+_= fe_+_+_=\n",
      "[=]   5.01: lm_-_= lm_+_=\n",
      "[=]   4.69: fe_+_+_= lm_+_=\n",
      "[=]   4.65: lm_-_= lm_-_=\n",
      "[=]   4.04: lm_+_rev\n",
      "[=]   3.00: lm_+_lit\n",
      "-----------------------------------------\n",
      "\n",
      "Important phrases in positive sentences\n",
      "\n",
      "[+] 245.60: fe_+_+_=\n",
      "[+]  61.45: lm_+_=\n",
      "[+]  50.00: fi_=_=\n",
      "[+]  22.41: lm_+_= lm_+_=\n",
      "[+]  16.88: fe_-_-_=\n",
      "[+]  16.72: fe_+_+_= fe_+_+_=\n",
      "[+]  11.66: lm_-_=\n",
      "[+]  10.20: fi_+_=\n",
      "[+]   9.77: fe_+_+_= lm_+_=\n",
      "[+]   9.51: lm_+_= fe_+_+_=\n",
      "[+]   8.14: fe_-_+_=\n",
      "[+]   6.39: fe_+_+_rev\n",
      "[+]   5.66: fe_+_-_=\n",
      "[+]   5.43: lm_+_= lm_-_=\n",
      "[+]   3.79: fe_+_+_= lm_-_=\n"
     ]
    }
   ],
   "source": [
    "def important_features(classifier, n=20):\n",
    "    vectorizer = classifier.named_steps['vectorizer']\n",
    "    transformer = classifier.named_steps['transformer'] \n",
    "    estimator = classifier.named_steps['estimator'] \n",
    "    class_labels = estimator.classes_\n",
    "    feature_names = vectorizer.get_feature_names()\n",
    "    topn_class_negative = sorted(zip(estimator.feature_count_[0], feature_names),reverse=True)[:n]\n",
    "    topn_class_neutral = sorted(zip(estimator.feature_count_[1], feature_names),reverse=True)[:n]\n",
    "    topn_class_positive = sorted(zip(estimator.feature_count_[2], feature_names),reverse=True)[:n]\n",
    "    print(\"Important phrases in negative sentences\\n\")\n",
    "    for coef, feat in topn_class_negative:\n",
    "        print(\"[-] %6.2f: %s\" % (coef, feat)) \n",
    "    print(\"-----------------------------------------\\n\")\n",
    "    \n",
    "    print(\"Important phrases in neutral sentences\\n\")\n",
    "    for coef, feat in topn_class_neutral:\n",
    "        print(\"[=] %6.2f: %s\" % (coef, feat)) \n",
    "\n",
    "    print(\"-----------------------------------------\\n\")\n",
    "    print(\"Important phrases in positive sentences\\n\")\n",
    "    for coef, feat in topn_class_positive:\n",
    "        print(\"[+] %6.2f: %s\" % (coef, feat)) \n",
    "\n",
    "important_features(classifier, n=15)"
   ]
  },
  {
   "cell_type": "code",
   "execution_count": 37,
   "metadata": {
    "collapsed": false
   },
   "outputs": [
    {
     "data": {
      "text/plain": [
       "['fe_+_+_=',\n",
       " 'fe_+_+_= fe_+_+_=',\n",
       " 'fe_+_+_= fe_+_+_mod',\n",
       " 'fe_+_+_= fe_+_-_=',\n",
       " 'fe_+_+_= fe_-_+_=',\n",
       " 'fe_+_+_= lm_+_=',\n",
       " 'fe_+_+_= lm_+_mod',\n",
       " 'fe_+_+_= lm_-_=',\n",
       " 'fe_+_+_= lm_-_mod',\n",
       " 'fe_+_+_lit',\n",
       " 'fe_+_+_lit lm_+_=',\n",
       " 'fe_+_+_mod',\n",
       " 'fe_+_+_mod fe_+_+_=',\n",
       " 'fe_+_+_rev',\n",
       " 'fe_+_+_rev fe_+_+_=',\n",
       " 'fe_+_+_unc',\n",
       " 'fe_+_+_unc lm_+_=',\n",
       " 'fe_+_-_=',\n",
       " 'fe_+_-_= fe_+_+_=',\n",
       " 'fe_+_-_= fe_+_-_=',\n",
       " 'fe_+_-_= fe_-_+_=',\n",
       " 'fe_+_-_= fe_-_-_=',\n",
       " 'fe_+_-_= lm_+_=',\n",
       " 'fe_+_-_= lm_-_=',\n",
       " 'fe_+_-_mod',\n",
       " 'fe_+_-_rev',\n",
       " 'fe_+_-_rev fe_+_+_=',\n",
       " 'fe_+_-_rev lm_-_=',\n",
       " 'fe_-_+_=',\n",
       " 'fe_-_+_= fe_+_+_=',\n",
       " 'fe_-_+_= fe_-_-_=',\n",
       " 'fe_-_+_= lm_+_=',\n",
       " 'fe_-_+_= lm_-_=',\n",
       " 'fe_-_+_unc',\n",
       " 'fe_-_-_=',\n",
       " 'fe_-_-_= fe_-_+_=',\n",
       " 'fe_-_-_= lm_+_=',\n",
       " 'fe_-_-_= lm_-_=',\n",
       " 'fe_-_-_mod',\n",
       " 'fi_+_=',\n",
       " 'fi_+_= fe_+_-_=',\n",
       " 'fi_+_= lm_+_=',\n",
       " 'fi_+_= lm_-_=',\n",
       " 'fi_=_=',\n",
       " 'lm_+_=',\n",
       " 'lm_+_= fe_+_+_=',\n",
       " 'lm_+_= fe_+_-_=',\n",
       " 'lm_+_= fe_-_-_=',\n",
       " 'lm_+_= lm_+_=',\n",
       " 'lm_+_= lm_+_rev',\n",
       " 'lm_+_= lm_-_=',\n",
       " 'lm_+_= lm_-_rev',\n",
       " 'lm_+_lit',\n",
       " 'lm_+_mod',\n",
       " 'lm_+_mod lm_+_=',\n",
       " 'lm_+_mod lm_-_=',\n",
       " 'lm_+_rev',\n",
       " 'lm_+_rev lm_+_=',\n",
       " 'lm_+_rev lm_+_mod',\n",
       " 'lm_+_rev lm_-_=',\n",
       " 'lm_+_unc',\n",
       " 'lm_-_=',\n",
       " 'lm_-_= fe_+_+_=',\n",
       " 'lm_-_= fe_+_+_lit',\n",
       " 'lm_-_= fe_+_-_=',\n",
       " 'lm_-_= fe_-_+_=',\n",
       " 'lm_-_= fe_-_-_=',\n",
       " 'lm_-_= lm_+_=',\n",
       " 'lm_-_= lm_+_mod',\n",
       " 'lm_-_= lm_-_=',\n",
       " 'lm_-_= lm_-_mod',\n",
       " 'lm_-_= lm_-_rev',\n",
       " 'lm_-_lit',\n",
       " 'lm_-_lit fe_-_-_=',\n",
       " 'lm_-_mod',\n",
       " 'lm_-_mod lm_+_=',\n",
       " 'lm_-_rev',\n",
       " 'lm_-_rev lm_+_=',\n",
       " 'lm_-_rev lm_-_=',\n",
       " 'lm_-_unc',\n",
       " 'lm_-_unc fe_+_-_=',\n",
       " 'lm_-_unc lm_-_=']"
      ]
     },
     "execution_count": 37,
     "metadata": {},
     "output_type": "execute_result"
    }
   ],
   "source": [
    "vectorizer = classifier.named_steps['vectorizer']\n",
    "vectorizer.get_feature_names()"
   ]
  },
  {
   "cell_type": "code",
   "execution_count": 38,
   "metadata": {
    "collapsed": false
   },
   "outputs": [
    {
     "data": {
      "text/plain": [
       "['fe_-_+_=']"
      ]
     },
     "execution_count": 38,
     "metadata": {},
     "output_type": "execute_result"
    }
   ],
   "source": [
    "analyzer = vectorizer.build_analyzer()\n",
    "analyzer('fe_-_+_=')"
   ]
  },
  {
   "cell_type": "code",
   "execution_count": 42,
   "metadata": {
    "collapsed": false
   },
   "outputs": [
    {
     "name": "stdout",
     "output_type": "stream",
     "text": [
      "Profit dropped by 33% from the third quarter.\n",
      " [Profit/fe:+] [dropped/dr:-] by [33%/xe:per] from [the third quarter/xe:dat] .\n",
      "       dropped                 \n",
      "   _______|___________          \n",
      "  |       by         from      \n",
      "  |       |           |         \n",
      "Profit   33%   the third quarte\n",
      "                      r        \n",
      "\n",
      "fe_+_-_= -->> -\n",
      "-----\n",
      "Earnings per share ( EPS ) amounted to $0.98 , up from the loss of €0.02 .\n",
      " [Earnings per share/fe:+] ( [EPS/fe:+] ) amounted to $ [0.98/xe:mon] , [up/dr:+] from the [loss/fe:-] of € [0.02/xe:mon] .\n",
      "              amounted              \n",
      "       __________|__________         \n",
      "      |          |          up      \n",
      "      |          |          |        \n",
      "      |          |         from     \n",
      "      |          |          |        \n",
      "      |          |         loss     \n",
      "      |          |       ___|____    \n",
      "Earnings per     to     |        of \n",
      "    share        |      |        |  \n",
      "      |          |      |        |   \n",
      "     EPS        0.98    |       0.02\n",
      "      |          |      |        |   \n",
      "     ...         $     the       €  \n",
      "\n",
      "fe_-_+_= -->> +\n",
      "-----\n"
     ]
    }
   ],
   "source": [
    "for sentence in [\n",
    "    'Profit dropped by 33% from the third quarter.',\n",
    "    'Earnings per share ( EPS ) amounted to $0.98 , up from the loss of €0.02 .'\n",
    "]:\n",
    "    doc, features, prediction = predict(classifier, extractor, sentence)\n",
    "    prediction = CODE_TO_SENTIMENT[prediction]\n",
    "    show(doc, include_text=True, include_tree=True)\n",
    "    print(\"%s -->> %s\" % (features, prediction))\n",
    "    print('-----')"
   ]
  },
  {
   "cell_type": "code",
   "execution_count": 43,
   "metadata": {
    "collapsed": false
   },
   "outputs": [
    {
     "name": "stdout",
     "output_type": "stream",
     "text": [
      "[+||-] fe_-_-_=\n",
      "\t23 April 2010 - Finnish construction and engineering company Outotec Oyj HEL : OTE1V said today it slipped to a net loss of EUR7 .3 m in the first quarter of 2010 from a net profit of EUR12 .5 m in the corresponding period last year .\n",
      "[=||+] lm_+_=\n",
      "\tFinnish lifting equipment maker Kone Oyj said on October 4 , 2007 it won an order worth 15 mln euro $ 21.2 mln to deliver a total of 53 custom designed elevators to Norwegian shipbuilder Aker Yards ASA .\n",
      "[=||=] fi_=_=\n",
      "\tTheir names have not yet been released .\n",
      "[=||=] fi_=_=\n",
      "\tMay 29 , 2010 ( CompaniesandMarkets.com delivered by Newstex ) -- This report provides key data and information on the meat , fish and poultry market in Finland .\n",
      "[=||=] fi_=_=\n",
      "\tThe transaction is expected to be completed next spring .\n",
      "[=||=] fi_=_=\n",
      "\tThe fixed acquisition price amounts to NOK 70 ( approximately EUR 8.7 ) million and additional price NOK 15 ( EUR 1.8 ) million at maximum .\n",
      "[=||+] fi_=_=\n",
      "\tFinland 's national carrier Finnair PLC carried a record 8.5 million passengers in 2005 , an increase of 4.5 percent on the previous year , the airline reported Tuesday .\n",
      "[=||=] lm_+_=\n",
      "\tThe commission said the hydrogen peroxide and PBS market was worth about 470 million euros in 2000 .\n",
      "[=||=] fi_=_=\n",
      "\tThe repo rate will gradually reach 2 % at the end of 2010 , according to Nordea 's Economic Outlook .\n",
      "[+||+] fe_+_+_=\n",
      "\tBoth operating profit and net sales for the 12-month period increased , respectively from EUR10 .5 m and EUR28 .8 m , as compared to the financial year 2004 .\n"
     ]
    }
   ],
   "source": [
    "y_pred_train = classifier.predict(X_train)\n",
    "cnt = 0\n",
    "for i in range(len(y_pred_train)):\n",
    "    #print(sentences_train[i], X_train[i], y_pred_train[i], y_train[i])\n",
    "    predicted = CODE_TO_SENTIMENT[y_pred_train[i]]\n",
    "    actual = CODE_TO_SENTIMENT[y_train[i]]\n",
    "    print(\"[%s||%s] %s\\n\\t%s\" % (predicted, actual, X_train[i], sentences_train[i]))\n",
    "    cnt += 1\n",
    "    if cnt == 10: break"
   ]
  },
  {
   "cell_type": "code",
   "execution_count": 65,
   "metadata": {
    "collapsed": false
   },
   "outputs": [
    {
     "name": "stdout",
     "output_type": "stream",
     "text": [
      "Construction is scheduled to start in April-June 2007 and to be completed in early 2008 .\n",
      " [Construction/fe:+] is scheduled to start in [April-June 2007/xe:dat] and to be completed in [early 2008/xe:dat] .\n",
      "[] -->> =\n",
      "-----\n",
      "At this growth rate , paying off the national debt will be extremely painful .\n",
      " At this [growth/dr:+] rate , paying off the national [debt/fe:-] will be [extremely/lm:-] [painful/lm:-] .\n",
      "['fe_-_+_=', 'lm_-_=', 'lm_-_='] -->> -\n",
      "-----\n",
      "Major Order in India: Comptel Corporation has received a significant long-term order for mediation and provisioning solutions being used by a leading operator in India .\n",
      " [Major Order/fi:+] in [India/xe:gpe] : [Comptel Corporation/xe:org] has received a [significant/lm:+] [long-term order/fi:+] for [mediation/if:lit] and provisioning solutions being used by a [leading operator/fi:+] in [India/xe:gpe] .\n",
      "['fi_+_=', 'lm_+_=', 'fi_+_lit', 'fi_+_='] -->> +\n",
      "-----\n",
      "Production levels have been agreed with producers a long time ago , so a fall in consumption will lead to losses .\n",
      " [Production/fe:+] levels have been agreed with producers a [long/lm:-] time ago , [so/lm:=] [a fall in/dr:-] consumption will lead to [losses/fe:-] .\n",
      "['lm_-_=', 'fe_-_-_='] -->> -\n",
      "-----\n",
      "Operating profit decreased to nearly EUR 1.7 mn , however .\n",
      " [Operating profit/fe:+] [decreased/dr:-] to [nearly/if:mod] EUR [1.7/xe:car] mn , [however/lm:=] .\n",
      "['fe_+_-_mod'] -->> -\n",
      "-----\n",
      "The move was triggered by weak demand for forestry equipment and the uncertain market situation .\n",
      " The [move/lm:=] was triggered by [weak/dr:-] [demand/fe:+] for forestry equipment and the [uncertain/if:mod] [market situation/fe:+] .\n",
      "['fe_+_-_='] -->> -\n",
      "-----\n",
      "Finnish KCI Konecranes has been awarded an order for four hot metal ladle cranes by Indian steel producer Bhushan Steel & Strips to be delivered in 2007 .\n",
      " [Finnish KCI Konecranes/xe:org] has been [awarded/fi:+] an order for [four/xe:car] [hot/lm:+] metal ladle cranes by [Indian/xe:nor] steel producer [Bhushan Steel & Strips/xe:org] to be delivered in [2007/xe:dat] .\n",
      "['fi_+_=', 'lm_+_='] -->> +\n",
      "-----\n",
      "28 October 2010 - Finnish wood products technology supplier Raute Oyj HEL : RUTAV said today it swung to a net profit of EUR3m for the first nine months of 2010 versus a net loss of EUR5 .2 m for the same period a year earlier .\n",
      " [28/xe:car] [October 2010/xe:dat] - [Finnish/xe:nor] wood [products/fe:+] technology supplier [Raute Oyj HEL/xe:org] : [RUTAV/xe:org] said [today/xe:dat] it [swung to/dr:+] a [net profit/fe:+] of EUR3 m for [the first nine months of 2010/xe:dat] [versus/if:rev] a [net loss/fe:-] of EUR5 .2 m for the same period [a year earlier/xe:dat] .\n",
      "['fe_+_+_='] -->> +\n",
      "-----\n",
      "` The stable outlook reflects Nokia 's strong market position in the global mobile handset market , strong cash flow generation , and very conservative balance sheet , ' said Raab .\n",
      " ` The [stable/lm:+] [outlook/fe:+] reflects [Nokia/xe:org] 's [strong market position/fi:+] in the global mobile handset [market/fe:+] , [strong/lm:+] [cash flow/fe:+] generation , and [very/lm:=] conservative balance sheet , ' said [Raab/xe:per] .\n",
      "['lm_+_=', 'fi_+_=', 'lm_+_='] -->> +\n",
      "-----\n"
     ]
    }
   ],
   "source": [
    "for sentence in [\n",
    "    'Construction is scheduled to start in April-June 2007 and to be completed in early 2008 .',\n",
    "    'At this growth rate , paying off the national debt will be extremely painful .',\n",
    "    'Major Order in India: Comptel Corporation has received a significant long-term order for mediation and provisioning solutions being used by a leading operator in India .',\n",
    "    'Production levels have been agreed with producers a long time ago , so a fall in consumption will lead to losses .',\n",
    "    'Operating profit decreased to nearly EUR 1.7 mn , however .',\n",
    "    'The move was triggered by weak demand for forestry equipment and the uncertain market situation .',\n",
    "    'Finnish KCI Konecranes has been awarded an order for four hot metal ladle cranes by Indian steel producer Bhushan Steel & Strips to be delivered in 2007 .',\n",
    "    \"\"\"28 October 2010 - Finnish wood products technology supplier Raute Oyj HEL : RUTAV said today it swung to a net profit of EUR3m for the first nine months of 2010 versus a net loss of EUR5 .2 m for the same period a year earlier .\"\"\",\n",
    "    \"\"\"` The stable outlook reflects Nokia 's strong market position in the global mobile handset market , strong cash flow generation , and very conservative balance sheet , ' said Raab .\"\"\",\n",
    "]:\n",
    "    doc, features = extractor(sentence)\n",
    "    show(doc, include_text=True)\n",
    "    features_as_text = \" \".join(features)\n",
    "    print(features, '-->>', code2sentiment[classifier.predict([features_as_text])[0]])\n",
    "    print('-----')"
   ]
  },
  {
   "cell_type": "code",
   "execution_count": 50,
   "metadata": {
    "collapsed": true
   },
   "outputs": [],
   "source": [
    "code2position = {-1:0, 0:1, 1:2}\n",
    "\n",
    "def correct_confidence(classifier, X, y, index):\n",
    "    x = X[index]\n",
    "    probs = classifier.predict_proba([x])[0]\n",
    "    position = code2position[y[index]]\n",
    "    return probs[position]    \n",
    "\n",
    "def show_classification_result(classifier, sentences, X, y, y_predicted, index):\n",
    "    sentence = sentences[index]\n",
    "    actual = code2sentiment[y[index]]\n",
    "    predicted = code2sentiment[y_predicted[index]]\n",
    "    print(\"%d [%s||%s] %s\" % (index, predicted, actual, sentence))\n",
    "    doc, features = extractor(sentence)\n",
    "    show(doc, index=None, include_text=False, include_tree=False)\n",
    "    print(\"<<%s>>\" % X[index])\n",
    "    show_tree(doc)\n"
   ]
  },
  {
   "cell_type": "code",
   "execution_count": 51,
   "metadata": {
    "collapsed": false
   },
   "outputs": [
    {
     "name": "stdout",
     "output_type": "stream",
     "text": [
      "CPU times: user 256 ms, sys: 6.04 ms, total: 262 ms\n",
      "Wall time: 269 ms\n"
     ]
    }
   ],
   "source": [
    "%%time\n",
    "indices = range(len(y_test))\n",
    "indices = sorted(indices, key=lambda index: correct_confidence(classifier, X_test, y_test, index))\n",
    "y_predicted = classifier.predict(X_test)"
   ]
  },
  {
   "cell_type": "code",
   "execution_count": 57,
   "metadata": {
    "collapsed": false,
    "scrolled": false
   },
   "outputs": [
    {
     "name": "stdout",
     "output_type": "stream",
     "text": [
      "238 [=||+] ` The stable outlook reflects Nokia 's strong market position in the global mobile handset market , strong cash flow generation , and very conservative balance sheet , ' said Raab .\n",
      " ` The [stable/lm:+] [outlook/fe:+] reflects [Nokia/xe:org] 's [strong/lm:+] [market position/fe:+] in the global mobile handset [market/fe:+] , [strong/lm:+] [cash flow/fe:+] generation , and [very/lm:=] conservative balance sheet , ' said [Raab/xe:per] .\n",
      "<<lm_+_= lm_+_= lm_+_=>>\n",
      "                         said                                                                                           \n",
      "  ________________________|_________________                                                                             \n",
      " |                                       reflects                                                                       \n",
      " |           _______________________________|____________                                                                \n",
      " |          |                                     market position                                                       \n",
      " |          |              ______________________________|_____________________________                                  \n",
      " |          |             |      |          in                                     generation                           \n",
      " |          |             |      |          |                        __________________|________________                 \n",
      " |          |             |      |        market                    |        |         |              sheet             \n",
      " |          |             |      |     _____|____________           |        |         |          ______|________        \n",
      " |       outlook          |    Nokia  |     |         handset       |        |         |         |          conservative\n",
      " |     _____|______       |      |    |     |            |          |        |         |         |               |       \n",
      "Raab The         stable strong   's  the  global       mobile     strong cash flow    and     balance           very    \n",
      "\n"
     ]
    }
   ],
   "source": [
    "import random\n",
    "n = len(y_test)\n",
    "start = 0\n",
    "stop = 10\n",
    "candidate_indices = indices[:48]\n",
    "\n",
    "index = random.choice(candidate_indices)\n",
    "#index = 233\n",
    "show_classification_result(classifier, sentences_test, X_test, y_test, y_predicted, index)"
   ]
  },
  {
   "cell_type": "code",
   "execution_count": null,
   "metadata": {
    "collapsed": false
   },
   "outputs": [],
   "source": [
    "pattern = 'fe_+_-_='\n",
    "value = 1\n",
    "train_instances = [i for i in range(len(y_train)) if X_train[i] == pattern and y_train[i] == value]\n",
    "n_train = len(train_instances)\n",
    "test_instances = [i for i in range(len(y_test)) if X_test[i] == pattern and y_test[i] == value]\n",
    "n_test = len(test_instances)\n",
    "pred_instances = [i for i in range(len(y_test)) if X_test[i] == pattern and y_predicted[i] == value]\n",
    "n_pred = len(pred_instances)\n",
    "print(\"pattern = %s, value = %d, n-train = %d, n-test = %d, n-pred = %d\" % (pattern, value, n_train, n_test, n_pred))"
   ]
  },
  {
   "cell_type": "code",
   "execution_count": null,
   "metadata": {
    "collapsed": false
   },
   "outputs": [],
   "source": [
    "from collections import Counter\n",
    "\n",
    "bags = set([])\n",
    "for xx in X_test:\n",
    "    items = xx.split()\n",
    "    items.sort()\n",
    "    bag = \", \".join(items)\n",
    "    bags.add(bag)\n",
    "print(len(bags))\n",
    "for bag in bags: print(bag)"
   ]
  },
  {
   "cell_type": "code",
   "execution_count": null,
   "metadata": {
    "collapsed": false
   },
   "outputs": [],
   "source": [
    "for i in train_instances:\n",
    "    print(y_train[i], sentences_train[i], X_train[i])"
   ]
  },
  {
   "cell_type": "code",
   "execution_count": null,
   "metadata": {
    "collapsed": false
   },
   "outputs": [],
   "source": [
    "%%time \n",
    "sentences, X, y = load_data(fname + \".tsv\")\n",
    "indices = range(len(y))\n",
    "indices = sorted(indices, key=lambda index: correct_confidence(classifier, X, y, index))\n",
    "y_predicted = classifier.predict(X)\n",
    "\n",
    "accuracy, cm = evaluate(classifier, X, y)\n",
    "plot_confusion_matrix(cm, codes)\n",
    "print(\"Accuracy = %0.3f.\" % (accuracy,))"
   ]
  },
  {
   "cell_type": "code",
   "execution_count": null,
   "metadata": {
    "collapsed": false
   },
   "outputs": [],
   "source": [
    "def predict(classifier, sentence):\n",
    "    doc, features = extractor(sentence)\n",
    "    features = [token.lower() for token in features]\n",
    "    print(\" \".join(features))\n",
    "    return classifier.predict(features)[0]\n",
    "    \n",
    "sentence = \"The Group's operative EBIT will probably be negative.\"\n",
    "predict(classifier, sentence)"
   ]
  },
  {
   "cell_type": "markdown",
   "metadata": {},
   "source": [
    "## Sentence-Level Sentiment Analysis of Financial News Test Dataset"
   ]
  },
  {
   "cell_type": "code",
   "execution_count": null,
   "metadata": {
    "collapsed": false
   },
   "outputs": [],
   "source": [
    "fname = 'ad-hoc'\n",
    "if include_words: fname = '%s-with-words' % fname\n",
    "sl_sentences, sl_X, sl_y = load_data(fname + \".tsv\")\n",
    "#sl_y = [-1 if code == 0 else 1 for code in sl_y]\n",
    "accuracy, cm = evaluate(classifier, sl_X, sl_y)\n",
    "plot_confusion_matrix(cm, codes)\n",
    "print(\"Accuracy = %0.3f.\" % (accuracy,))"
   ]
  },
  {
   "cell_type": "code",
   "execution_count": null,
   "metadata": {
    "collapsed": false
   },
   "outputs": [],
   "source": [
    "indices = range(len(sl_y))\n",
    "indices = sorted(indices, key=lambda index: correct_confidence(classifier, sl_X, sl_y, index))\n",
    "\n",
    "sl_y_predicted = classifier.predict(sl_X)"
   ]
  },
  {
   "cell_type": "code",
   "execution_count": null,
   "metadata": {
    "collapsed": false,
    "scrolled": false
   },
   "outputs": [],
   "source": [
    "start = 100\n",
    "stop = 110\n",
    "for index in indices[start:stop]:\n",
    "    show_classification_result(classifier, sl_sentences, sl_X, sl_y, sl_y_predicted, index)\n",
    "    print('-----')"
   ]
  },
  {
   "cell_type": "code",
   "execution_count": null,
   "metadata": {
    "collapsed": true
   },
   "outputs": [],
   "source": [
    "path = './model/nbsvm-%s.pkl' % fname\n",
    "joblib.dump(classifier, path)\n",
    "classifier_loaded = joblib.load(path)"
   ]
  }
 ],
 "metadata": {
  "anaconda-cloud": {},
  "kernelspec": {
   "display_name": "Python [conda env:fsa]",
   "language": "python",
   "name": "conda-env-fsa-py"
  },
  "language_info": {
   "codemirror_mode": {
    "name": "ipython",
    "version": 3
   },
   "file_extension": ".py",
   "mimetype": "text/x-python",
   "name": "python",
   "nbconvert_exporter": "python",
   "pygments_lexer": "ipython3",
   "version": "3.5.5"
  }
 },
 "nbformat": 4,
 "nbformat_minor": 2
}
