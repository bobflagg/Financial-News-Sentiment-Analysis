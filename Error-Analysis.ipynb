{
 "cells": [
  {
   "cell_type": "code",
   "execution_count": 85,
   "metadata": {
    "collapsed": false
   },
   "outputs": [
    {
     "data": {
      "text/html": [
       "<style>.container { width:100% !important; }</style>"
      ],
      "text/plain": [
       "<IPython.core.display.HTML object>"
      ]
     },
     "metadata": {},
     "output_type": "display_data"
    },
    {
     "name": "stdout",
     "output_type": "stream",
     "text": [
      "The autoreload extension is already loaded. To reload it, use:\n",
      "  %reload_ext autoreload\n"
     ]
    }
   ],
   "source": [
    "from IPython.core.display import display, HTML\n",
    "display(HTML(\"<style>.container { width:100% !important; }</style>\"))\n",
    "\n",
    "import matplotlib.pyplot as plt\n",
    "%matplotlib inline  \n",
    "\n",
    "import numpy as np\n",
    "\n",
    "import warnings\n",
    "warnings.filterwarnings(\"ignore\")\n",
    "\n",
    "%load_ext autoreload\n",
    "%autoreload 2"
   ]
  },
  {
   "cell_type": "code",
   "execution_count": 86,
   "metadata": {
    "collapsed": true
   },
   "outputs": [],
   "source": [
    "from fnsa.classifier.data import load as load_data\n",
    "from fnsa.classifier.util import cross_validate, evaluate, plot_confusion_matrix\n",
    "\n",
    "from sklearn.externals import joblib"
   ]
  },
  {
   "cell_type": "code",
   "execution_count": 87,
   "metadata": {
    "collapsed": true
   },
   "outputs": [],
   "source": [
    "from fnsa.feature import FeatureExtractor\n",
    "from fnsa.lexicon import Lexicon\n",
    "from fnsa.scope import DRScopeDetector, IFScopeDetector\n",
    "#from fnsa.graph import make_graph\n",
    "from fnsa.util import show, show_tree\n",
    "import spacy"
   ]
  },
  {
   "cell_type": "code",
   "execution_count": 88,
   "metadata": {
    "collapsed": true
   },
   "outputs": [],
   "source": [
    "include_words = True\n",
    "\n",
    "nlp = spacy.load('en_core_web_sm')\n",
    "lexicon = Lexicon(nlp)\n",
    "dr_detector = DRScopeDetector()\n",
    "if_detector = IFScopeDetector()\n",
    "extractor = FeatureExtractor(lexicon, detectors=[dr_detector, if_detector], include_words=include_words)"
   ]
  },
  {
   "cell_type": "code",
   "execution_count": 89,
   "metadata": {
    "collapsed": false
   },
   "outputs": [],
   "source": [
    "fname = 'all-agree'\n",
    "if include_words: fname = 'all-agree-with-words'\n",
    "model = 'nb'\n",
    "codes = [-1, 0, 1]\n",
    "code2sentiment = {-1:'-', 0:'=', 1:'+'}\n",
    "\n",
    "path = './model/%s-%s.pkl' % (model, fname)\n",
    "classifier = joblib.load(path)"
   ]
  },
  {
   "cell_type": "code",
   "execution_count": 90,
   "metadata": {
    "collapsed": false
   },
   "outputs": [
    {
     "name": "stdout",
     "output_type": "stream",
     "text": [
      "the xe_org 's operative ebit fe_+_=_mod will if_mod probably if_mod be negative if_rev .\n"
     ]
    },
    {
     "data": {
      "text/plain": [
       "0"
      ]
     },
     "execution_count": 90,
     "metadata": {},
     "output_type": "execute_result"
    }
   ],
   "source": [
    "def predict(classifier, sentence):\n",
    "    doc, features = extractor(sentence)\n",
    "    features = [token.lower() for token in features]\n",
    "    print(\" \".join(features))\n",
    "    return classifier.predict(features)[0]\n",
    "    \n",
    "sentence = \"The Group's operative EBIT will probably be negative.\"\n",
    "predict(classifier, sentence)"
   ]
  },
  {
   "cell_type": "markdown",
   "metadata": {},
   "source": [
    "## Sentence-Level Sentiment Analysis of Financial News Test Dataset"
   ]
  },
  {
   "cell_type": "code",
   "execution_count": 91,
   "metadata": {
    "collapsed": false
   },
   "outputs": [
    {
     "name": "stdout",
     "output_type": "stream",
     "text": [
      "Accuracy = 0.208.\n"
     ]
    },
    {
     "data": {
      "image/png": "[encoded data removed]",
      "text/plain": [
       "<Figure size 576x576 with 2 Axes>"
      ]
     },
     "metadata": {},
     "output_type": "display_data"
    }
   ],
   "source": [
    "fname = 'ad-hoc'\n",
    "if include_words: fname = '%s-with-words' % fname\n",
    "sl_sentences, sl_X, sl_y = load_data(fname + \".tsv\")\n",
    "#sl_y = [-1 if code == 0 else 1 for code in sl_y]\n",
    "accuracy, cm = evaluate(classifier, sl_X, sl_y)\n",
    "plot_confusion_matrix(cm, codes)\n",
    "print(\"Accuracy = %0.3f.\" % (accuracy,))"
   ]
  },
  {
   "cell_type": "code",
   "execution_count": 92,
   "metadata": {
    "collapsed": true
   },
   "outputs": [],
   "source": [
    "code2position = {-1:0, 0:1, 1:2}\n",
    "\n",
    "def correct_confidence(classifier, X, y, index):\n",
    "    x = X[index]\n",
    "    probs = classifier.predict_proba([x])[0]\n",
    "    position = code2position[y[index]]\n",
    "    return probs[position]    \n",
    "\n",
    "def show_classification_result(classifier, sentences, X, y, y_predicted, index):\n",
    "    sentence = sentences[index]\n",
    "    actual = code2sentiment[y[index]]\n",
    "    predicted = code2sentiment[y_predicted[index]]\n",
    "    print(\"%d [%s||%s] %s\" % (index, predicted, actual, sentence))\n",
    "    doc, features = extractor(sentence)\n",
    "    show(doc, index=None, include_text=False, include_tree=False)\n",
    "    print(\"<<%s>>\" % X[index])\n",
    "    show_tree(doc)\n"
   ]
  },
  {
   "cell_type": "code",
   "execution_count": 93,
   "metadata": {
    "collapsed": false
   },
   "outputs": [],
   "source": [
    "indices = range(len(sl_y))\n",
    "indices = sorted(indices, key=lambda index: correct_confidence(classifier, sl_X, sl_y, index))\n",
    "\n",
    "sl_y_predicted = classifier.predict(sl_X)"
   ]
  },
  {
   "cell_type": "code",
   "execution_count": 94,
   "metadata": {
    "collapsed": false,
    "scrolled": false
   },
   "outputs": [
    {
     "name": "stdout",
     "output_type": "stream",
     "text": [
      "718 [=||-] On this basis, and after factoring in Porsche's debt, Volkswagen is expected to pay approximately up to EUR 3.3 billion for the 42.0 percent stake.\n",
      " On this basis , and after factoring in [Porsche/xe:org] 's debt , [Volkswagen/xe:org] is expected to pay [approximately/if:unc] [up/dr:+] to [EUR/xe:org] [3.3 billion/xe:car] for the [42.0 percent/xe:per] [stake/fe:+] .\n",
      "<<on this basis , and after factoring in xe_org 's debt , xe_org is expected to pay approximately if_unc up dr_+ to xe_org xe_car for the xe_per stake fe_+_+_unc .>>\n",
      "                          expected                                                       \n",
      "     ________________________|____________________________                                \n",
      "    |       |        On                                   |                              \n",
      "    |       |    ____|_______                             |                               \n",
      "    |       |   |    |     after                          |                              \n",
      "    |       |   |    |       |                            |                               \n",
      "    |       |   |    |   factoring                       pay                             \n",
      "    |       |   |    |       |       _____________________|___________                    \n",
      "    |       |   |    |       in     |                 |          3.3 billion             \n",
      "    |       |   |    |       |      |                 |               |                   \n",
      "    |       |   |    |      debt    |                 up             for                 \n",
      "    |       |   |    |       |      |         ________|___            |                   \n",
      "    |       |   |  basis  Porsche   |        |            to        stake                \n",
      "    |       |   |    |       |      |        |            |    _______|___________        \n",
      "Volkswagen  is and  this     's     to approximately     EUR the             42.0 percent\n",
      "\n",
      "-----\n",
      "387 [=||-] In the event of the complete placement of shares, the capital increase will result in net issuing proceeds of approximately EUR 30 million.\n",
      " In the event of the [complete/lm:=] placement of [shares/fe:+] , the [capital/fe:+] [increase/dr:+] [will/if:mod] result in net issuing proceeds of [approximately/if:unc] EUR [30 million/xe:car] .\n",
      "<<in the event of the complete lm_=_mod placement of shares fe_+_+_mod , the capital fe_+_+_mod increase dr_+ will if_mod result in net issuing proceeds of approximately if_unc eur xe_car .>>\n",
      "                             result                                                \n",
      "  _____________________________|________________________________                    \n",
      " |             In                          |                    in                 \n",
      " |             |                           |                    |                   \n",
      " |           event                         |                 proceeds              \n",
      " |     ________|_______                    |               _____|___________        \n",
      " |    |                of                  |              |     |           of     \n",
      " |    |                |                   |              |     |           |       \n",
      " |    |            placement               |              |     |       30 million \n",
      " |    |    ____________|_______            |              |     |           |       \n",
      " |    |   |            |       of       increase          |     |          EUR     \n",
      " |    |   |            |       |      _____|________      |     |           |       \n",
      "will the the        complete shares the          capital net issuing  approximately\n",
      "\n",
      "-----\n",
      "878 [=||-] The talks are at a stage where significant issues have not yet been finalized, contracts have not yet been signed and the conclusion of the transaction is still not certain.\n",
      " The talks are at a stage where [significant/lm:+] issues have [not/if:rev] yet been finalized , [contracts/dr:-] have [not/if:rev] yet been signed and the conclusion of the [transaction/fe:+] is [still/lm:=] [not/if:rev] [certain/lm:=] .\n",
      "<<the talks are at a stage where significant lm_+_rev issues have not if_rev yet been finalized , contracts dr_- have not if_rev yet been signed and the conclusion of the transaction fe_+_-_rev is still lm_=_rev not if_rev certain lm_=_rev .>>\n",
      "                                                signed                                                                            \n",
      "     _____________________________________________|________________________________________________                                \n",
      "    |      |    |   |   |    |        are                                                          |                              \n",
      "    |      |    |   |   |    |     ____|____                                                       |                               \n",
      "    |      |    |   |   |    |    |         at                                                     is                             \n",
      "    |      |    |   |   |    |    |         |                                            __________|____________                   \n",
      "    |      |    |   |   |    |    |       stage                                         |    |     |        conclusion            \n",
      "    |      |    |   |   |    |    |     ____|______________                             |    |     |      ______|___________       \n",
      "    |      |    |   |   |    |    |    |               finalized                        |    |     |     |                  of    \n",
      "    |      |    |   |   |    |    |    |     ______________|___________________         |    |     |     |                  |      \n",
      "    |      |    |   |   |    |  talks  |    |     |        |      |   |      issues     |    |     |     |             transaction\n",
      "    |      |    |   |   |    |    |    |    |     |        |      |   |        |        |    |     |     |                  |      \n",
      "contracts have not yet been and  The   a  where  have     not    yet been significant still not certain the                the    \n",
      "\n",
      "-----\n",
      "410 [=||+] The complete interim report for the first half of 2011 will be published on 18 August 2011.\n",
      " The [complete/lm:=] interim report for [the first half of 2011/xe:dat] [will/if:mod] be published on [18 August 2011/xe:dat] .\n",
      "<<the complete lm_=_mod interim report for xe_dat will if_mod be published on xe_dat .>>\n",
      "             published                                       \n",
      "  _______________|___________________________________         \n",
      " |    |        report                                |       \n",
      " |    |    ______|____________________               |        \n",
      " |    |   |      |        |          for             on      \n",
      " |    |   |      |        |           |              |        \n",
      "will  be The  complete interim the first half  18 August 2011\n",
      "                                   of 2011                   \n",
      "\n",
      "-----\n",
      "326 [=||+] A precondition for such a placement will be a sufficiently attractive capital market environment.\n",
      " A precondition for [such/lm:=] a placement [will/if:mod] be a [sufficiently/lm:+] [attractive/lm:+] [capital/fe:+] [market/fe:+] environment .\n",
      "<<a precondition for such lm_=_mod a placement will if_mod be a sufficiently lm_+_mod attractive lm_+_mod capital fe_+_=_mod market fe_+_=_mod environment .>>\n",
      "                                 be                         \n",
      "  _______________________________|___________                \n",
      " |       precondition                        |              \n",
      " |     _______|___________                   |               \n",
      " |    |                  for            environment         \n",
      " |    |                   |           _______|__________     \n",
      " |    |               placement      |   attractive   market\n",
      " |    |        ___________|______    |       |          |    \n",
      "will  A      such                a   a  sufficiently capital\n",
      "\n",
      "-----\n",
      "43 [=||-] This restriction applies, subject to other payment conditions under the terms of the individual instruments, to payments in 2010 for the fiscal year 2009 and for payments in 2011 for the fiscal year 2010.\n",
      " This [restriction/lm:-] applies , subject to other [payment/fe:+] conditions under the terms of the individual instruments , to payments in [2010/xe:dat] for [the fiscal year 2009/xe:dat] and for payments in [2011/xe:dat] for [the fiscal year 2010/xe:dat] .\n",
      "<<this restriction lm_-_= applies , subject to other payment fe_+_=_= conditions under the terms of the individual instruments , to payments in xe_dat for xe_dat and for payments in xe_dat for xe_dat .>>\n",
      "                                                        applies                                                           \n",
      "      _____________________________________________________|__________________                                             \n",
      "     |                     subject                                            |                                           \n",
      "     |                        |                                               |                                            \n",
      "     |                        to                                              to                                          \n",
      "     |                        |                                               |                                            \n",
      "     |                    conditions                                       payments                                       \n",
      "     |         _______________|________                             __________|__________                                  \n",
      "     |        |      |               under                         |                    for                               \n",
      "     |        |      |                 |                           |           __________|__________                       \n",
      "     |        |      |               terms                         |          |          |         for                    \n",
      "     |        |      |         ________|________                   |          |          |          |                      \n",
      "     |        |      |        |                 of                 |          |          |       payments                 \n",
      "     |        |      |        |                 |                  |          |          |    ______|____________          \n",
      "restriction   |      |        |            instruments             in         |          |   in                 for       \n",
      "     |        |      |        |         ________|__________        |          |          |   |                   |         \n",
      "    This    other payment    the      the              individual 2010 the fiscal year  and 2011          the fiscal year \n",
      "                                                                             2009                               2010      \n",
      "\n",
      "-----\n",
      "405 [=||-] Approximately one third of the capital increase was implemented by converting loans provided to the group by its major shareholder during 2011 and 2012 into equity, to further strengthen the company's balance sheet.\n",
      " [Approximately one third/xe:car] of the [capital/fe:+] [increase/dr:+] was implemented by converting loans provided to the group by its [major/lm:=] shareholder during [2011/xe:dat] and [2012/xe:dat] into equity , to [further/lm:=] [strengthen/dr:+] the company 's balance sheet .\n",
      "<<xe_car of the capital fe_+_+_= increase dr_+ was implemented by converting loans provided to the group by its major lm_=_= shareholder during xe_dat and xe_dat into equity , to further lm_=_= strengthen dr_+ the company 's balance sheet .>>\n",
      "                                                              implemented                                                                \n",
      "  _________________________________________________________________|______________________                                                \n",
      " |            |                                                                           by                                             \n",
      " |            |                                                                           |                                               \n",
      " |            |                                                                       converting                                         \n",
      " |            |                                          _________________________________|______________________                         \n",
      " |            |                                       loans                                                      |                       \n",
      " |            |                                         |                                                        |                        \n",
      " |      Approximately                                provided                                                strengthen                  \n",
      " |        one third                                     |                                                        |                       \n",
      " |            |                   ______________________|_________________________________         ______________|________                \n",
      " |            of                 to           by                          during          |       |     |               sheet            \n",
      " |            |                  |            |                             |             |       |     |         ________|______         \n",
      " |         increase            group     shareholder                       2011          into     |     |        |            company    \n",
      " |    ________|___________       |     _______|_________            ________|_____        |       |     |        |         ______|_____   \n",
      "was the                capital  the  its              major       and            2012   equity    to further  balance    the           's\n",
      "\n",
      "-----\n",
      "152 [=||-] The Management Board is of the view that the offered purchase price per T-Online share is significantly below the per share company value of T-Online established by performing a discounted future earnings valuation or on the basis of other internationally recognized valuation methods.\n",
      " [The Management Board/xe:org] is of the [view/lm:=] that the offered [purchase price/fe:+] per T - Online [share/fe:+] is significantly below the per [share/fe:+] company [value/fe:+] of T - Online [established/lm:+] by performing a [discounted/dr:-] future [earnings/fe:+] valuation or on the basis of other internationally recognized valuation methods .\n",
      "<<xe_org is of the view lm_=_= that the offered purchase price fe_+_-_= per t - online share fe_+_-_= is significantly below the per share fe_+_-_= company value fe_+_-_= of t - online established lm_+_= by performing a discounted dr_- future earnings fe_+_-_= valuation or on the basis of other internationally recognized valuation methods .>>\n",
      "                 is                                                                                                                                                             \n",
      "        _________|________                                                                                                                                                       \n",
      "       |                  of                                                                                                                                                    \n",
      "       |                  |                                                                                                                                                      \n",
      "       |                 view                                                                                                                                                   \n",
      "       |          ________|____________________                                                                                                                                  \n",
      "       |         |                             is                                                                                                                               \n",
      "       |         |    _________________________|____________________________                                                                                                     \n",
      "       |         |   |              |                                     below                                                                                                 \n",
      "       |         |   |              |                      _________________|________________________                                                                            \n",
      "       |         |   |              |                     |                                        value                                                                        \n",
      "       |         |   |              |                     |         _________________________________|__________________________                                                 \n",
      "       |         |   |              |                     |        |   |    |      |      |                                established                                          \n",
      "       |         |   |              |                     |        |   |    |      |      |                                     |                                                \n",
      "       |         |   |              |                     |        |   |    |      |      |                                     by                                              \n",
      "       |         |   |              |                     |        |   |    |      |      |      _______________________________|__________________                              \n",
      "       |         |   |              |                     |        |   |    |      |      |     |            |                                     on                           \n",
      "       |         |   |              |                     |        |   |    |      |      |     |            |                                     |                             \n",
      "       |         |   |        purchase price              |        |   |    |      |      |     |            |                                   basis                          \n",
      "       |         |   |     _________|__________           |        |   |    |      |      |     |            |                           __________|_______                      \n",
      "       |         |   |    |         |         per         |        |   |    |      |      |     |            |                          |                  of                   \n",
      "       |         |   |    |         |          |          |        |   |    |      |      |     |            |                          |                  |                     \n",
      "       |         |   |    |         |        share        |        |   |    |      |      of    |        performing                     |               methods                 \n",
      "       |         |   |    |         |          |          |        |   |    |      |      |     |            |                          |     _____________|____________         \n",
      "       |         |   |    |         |        Online       |        |   |    |      |    Online  |        valuation                      |    |             |        recognized  \n",
      "       |         |   |    |         |          |          |        |   |    |      |      |     |     _______|__________________        |    |             |            |        \n",
      "The Management  the that the     offered       T    significantly the per share company   T     or   a   discounted future   earnings  the other       valuation internationally\n",
      "     Board                                                                                                                                                                      \n",
      "\n",
      "-----\n",
      "684 [=||-] As at balance sheet date Dec. 31st, 2014, the main shareholder is REG European Holdings B.V., Netherlands, with a stake of 84 %, free float is approx. 10 %.\n",
      " As at balance sheet date [Dec. 31st/xe:dat] , [2014/xe:dat] , the main shareholder is [REG European Holdings B.V./xe:org] , [Netherlands/xe:gpe] , with a [stake/fe:+] of [84 %/xe:per] , [free/lm:+] float is approx . [10 %/xe:per] .\n",
      "<<as at balance sheet date xe_dat , xe_dat , the main shareholder is xe_org , xe_gpe , with a stake fe_+_=_= of xe_per , free lm_+_= float is approx . xe_per .>>\n",
      "                                                  is                                             \n",
      "          ________________________________________|______________________________________         \n",
      "         As                     |                         Netherlands                    |       \n",
      "         |                      |                  ____________|________                 |        \n",
      "         at                     |                 |                    with              |       \n",
      "         |                      |                 |                     |                |        \n",
      "        date                    |                 |                   stake              is      \n",
      "    _____|_______               |                 |             ________|____       _____|____    \n",
      " sheet       Dec. 31st     shareholder      REG European       |             of    |        float\n",
      "   |             |              |           Holdings B.V.      |             |     |          |  \n",
      "   |             |       _______|_______          |            |             |     |          |   \n",
      "balance         2014   the             main      ...           a            84 % approx      free\n",
      "\n",
      "-----\n",
      "158 [=||-] If not enough sales offers have been submitted and/or the discussions with investors have not led to final results by Monday, September 28, 2015, with high probability the Company will have to file for insolvency proceedings.\n",
      " If [not/if:rev] [enough/lm:=] [sales/fe:+] offers have been submitted and/or the discussions with [investors/fe:+] have [not/if:rev] led to final [results/fe:+] by [Monday, September 28, 2015/xe:dat] , with [high/lm:=] [probability/if:unc] the [Company/xe:org] [will/if:mod] have to file for [insolvency/lm:-] proceedings .\n",
      "<<if not if_rev enough lm_=_rev sales fe_+_=_rev offers have been submitted and/or the discussions with investors fe_+_=_rev have not if_rev led to final results fe_+_=_rev by xe_dat , with high lm_=_unc probability if_unc the xe_org will if_mod have to file for insolvency lm_-_mod proceedings .>>\n",
      "                                                  submitted                                                                                             \n",
      "  ____________________________________________________|________________________________________________________________________                          \n",
      " |   |    |     |            |                        |                                                                       have                      \n",
      " |   |    |     |            |                        |                                                      __________________|_________                \n",
      " |   |    |     |            |                       led                                                    |        |         |        file            \n",
      " |   |    |     |            |             ___________|__________________________________________           |        |         |      ___|________       \n",
      " |   |    |     |          offers         |    |            discussions              to          by         |       with       |     |           for    \n",
      " |   |    |     |       _____|______      |    |       __________|__________         |           |          |        |         |     |            |      \n",
      " |   |    |     |      |          enough  |    |      |                    with   results Monday, Septembe  |   probability Company  |       proceedings\n",
      " |   |    |     |      |            |     |    |      |                     |        |       r 28, 2015     |        |         |     |            |     \n",
      " |   |    |     |      |            |     |    |      |                     |        |           |          |        |         |     |            |      \n",
      " If have been and/or sales         not   have not    the                investors  final        ...        will     high      the    to       insolvency\n",
      "\n",
      "-----\n"
     ]
    }
   ],
   "source": [
    "start = 100\n",
    "stop = 110\n",
    "for index in indices[start:stop]:\n",
    "    show_classification_result(classifier, sl_sentences, sl_X, sl_y, sl_y_predicted, index)\n",
    "    print('-----')"
   ]
  },
  {
   "cell_type": "code",
   "execution_count": null,
   "metadata": {
    "collapsed": true
   },
   "outputs": [],
   "source": [
    "path = './model/nbsvm-%s.pkl' % fname\n",
    "joblib.dump(classifier, path)\n",
    "classifier_loaded = joblib.load(path)"
   ]
  }
 ],
 "metadata": {
  "anaconda-cloud": {},
  "kernelspec": {
   "display_name": "Python [conda env:fsa]",
   "language": "python",
   "name": "conda-env-fsa-py"
  },
  "language_info": {
   "codemirror_mode": {
    "name": "ipython",
    "version": 3
   },
   "file_extension": ".py",
   "mimetype": "text/x-python",
   "name": "python",
   "nbconvert_exporter": "python",
   "pygments_lexer": "ipython3",
   "version": "3.5.5"
  }
 },
 "nbformat": 4,
 "nbformat_minor": 2
}
