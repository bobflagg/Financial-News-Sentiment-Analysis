{
 "cells": [
  {
   "cell_type": "code",
   "execution_count": 1,
   "metadata": {
    "collapsed": false
   },
   "outputs": [
    {
     "data": {
      "text/html": [
       "<style>.container { width:100% !important; }</style>"
      ],
      "text/plain": [
       "<IPython.core.display.HTML object>"
      ]
     },
     "metadata": {},
     "output_type": "display_data"
    }
   ],
   "source": [
    "from IPython.core.display import display, HTML\n",
    "display(HTML(\"<style>.container { width:100% !important; }</style>\"))\n",
    "\n",
    "%load_ext autoreload\n",
    "%autoreload 2\n",
    "\n",
    "import matplotlib.pyplot as plt\n",
    "%matplotlib inline  \n",
    "\n",
    "import numpy as np"
   ]
  },
  {
   "cell_type": "code",
   "execution_count": 7,
   "metadata": {
    "collapsed": true
   },
   "outputs": [],
   "source": [
    "from fnsa.entity import ENScopeDetector\n",
    "from fnsa.lexicon import get_en2scope, Lexicon\n",
    "from fnsa.scope import DRScopeDetector, IFScopeDetector\n",
    "from fnsa.graph import make_graph\n",
    "from fnsa.util import *\n",
    "import spacy\n",
    "nlp = spacy.load('en_core_web_sm')\n",
    "sentences = load_sentences()"
   ]
  },
  {
   "cell_type": "code",
   "execution_count": 8,
   "metadata": {
    "collapsed": true
   },
   "outputs": [],
   "source": [
    "lexicon = Lexicon(nlp)\n",
    "dr_detector = DRScopeDetector()\n",
    "if_detector = IFScopeDetector()\n",
    "en_detector = ENScopeDetector()"
   ]
  },
  {
   "cell_type": "code",
   "execution_count": 9,
   "metadata": {
    "collapsed": true
   },
   "outputs": [],
   "source": [
    "def show_entity_scope(sentence, detectors=[dr_detector, en_detector, if_detector]):\n",
    "    print(sentence)\n",
    "    doc = lexicon(sentence)\n",
    "    graph = make_graph(doc)\n",
    "    lex2tokens = build_lex2tokens(doc)\n",
    "    for detector in detectors: detector(doc, graph, lex2tokens)\n",
    "    en2scope = get_en2scope(doc)\n",
    "    for index, ent in enumerate(doc.ents): \n",
    "        if ent[0].i in en2scope:\n",
    "            tokens = [token for token in doc if token.i in en2scope[ent[0].i]]\n",
    "            tokens = sorted(tokens, key=lambda token: token.i)\n",
    "            print(\"%d. %s -->> %s\" % (index + 1, ent.text, \" \".join(annotate_token(token) for token in tokens)))\n",
    "    return doc"
   ]
  },
  {
   "cell_type": "code",
   "execution_count": 10,
   "metadata": {
    "collapsed": false
   },
   "outputs": [
    {
     "name": "stdout",
     "output_type": "stream",
     "text": [
      "General Electric reports its operating profit increased to $20.5 million.\n",
      "1. General Electric -->> [General Electric/en:ORG] reports its [operating profit/fe:+] [increased/dr:+] to [$20.5 million/en:MONEY] .\n",
      "\n",
      "\n",
      "Ford Motor Company reported higher full-year profits on Thursday boosted by a buoyant period for its car loans unit.\n",
      "1. Ford Motor Company -->> [Ford Motor Company/en:ORG] reported [higher/dr:+] [full-year profits/fe:+] on [Thursday/en:DATE] [boosted/dr:+] by a [buoyant period/fi:+] for its car loans unit .\n",
      "\n",
      "\n",
      "By agreeing to stay the proceedings, AT&T avoided a potential bombshell.\n",
      "1. AT&T -->> By agreeing to stay the proceedings , [AT&T/en:ORG] [avoided/if:rev] a [potential bombshell/fi:-] .\n",
      "\n",
      "\n",
      "Shares of Standard Chartered rose 1.2%, while Royal Bank of Scotland shares rose 2% and Barclays shares were down 1.7%.\n",
      "1. Standard Chartered -->> [Shares/fe:+] of [Standard Chartered/en:ORG] [rose/dr:+] [1.2%/en:PERCENT] , [rose/dr:+] .\n",
      "3. Royal Bank -->> [Shares/fe:+] [rose/dr:+] [1.2%/en:PERCENT] , while [Royal Bank/en:ORG] of [Scotland/en:GPE] [shares/fe:+] [rose/dr:+] [2%/en:PERCENT] and [shares/fe:+] were [down/dr:-] .\n",
      "6. Barclays -->> [rose/dr:+] while [shares/fe:+] [rose/dr:+] [2%/en:PERCENT] and [Barclays/en:ORG] [shares/fe:+] were [down/dr:-] [1.7%/en:PERCENT]\n",
      "\n",
      "\n",
      "Shares of Standard Chartered could not raise above $57.34, while Royal Bank of Scotland shares rose 2% and Barclays shares were down 1.7%.\n",
      "1. Standard Chartered -->> [Shares/fe:+] of [Standard Chartered/en:ORG] [could not/if:rev] [raise/dr:+] [above $57.34/en:MONEY] , [rose/dr:+] .\n",
      "3. Royal Bank -->> [Shares/fe:+] [could not/if:rev] [raise/dr:+] [above $57.34/en:MONEY] , while [Royal Bank/en:ORG] of [Scotland/en:GPE] [shares/fe:+] [rose/dr:+] [2%/en:PERCENT] and [shares/fe:+] were [down/dr:-] .\n",
      "6. Barclays -->> [raise/dr:+] while [shares/fe:+] [rose/dr:+] [2%/en:PERCENT] and [Barclays/en:ORG] [shares/fe:+] were [down/dr:-] [1.7%/en:PERCENT]\n",
      "\n",
      "\n",
      "German car manufacturer Volkswagen has been engulfed in a growing scandal over cheating on emissions tests.\n",
      "2. Volkswagen -->> [German/en:NORP] car manufacturer [Volkswagen/en:ORG] has been [engulfed/dr:-] in a [growing/dr:+] [scandal/lm:-] over [cheating/lm:-] on emissions tests .\n",
      "\n",
      "\n",
      "CVS Pharmacy Ltd asked the city of Seattle to also file a separate lawsuit against Purdue as well as units of Teva Pharmaceutical, Johnson & Johnson, and Allergan Ltd .\n",
      "1. CVS Pharmacy Ltd -->> [CVS Pharmacy Ltd/en:ORG] asked the city of [Seattle/en:GPE] to also file a separate [lawsuit/if:lit] [against/lm:-] [Purdue/en:PRODUCT] as [well/lm:+] as units .\n",
      "4. Teva Pharmaceutical -->> file a separate [lawsuit/if:lit] [against/lm:-] [Purdue/en:PRODUCT] as [well/lm:+] as units of [Teva Pharmaceutical/en:ORG] , [Johnson & Johnson/en:ORG] , and [Allergan Ltd/en:ORG]\n",
      "5. Johnson & Johnson -->> file a separate [lawsuit/if:lit] [against/lm:-] [Purdue/en:PRODUCT] as [well/lm:+] as units of [Teva Pharmaceutical/en:ORG] , [Johnson & Johnson/en:ORG] , and [Allergan Ltd/en:ORG]\n",
      "6. Allergan Ltd -->> file a separate [lawsuit/if:lit] [against/lm:-] [Purdue/en:PRODUCT] as [well/lm:+] as units of [Teva Pharmaceutical/en:ORG] , [Johnson & Johnson/en:ORG] , and [Allergan Ltd/en:ORG]\n",
      "\n",
      "\n"
     ]
    }
   ],
   "source": [
    "for sentence in sentences: \n",
    "    doc = show_entity_scope(sentence, detectors=[dr_detector, en_detector, if_detector])\n",
    "    print(\"\\n\")"
   ]
  },
  {
   "cell_type": "code",
   "execution_count": null,
   "metadata": {
    "collapsed": true
   },
   "outputs": [],
   "source": []
  }
 ],
 "metadata": {
  "anaconda-cloud": {},
  "kernelspec": {
   "display_name": "Python [conda env:fsa]",
   "language": "python",
   "name": "conda-env-fsa-py"
  },
  "language_info": {
   "codemirror_mode": {
    "name": "ipython",
    "version": 3
   },
   "file_extension": ".py",
   "mimetype": "text/x-python",
   "name": "python",
   "nbconvert_exporter": "python",
   "pygments_lexer": "ipython3",
   "version": "3.5.5"
  }
 },
 "nbformat": 4,
 "nbformat_minor": 2
}
