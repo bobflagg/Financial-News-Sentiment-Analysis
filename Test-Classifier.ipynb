{
 "cells": [
  {
   "cell_type": "code",
   "execution_count": 1,
   "metadata": {
    "collapsed": false
   },
   "outputs": [
    {
     "data": {
      "text/html": [
       "<style>.container { width:100% !important; }</style>"
      ],
      "text/plain": [
       "<IPython.core.display.HTML object>"
      ]
     },
     "metadata": {},
     "output_type": "display_data"
    }
   ],
   "source": [
    "from IPython.core.display import display, HTML\n",
    "display(HTML(\"<style>.container { width:100% !important; }</style>\"))\n",
    "\n",
    "import matplotlib.pyplot as plt\n",
    "%matplotlib inline  \n",
    "\n",
    "import numpy as np\n",
    "\n",
    "import warnings\n",
    "warnings.filterwarnings(\"ignore\")\n",
    "\n",
    "%load_ext autoreload\n",
    "%autoreload 2"
   ]
  },
  {
   "cell_type": "code",
   "execution_count": 2,
   "metadata": {
    "collapsed": false
   },
   "outputs": [],
   "source": [
    "from collections import Counter\n",
    "\n",
    "from sklearn.ensemble import ExtraTreesClassifier\n",
    "from sklearn.externals import joblib\n",
    "from sklearn.feature_extraction.text import CountVectorizer, TfidfTransformer\n",
    "from sklearn.feature_selection import SelectFromModel\n",
    "from sklearn.metrics import accuracy_score, confusion_matrix\n",
    "from sklearn.naive_bayes import MultinomialNB\n",
    "from sklearn.pipeline import Pipeline\n",
    "\n",
    "from fnsa.classifier.classifier import NBSVM\n",
    "from fnsa.classifier.data import load as load_data\n",
    "from fnsa.classifier.util import cross_validate, evaluate, plot_confusion_matrix"
   ]
  },
  {
   "cell_type": "code",
   "execution_count": 3,
   "metadata": {
    "collapsed": false
   },
   "outputs": [
    {
     "name": "stdout",
     "output_type": "stream",
     "text": [
      "n_records: 2264\n",
      "n_lps_records: 2264\n",
      "lps_accuracy: 0.855\n"
     ]
    }
   ],
   "source": [
    "include_words = True\n",
    "fname = 'all-agree'\n",
    "if include_words: fname = 'all-agree-with-words'\n",
    "classes = [-1, 0, 1]\n",
    "sentences, X, y = load_data(fname + \".tsv\")\n",
    "\n",
    "# For comparison with the paper results compute the weighted average of the accuracies they report:\n",
    "\n",
    "lps_accuracies = {-1: 0.951, 0: 0.828, 1: 0.869}\n",
    "lps_cnts = dict(Counter(y))\n",
    "n_lps_records = sum(lps_cnts.values())\n",
    "n_records = len(y)\n",
    "lps_accuracy = sum([lps_accuracies[key] * lps_cnts[key] for key in classes]) / n_records\n",
    "print(\"n_records:\", n_records)\n",
    "print(\"n_lps_records:\", n_lps_records)\n",
    "print(\"lps_accuracy: %0.3f\" % lps_accuracy)"
   ]
  },
  {
   "cell_type": "markdown",
   "metadata": {},
   "source": [
    "## Naive Bayes"
   ]
  },
  {
   "cell_type": "code",
   "execution_count": 4,
   "metadata": {
    "collapsed": false
   },
   "outputs": [
    {
     "name": "stdout",
     "output_type": "stream",
     "text": [
      "Fold 01 accuracy = 0.855.\n",
      "Fold 02 accuracy = 0.846.\n",
      "Fold 03 accuracy = 0.894.\n",
      "Fold 04 accuracy = 0.916.\n",
      "Fold 05 accuracy = 0.876.\n",
      "Fold 06 accuracy = 0.858.\n",
      "Fold 07 accuracy = 0.876.\n",
      "Fold 08 accuracy = 0.916.\n",
      "Fold 09 accuracy = 0.876.\n",
      "Fold 10 accuracy = 0.912.\n",
      "Average Accuracy = 0.883.\n"
     ]
    },
    {
     "data": {
      "image/png": "[encoded data removed]",
      "text/plain": [
       "<Figure size 576x576 with 2 Axes>"
      ]
     },
     "metadata": {},
     "output_type": "display_data"
    }
   ],
   "source": [
    "alpha=0.025\n",
    "binary = True\n",
    "ngram_range = (1,2)\n",
    "use_fs = False\n",
    "use_idf = True\n",
    "\n",
    "pipeline = [('vectorizer', CountVectorizer(ngram_range=ngram_range, binary=binary))]\n",
    "if use_fs: pipeline.append(('feature-selector', SelectFromModel(ExtraTreesClassifier())))\n",
    "if use_idf: pipeline.append(('transformer', TfidfTransformer()))\n",
    "pipeline.append(('estimator', MultinomialNB(alpha)))\n",
    "    \n",
    "classifier = Pipeline(pipeline)\n",
    "classifier = classifier.fit(X, y)\n",
    "\n",
    "accuracy, cm = cross_validate(classifier, X, y, n_splits=10, shuffle=True, random_state=None)\n",
    "plot_confusion_matrix(cm, classes)\n",
    "print(\"Average Accuracy = %0.3f.\" % (accuracy,))\n",
    "\n",
    "path = './model/nb-%s.pkl' % fname\n",
    "joblib.dump(classifier, path);"
   ]
  },
  {
   "cell_type": "code",
   "execution_count": 5,
   "metadata": {
    "collapsed": false
   },
   "outputs": [],
   "source": [
    "path = './model/nb-%s.pkl' % fname\n",
    "joblib.dump(classifier, path)\n",
    "classifier_loaded = joblib.load(path)"
   ]
  },
  {
   "cell_type": "code",
   "execution_count": null,
   "metadata": {
    "collapsed": true
   },
   "outputs": [],
   "source": [
    "y_predicted = classifier.predict(X)"
   ]
  },
  {
   "cell_type": "code",
   "execution_count": null,
   "metadata": {
    "collapsed": false
   },
   "outputs": [],
   "source": [
    "code2position = {-1:0, 0:1, 1:2}\n",
    "code2sentiment = {-1:'-', 0:'=', 1:'+'}\n",
    "def correct_confidence(index):\n",
    "    x = X[index]\n",
    "    probs = classifier.predict_proba([x])[0]\n",
    "    position = code2position[y[index]]\n",
    "    return probs[position]    "
   ]
  },
  {
   "cell_type": "code",
   "execution_count": null,
   "metadata": {
    "collapsed": false
   },
   "outputs": [],
   "source": [
    "indices = range(len(y))\n",
    "indices = sorted(indices, key=lambda index: correct_confidence(index))"
   ]
  },
  {
   "cell_type": "code",
   "execution_count": null,
   "metadata": {
    "collapsed": false
   },
   "outputs": [],
   "source": [
    "for index in indices[:20]:\n",
    "    actual = code2sentiment[y[index]]\n",
    "    predicted = code2sentiment[y_predicted[index]]\n",
    "    print(\"%d [%s||%s] %s\\n%s\" % (index, predicted, actual, sentences[index], X[index]))\n",
    "    print('-----')"
   ]
  },
  {
   "cell_type": "code",
   "execution_count": null,
   "metadata": {
    "collapsed": false
   },
   "outputs": [],
   "source": [
    "for index in indices[-20:]:\n",
    "    actual = code2sentiment[y[index]]\n",
    "    predicted = code2sentiment[y_predicted[index]]\n",
    "    print(\"%d [%s||%s] %s\\n%s\" % (index, predicted, actual, sentences[index], X[index]))\n",
    "    print('-----')"
   ]
  },
  {
   "cell_type": "markdown",
   "metadata": {},
   "source": [
    "## NBSVM"
   ]
  },
  {
   "cell_type": "code",
   "execution_count": 6,
   "metadata": {
    "collapsed": false
   },
   "outputs": [
    {
     "name": "stdout",
     "output_type": "stream",
     "text": [
      "Fold 01 accuracy = 0.877.\n",
      "Fold 02 accuracy = 0.916.\n",
      "Fold 03 accuracy = 0.903.\n",
      "Fold 04 accuracy = 0.920.\n",
      "Fold 05 accuracy = 0.894.\n",
      "Fold 06 accuracy = 0.929.\n",
      "Fold 07 accuracy = 0.894.\n",
      "Fold 08 accuracy = 0.898.\n",
      "Fold 09 accuracy = 0.881.\n",
      "Fold 10 accuracy = 0.894.\n",
      "Average Accuracy = 0.901.\n"
     ]
    },
    {
     "data": {
      "image/png": "[encoded data removed]",
      "text/plain": [
       "<Figure size 576x576 with 2 Axes>"
      ]
     },
     "metadata": {},
     "output_type": "display_data"
    }
   ],
   "source": [
    "alpha=0.2\n",
    "binary = True\n",
    "ngram_range = (1,3)\n",
    "use_fs = False\n",
    "use_idf = False\n",
    "\n",
    "pipeline = [('vectorizer', CountVectorizer(ngram_range=ngram_range, binary=binary))]\n",
    "if use_fs: pipeline.append(('feature-selector', SelectFromModel(ExtraTreesClassifier())))\n",
    "if use_idf: pipeline.append(('transformer', TfidfTransformer()))\n",
    "pipeline.append(('estimator', NBSVM(alpha=alpha, C=1.0, beta=0.25)))\n",
    "    \n",
    "classifier = Pipeline(pipeline)\n",
    "classifier = classifier.fit(X, y)\n",
    "\n",
    "accuracy, cm = cross_validate(classifier, X, y, n_splits=10, shuffle=True, random_state=None)\n",
    "plot_confusion_matrix(cm, classes)\n",
    "print(\"Average Accuracy = %0.3f.\" % (accuracy,))\n",
    "\n",
    "path = './model/nbsvm-%s.pkl' % fname\n",
    "joblib.dump(classifier, path)\n",
    "classifier_loaded = joblib.load(path)"
   ]
  },
  {
   "cell_type": "code",
   "execution_count": null,
   "metadata": {
    "collapsed": false
   },
   "outputs": [],
   "source": [
    "accuracy, cm = evaluate(classifier_loaded, X, y)\n",
    "plot_confusion_matrix(cm, classes)\n",
    "print(\"Accuracy = %0.3f.\" % (accuracy,))"
   ]
  },
  {
   "cell_type": "markdown",
   "metadata": {},
   "source": [
    "## Sentence-Level Sentiment Analysis of Financial News Test Dataset"
   ]
  },
  {
   "cell_type": "code",
   "execution_count": 8,
   "metadata": {
    "collapsed": false
   },
   "outputs": [
    {
     "name": "stdout",
     "output_type": "stream",
     "text": [
      "Accuracy = 0.159.\n"
     ]
    },
    {
     "data": {
      "image/png": "[encoded data removed]",
      "text/plain": [
       "<Figure size 576x576 with 2 Axes>"
      ]
     },
     "metadata": {},
     "output_type": "display_data"
    }
   ],
   "source": [
    "fname = 'sentence-level'\n",
    "if include_words: fname = '%s-with-words' % fname\n",
    "sl_sentences, sl_X, sl_y = load_data(fname + \".tsv\")\n",
    "sl_y = [-1 if code == 0 else 1 for code in sl_y]\n",
    "accuracy, cm = evaluate(classifier_loaded, sl_X, sl_y)\n",
    "plot_confusion_matrix(cm, classes)\n",
    "print(\"Accuracy = %0.3f.\" % (accuracy,))"
   ]
  },
  {
   "cell_type": "code",
   "execution_count": null,
   "metadata": {
    "collapsed": false
   },
   "outputs": [],
   "source": [
    "sl_X[:10]"
   ]
  },
  {
   "cell_type": "code",
   "execution_count": null,
   "metadata": {
    "collapsed": true
   },
   "outputs": [],
   "source": []
  }
 ],
 "metadata": {
  "anaconda-cloud": {},
  "kernelspec": {
   "display_name": "Python [conda env:fsa]",
   "language": "python",
   "name": "conda-env-fsa-py"
  },
  "language_info": {
   "codemirror_mode": {
    "name": "ipython",
    "version": 3
   },
   "file_extension": ".py",
   "mimetype": "text/x-python",
   "name": "python",
   "nbconvert_exporter": "python",
   "pygments_lexer": "ipython3",
   "version": "3.5.5"
  }
 },
 "nbformat": 4,
 "nbformat_minor": 2
}
