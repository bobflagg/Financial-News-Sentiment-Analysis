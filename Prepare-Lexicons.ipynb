{
 "cells": [
  {
   "cell_type": "code",
   "execution_count": 8,
   "metadata": {
    "collapsed": true
   },
   "outputs": [],
   "source": [
    "import os"
   ]
  },
  {
   "cell_type": "markdown",
   "metadata": {},
   "source": [
    "## MPQA"
   ]
  },
  {
   "cell_type": "code",
   "execution_count": 9,
   "metadata": {
    "collapsed": false
   },
   "outputs": [],
   "source": [
    "mpqa_directory = '/opt/code/github/mpqa'\n",
    "subjclues = set([])\n",
    "for fname in os.listdir(mpqa_directory):\n",
    "    if fname.endswith('subjclues.tff'):\n",
    "        path = os.path.join(mpqa_directory, fname)\n",
    "        with open(path) as fp: \n",
    "            cnt = 0\n",
    "            for line in fp:\n",
    "                line = line.strip()\n",
    "                if cnt > 0: \n",
    "                    word = line.split()[2].split('=')[-1]\n",
    "                    polarity = line.split()[-1].split('=')[-1]\n",
    "                    subjclues.add((word, polarity))\n",
    "                cnt += 1\n"
   ]
  },
  {
   "cell_type": "code",
   "execution_count": 11,
   "metadata": {
    "collapsed": false
   },
   "outputs": [],
   "source": [
    "intensifiers = \"\"\"absolutely, absurdly, resoundingly, amazingly, awfully, extremely, completely, highly, incredibly, perfectly, quite, really, strikingly, surprisingly, terribly, totally, unbelievably, hugely, unnaturally, unusually, utterly, very, tremendously, spectacularly, absolute, extreme, incredible, perfect, phenomenal, spectacular, huge, major, tremendous, complete, considerable, real, terrible, total, unbelievable, utter, great, resounding\"\"\".split(\", \")\n",
    "target = '/opt/code/github/Financial-News-Sentiment-Analysis-Local/lexicon/intensifiers.txt'\n",
    "with open(target, mode='w', encoding='UTF-8') as fp:\n",
    "    for intensifier in intensifiers: fp.write(\"%s\\n\" % intensifier)"
   ]
  },
  {
   "cell_type": "markdown",
   "metadata": {
    "collapsed": false
   },
   "source": [
    "## LM"
   ]
  },
  {
   "cell_type": "code",
   "execution_count": 12,
   "metadata": {
    "collapsed": false
   },
   "outputs": [],
   "source": [
    "path = '/opt/code/github/pysentiment/pysentiment/static/LM.csv'\n",
    "catgory2code = {'uncertainty':'unc', 'litigious':'lit', 'modal':'mod'}\n",
    "\n",
    "cnt = 0\n",
    "items = set([])\n",
    "with open(path) as fp:\n",
    "    for line in fp:\n",
    "        line = line.strip()\n",
    "        if line:\n",
    "            data = line.split(\",\")\n",
    "            if cnt == 0: \n",
    "                fields = data\n",
    "            else:\n",
    "                info = {key:value for key, value in zip(fields, data)}\n",
    "                category = None\n",
    "                #for key in ['Negative', 'Positive', 'Uncertainty', 'Litigious', 'Constraining', 'Superfluous', 'Interesting', 'Modal']:\n",
    "                for key in ['Negative', 'Positive', 'Uncertainty', 'Litigious', 'Modal']:\n",
    "                    value = info[key]\n",
    "                    if value != \"0\": category = key\n",
    "                if category: \n",
    "                    if category in ['Negative', 'Positive']: \n",
    "                        subjclues.add((info['Word'].lower(), category.lower()))\n",
    "                    else: items.add((info['Word'].lower(), catgory2code[category.lower()]))\n",
    "            cnt += 1"
   ]
  },
  {
   "cell_type": "code",
   "execution_count": 76,
   "metadata": {
    "collapsed": false
   },
   "outputs": [],
   "source": [
    "subjclues = list(subjclues)\n",
    "subjclues.sort()\n",
    "\n",
    "target = '/opt/code/github/Financial-News-Sentiment-Analysis/lexicon/lm.tsv'\n",
    "with open(target, mode='w', encoding='UTF-8') as fp:\n",
    "    for word, polarity in subjclues: fp.write(\"%s\\t%s\\n\" % (word, polarity2code[polarity]))"
   ]
  },
  {
   "cell_type": "markdown",
   "metadata": {},
   "source": [
    "## IF"
   ]
  },
  {
   "cell_type": "code",
   "execution_count": 13,
   "metadata": {
    "collapsed": false
   },
   "outputs": [],
   "source": [
    "glob = \"\"\"9015\tabsence\tReversal\n",
    "9016\tabsent\tReversal\n",
    "9017\tcan not\tReversal\n",
    "9018\tca n't\tReversal\n",
    "9020\tcould not\tReversal\n",
    "9021\tcould n't\tReversal\n",
    "9022\tdenied\tReversal\n",
    "9023\tdenies\tReversal\n",
    "9024\tdeny\tReversal\n",
    "9025\tdespite\tReversal\n",
    "9026\tdid not\tReversal\n",
    "9027\tdid n't\tReversal\n",
    "9028\tdoes not\tReversal\n",
    "9029\tdoes n't\tReversal\n",
    "9030\tdo not\tReversal\n",
    "9031\tdo n't\tReversal\n",
    "9032\teither\tReversal\n",
    "9033\texcept\tReversal\n",
    "9034\texcepted\tReversal\n",
    "9035\texcepting\tReversal\n",
    "9036\texcepts\tReversal\n",
    "9037\texclude\tReversal\n",
    "9038\texcluded\tReversal\n",
    "9039\texcludes\tReversal\n",
    "9040\texcluding\tReversal\n",
    "9041\tfail\tReversal\n",
    "9042\tfailed\tReversal\n",
    "9043\tfailing\tReversal\n",
    "9044\tfails\tReversal\n",
    "9045\tfailure\tReversal\n",
    "9046\tfailures\tReversal\n",
    "9047\tfall\tReversal\n",
    "9048\tfavor over\tReversal\n",
    "9049\thad no\tReversal\n",
    "9050\thave no\tReversal\n",
    "9051\timpossible\tReversal\n",
    "9052\tinability\tReversal\n",
    "9053\tinstead of\tReversal\n",
    "9054\tis not\tReversal\n",
    "9055\tis n't\tReversal\n",
    "9056\tlack\tReversal\n",
    "9058\tlosses\tReversal\n",
    "9059\tmay not\tReversal\n",
    "9060\tmiss\tReversal\n",
    "9061\tmissed\tReversal\n",
    "9062\tmisses\tReversal\n",
    "9063\tmissing\tReversal\n",
    "9064\tnegative\tReversal\n",
    "9065\tneither\tReversal\n",
    "9066\tnever\tReversal\n",
    "9067\tno\tReversal\n",
    "9068\tno longer\tReversal\n",
    "9069\tnobody\tReversal\n",
    "9070\tnone\tReversal\n",
    "9071\tnope\tReversal\n",
    "9072\tnor\tReversal\n",
    "9073\tnot\tReversal\n",
    "9074\tnot very\tReversal\n",
    "9075\tnothing\tReversal\n",
    "9076\tnotwithstanding\tReversal\n",
    "9077\tnowhere\tReversal\n",
    "9078\toutweighed\tReversal\n",
    "9079\trather than\tReversal\n",
    "9080\trejected\tReversal\n",
    "9081\treversal\tReversal\n",
    "9082\trule out\tReversal\n",
    "9083\tunable\tReversal\n",
    "9084\tunauthorized\tReversal\n",
    "9085\tunavailable\tReversal\n",
    "9086\tunaware\tReversal\n",
    "9087\twas no\tReversal\n",
    "9088\twas not\tReversal\n",
    "9089\twas n't\tReversal\n",
    "9090\twill not\tReversal\n",
    "9091\twill not be\tReversal\n",
    "9092\twith the exception of\tReversal\n",
    "9093\twithout\tReversal\n",
    "9094\two n't be\tReversal\n",
    "9095\twould not\tReversal\n",
    "9096\twould not be\tReversal\n",
    "9098\tAbsence\tReversal\n",
    "9101\tAbsent\tReversal\n",
    "9104\tCan not\tReversal\n",
    "9105\tCan Not\tReversal\n",
    "9107\tCa n't\tReversal\n",
    "9108\tCa N'T\tReversal\n",
    "9113\tCould not\tReversal\n",
    "9114\tCould Not\tReversal\n",
    "9116\tCould n't\tReversal\n",
    "9117\tCould N'T\tReversal\n",
    "9119\tDenied\tReversal\n",
    "9122\tDenies\tReversal\n",
    "9125\tDeny\tReversal\n",
    "9128\tDespite\tReversal\n",
    "9131\tDid not\tReversal\n",
    "9132\tDid Not\tReversal\n",
    "9134\tDid n't\tReversal\n",
    "9135\tDid N'T\tReversal\n",
    "9137\tDoes not\tReversal\n",
    "9138\tDoes Not\tReversal\n",
    "9140\tDoes n't\tReversal\n",
    "9141\tDoes N'T\tReversal\n",
    "9143\tDo not\tReversal\n",
    "9144\tDo Not\tReversal\n",
    "9146\tDo n't\tReversal\n",
    "9147\tDo N'T\tReversal\n",
    "9149\tEither\tReversal\n",
    "9152\tExcept\tReversal\n",
    "9155\tExcepted\tReversal\n",
    "9158\tExcepting\tReversal\n",
    "9161\tExcepts\tReversal\n",
    "9164\tExclude\tReversal\n",
    "9167\tExcluded\tReversal\n",
    "9170\tExcludes\tReversal\n",
    "9173\tExcluding\tReversal\n",
    "9176\tFail\tReversal\n",
    "9179\tFailed\tReversal\n",
    "9182\tFailing\tReversal\n",
    "9185\tFails\tReversal\n",
    "9188\tFailure\tReversal\n",
    "9191\tFailures\tReversal\n",
    "9194\tFall\tReversal\n",
    "9197\tFavor over\tReversal\n",
    "9198\tFavor Over\tReversal\n",
    "9200\tHad no\tReversal\n",
    "9201\tHad No\tReversal\n",
    "9203\tHave no\tReversal\n",
    "9204\tHave No\tReversal\n",
    "9206\tImpossible\tReversal\n",
    "9209\tInability\tReversal\n",
    "9212\tInstead of\tReversal\n",
    "9213\tInstead Of\tReversal\n",
    "9215\tIs not\tReversal\n",
    "9216\tIs Not\tReversal\n",
    "9218\tIs n't\tReversal\n",
    "9219\tIs N'T\tReversal\n",
    "9221\tLack\tReversal\n",
    "9224\tLosses\tReversal\n",
    "9227\tMay not\tReversal\n",
    "9228\tMay Not\tReversal\n",
    "9230\tMiss\tReversal\n",
    "9233\tMissed\tReversal\n",
    "9236\tMisses\tReversal\n",
    "9239\tMissing\tReversal\n",
    "9242\tNegative\tReversal\n",
    "9245\tNeither\tReversal\n",
    "9248\tNever\tReversal\n",
    "9251\tNo\tReversal\n",
    "9254\tNo longer\tReversal\n",
    "9255\tNo Longer\tReversal\n",
    "9257\tNobody\tReversal\n",
    "9260\tNone\tReversal\n",
    "9263\tNope\tReversal\n",
    "9266\tNor\tReversal\n",
    "9269\tNot\tReversal\n",
    "9272\tNot very\tReversal\n",
    "9273\tNot Very\tReversal\n",
    "9275\tNothing\tReversal\n",
    "9278\tNotwithstanding\tReversal\n",
    "9281\tNowhere\tReversal\n",
    "9284\tOutweighed\tReversal\n",
    "9287\tRather than\tReversal\n",
    "9288\tRather Than\tReversal\n",
    "9290\tRejected\tReversal\n",
    "9293\tReversal\tReversal\n",
    "9296\tRule out\tReversal\n",
    "9297\tRule Out\tReversal\n",
    "9299\tUnable\tReversal\n",
    "9302\tUnauthorized\tReversal\n",
    "9305\tUnavailable\tReversal\n",
    "9308\tUnaware\tReversal\n",
    "9311\tWas no\tReversal\n",
    "9312\tWas No\tReversal\n",
    "9314\tWas not\tReversal\n",
    "9315\tWas Not\tReversal\n",
    "9317\tWas n't\tReversal\n",
    "9318\tWas N'T\tReversal\n",
    "9320\tWill not\tReversal\n",
    "9321\tWill Not\tReversal\n",
    "9323\tWill not be\tReversal\n",
    "9324\tWill Not Be\tReversal\n",
    "9326\tWith the exception of\tReversal\n",
    "9327\tWith The Exception Of\tReversal\n",
    "9329\tWithout\tReversal\n",
    "9332\tWo n't be\tReversal\n",
    "9333\tWo N'T Be\tReversal\n",
    "9335\tWould not\tReversal\n",
    "9336\tWould Not\tReversal\n",
    "9338\tWould not be\tReversal\n",
    "9339\tWould Not Be\tReversal\n",
    "9910\tavoided\tReversal\n",
    "9911\twon't\tReversal\n",
    "9912\tbarring\tReversal\n",
    "9913\tstrives\tUncertain\n",
    "\"\"\"\n",
    "for line in glob.split('\\n'):\n",
    "    line = line.strip()\n",
    "    if line:\n",
    "        _, word, category = line.split('\\t')\n",
    "        if category == 'Reversal': items.add((word, 'rev'))"
   ]
  },
  {
   "cell_type": "code",
   "execution_count": 14,
   "metadata": {
    "collapsed": true
   },
   "outputs": [],
   "source": [
    "items = list(items)\n",
    "items.sort()\n",
    "\n",
    "target = '/opt/code/github/Financial-News-Sentiment-Analysis/fnsa/lexicons/if.tsv'\n",
    "with open(target, mode='w', encoding='UTF-8') as fp:\n",
    "    for word, category in items: fp.write(\"%s\\t%s\\n\" % (word, category))"
   ]
  },
  {
   "cell_type": "markdown",
   "metadata": {},
   "source": [
    "## DR"
   ]
  },
  {
   "cell_type": "code",
   "execution_count": 81,
   "metadata": {
    "collapsed": false
   },
   "outputs": [],
   "source": [
    "source = '/opt/code/sentiment-analysis/branches/master/git/sentimentanalysis/fsa/lps/direction-lexicon.tsv'\n",
    "target = '/opt/code/github/Financial-News-Sentiment-Analysis/lexicon/dr.tsv'\n",
    "with open(target, mode='w', encoding='UTF-8') as ofp:\n",
    "    cnt = 0\n",
    "    with open(source) as fp:\n",
    "        for line in fp:\n",
    "            line = line.strip()\n",
    "            if line: \n",
    "                _, word, polarity = line.split(\"\\t\")\n",
    "                ofp.write(\"%s\\t%s\\n\" % (word, polarity))"
   ]
  },
  {
   "cell_type": "markdown",
   "metadata": {},
   "source": [
    "## FE"
   ]
  },
  {
   "cell_type": "code",
   "execution_count": 86,
   "metadata": {
    "collapsed": false
   },
   "outputs": [],
   "source": [
    "source = '/opt/code/sentiment-analysis/branches/master/git/sentimentanalysis/fsa/lps/entity-lexicon.tsv'\n",
    "target = '/opt/code/github/Financial-News-Sentiment-Analysis/lexicon/fe.tsv'\n",
    "with open(target, mode='w', encoding='UTF-8') as ofp:\n",
    "    cnt = 0\n",
    "    with open(source) as fp:\n",
    "        for line in fp:\n",
    "            line = line.strip()\n",
    "            if line: \n",
    "                _, phrase, _, polarity = line.split(\"\\t\")\n",
    "                ofp.write(\"%s\\t%s\\n\" % (phrase, polarity))"
   ]
  },
  {
   "cell_type": "markdown",
   "metadata": {},
   "source": [
    "## FI"
   ]
  },
  {
   "cell_type": "code",
   "execution_count": 88,
   "metadata": {
    "collapsed": false
   },
   "outputs": [],
   "source": [
    "source = '/opt/code/sentiment-analysis/branches/master/git/sentimentanalysis/fsa/lps/idiom-lexicon.tsv'\n",
    "target = '/opt/code/github/Financial-News-Sentiment-Analysis/lexicon/fi.tsv'\n",
    "with open(target, mode='w', encoding='UTF-8') as ofp:\n",
    "    cnt = 0\n",
    "    with open(source) as fp:\n",
    "        for line in fp:\n",
    "            line = line.strip()\n",
    "            if line: \n",
    "                _, phrase, polarity = line.split(\"\\t\")\n",
    "                ofp.write(\"%s\\t%s\\n\" % (phrase, polarity))\n",
    "                "
   ]
  },
  {
   "cell_type": "code",
   "execution_count": null,
   "metadata": {
    "collapsed": true
   },
   "outputs": [],
   "source": []
  }
 ],
 "metadata": {
  "anaconda-cloud": {},
  "kernelspec": {
   "display_name": "Python [conda env:fsa]",
   "language": "python",
   "name": "conda-env-fsa-py"
  },
  "language_info": {
   "codemirror_mode": {
    "name": "ipython",
    "version": 3
   },
   "file_extension": ".py",
   "mimetype": "text/x-python",
   "name": "python",
   "nbconvert_exporter": "python",
   "pygments_lexer": "ipython3",
   "version": "3.5.5"
  }
 },
 "nbformat": 4,
 "nbformat_minor": 2
}
