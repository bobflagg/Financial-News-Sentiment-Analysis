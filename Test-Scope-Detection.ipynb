{
 "cells": [
  {
   "cell_type": "code",
   "execution_count": 1,
   "metadata": {
    "collapsed": false
   },
   "outputs": [
    {
     "data": {
      "text/html": [
       "<style>.container { width:100% !important; }</style>"
      ],
      "text/plain": [
       "<IPython.core.display.HTML object>"
      ]
     },
     "metadata": {},
     "output_type": "display_data"
    }
   ],
   "source": [
    "from IPython.core.display import display, HTML\n",
    "display(HTML(\"<style>.container { width:100% !important; }</style>\"))\n",
    "\n",
    "%load_ext autoreload\n",
    "%autoreload 2\n",
    "\n",
    "import matplotlib.pyplot as plt\n",
    "%matplotlib inline  \n",
    "\n",
    "import numpy as np"
   ]
  },
  {
   "cell_type": "code",
   "execution_count": 2,
   "metadata": {
    "collapsed": false
   },
   "outputs": [],
   "source": [
    "from fnsa.lexicon import get_en2scope, Lexicon\n",
    "from fnsa.scope import DRScopeDetector, IFScopeDetector, score_candidate\n",
    "from fnsa.graph import make_graph\n",
    "from fnsa.util import *\n",
    "import spacy\n",
    "nlp = spacy.load('en_core_web_sm')\n",
    "sentences = load_sentences()"
   ]
  },
  {
   "cell_type": "code",
   "execution_count": 3,
   "metadata": {
    "collapsed": false
   },
   "outputs": [],
   "source": [
    "lexicon = Lexicon(nlp)\n",
    "dr_detector = DRScopeDetector()\n",
    "if_detector = IFScopeDetector()"
   ]
  },
  {
   "cell_type": "code",
   "execution_count": 4,
   "metadata": {
    "collapsed": false
   },
   "outputs": [
    {
     "name": "stdout",
     "output_type": "stream",
     "text": [
      "The acquisition would give CIBC control of FirstCaribbean with a stake of 87.4 percent.\n",
      " The acquisition [would/if:mod] give [CIBC/xe:org] control of [FirstCaribbean/xe:org] with a [stake/fe:+] of [87.4 percent/xe:per] .\n",
      "                  give                                              \n",
      "   ________________|________________________________                 \n",
      "  |        |              |                        with             \n",
      "  |        |              |                         |                \n",
      "  |        |           control                    stake             \n",
      "  |        |        ______|__________           ____|________        \n",
      "  |   acquisition  |                 of        |             of     \n",
      "  |        |       |                 |         |             |       \n",
      "would     The     CIBC         FirstCaribbean  a        87.4 percent\n",
      "\n",
      "   [nd||?]                  The -->> =||=||?\n",
      "   [nd||?]          acquisition -->> =||=||?\n",
      " [if||mod]                would -->> =||=||?\n",
      "   [nd||?]                 give -->> =||=||?\n",
      " [xe||org]                 CIBC -->> =||=||?\n",
      "   [nd||?]              control -->> =||=||?\n",
      "   [nd||?]                   of -->> =||=||?\n",
      " [xe||org]       FirstCaribbean -->> =||=||?\n",
      "   [nd||?]                 with -->> =||=||?\n",
      "   [nd||?]                    a -->> =||=||?\n",
      "   [fe||+]                stake -->> =||mod||?\n",
      "   [nd||?]                   of -->> =||=||?\n",
      " [xe||per]         87.4 percent -->> =||=||?\n",
      "   [nd||?]                    . -->> =||=||?\n",
      "\n",
      "\n"
     ]
    }
   ],
   "source": [
    "def show_detection(sentence, detectors=[dr_detector, if_detector]):\n",
    "    doc = lexicon(sentence)\n",
    "    show(doc, index=None, include_text=True, include_tree=True)\n",
    "    graph = make_graph(doc)\n",
    "    lex2tokens = build_lex2tokens(doc)\n",
    "    for detector in detectors: detector(doc, graph, lex2tokens)\n",
    "    show_tokens(doc, include_annotations=False, include_text=False)\n",
    "    return doc\n",
    "for sentence in sentences[-1:]: \n",
    "    doc = show_detection(sentence)\n",
    "    print(\"\\n\")"
   ]
  },
  {
   "cell_type": "markdown",
   "metadata": {},
   "source": [
    "## Scope too Wide Bug - PATCHED!\n",
    "\n",
    "In the sentence\n",
    "\n",
    "> Comptel Corporation has received a significant long-term order as the mediation process wraps up.\n",
    "\n",
    "the litigious influencer \"mediation\" should only apply to one financial entity."
   ]
  },
  {
   "cell_type": "code",
   "execution_count": 5,
   "metadata": {
    "collapsed": false
   },
   "outputs": [],
   "source": [
    "from fnsa.graph import make_graph, get_distance\n",
    "from fnsa.util import build_lex2tokens, DEFAULT_LEX, EXTRACTED_ENTITY_LEX\n",
    "import numpy as np"
   ]
  },
  {
   "cell_type": "code",
   "execution_count": 8,
   "metadata": {
    "collapsed": false
   },
   "outputs": [
    {
     "name": "stdout",
     "output_type": "stream",
     "text": [
      "The move was triggered by weak demand for forestry equipment and the uncertain market situation .\n",
      " The [move/lm:=] was triggered by [weak/lm:-] [demand/fe:+] for forestry equipment and the [uncertain/if:mod] [market situation/fe:+] .\n",
      "              triggered                                         \n",
      "  ________________|_________                                     \n",
      " |   |                      by                                  \n",
      " |   |                      |                                    \n",
      " |   |                    demand                                \n",
      " |   |     _________________|________________                    \n",
      " |   |    |       |        for               |                  \n",
      " |   |    |       |         |                |                   \n",
      " |  move  |       |     equipment     market situation          \n",
      " |   |    |       |         |       _________|_____________      \n",
      "was The  weak    and     forestry the                  uncertain\n",
      "\n",
      "   [nd||?]                  The -->> =||=||?\n",
      "   [lm||=]                 move -->> =||=||?\n",
      "   [nd||?]                  was -->> =||=||?\n",
      "   [nd||?]            triggered -->> =||=||?\n",
      "   [nd||?]                   by -->> =||=||?\n",
      "   [lm||-]                 weak -->> =||=||?\n",
      "   [fe||+]               demand -->> =||=||?\n",
      "   [nd||?]                  for -->> =||=||?\n",
      "   [nd||?]             forestry -->> =||=||?\n",
      "   [nd||?]            equipment -->> =||=||?\n",
      "   [nd||?]                  and -->> =||=||?\n",
      "   [nd||?]                  the -->> =||=||?\n",
      " [if||mod]            uncertain -->> =||=||?\n",
      "   [fe||+]     market situation -->> =||mod||?\n",
      "   [nd||?]                    . -->> =||=||?\n"
     ]
    }
   ],
   "source": [
    "sentence = 'Comptel Corporation has made significant improvements even while the long-term order is under mediation.'\n",
    "sentence = 'The move was triggered by weak demand for forestry equipment and the uncertain market situation .'\n",
    "doc = show_detection(sentence, detectors=[dr_detector, if_detector])"
   ]
  },
  {
   "cell_type": "code",
   "execution_count": null,
   "metadata": {
    "collapsed": false
   },
   "outputs": [],
   "source": [
    "lex2tokens = build_lex2tokens(doc)\n",
    "graph = make_graph(doc)\n",
    "sources = if_detector.get_sources(doc, lex2tokens)\n",
    "print(\"sources:\", sources)\n",
    "targets = if_detector.get_targets(doc, lex2tokens)\n",
    "print(\"targets:\", targets)"
   ]
  },
  {
   "cell_type": "code",
   "execution_count": null,
   "metadata": {
    "collapsed": false
   },
   "outputs": [],
   "source": [
    "sources = if_detector.get_sources(doc, lex2tokens)\n",
    "targets = if_detector.get_targets(doc, lex2tokens)\n",
    "scores = []\n",
    "for source in sources:\n",
    "    candidates = [target for target in targets if np.abs(target.i - source.i) < if_detector.max_delta]\n",
    "    for candidate in candidates:\n",
    "        scores.append((source, candidate, score_candidate(graph, source, candidate), np.abs(candidate.i - source.i)))\n",
    "scores = sorted(scores, key=lambda item: item[-2:])\n",
    "source_assigned = set([])\n",
    "target_assigned = set([])\n",
    "for source, candidate, *rest in scores:\n",
    "    if candidate.i in source_assigned or source.i in target_assigned: continue\n",
    "    if_detector.apply(source, candidate)\n",
    "    source_assigned.add(candidate.i)\n",
    "    target_assigned.add(source.i)\n",
    "\n"
   ]
  },
  {
   "cell_type": "markdown",
   "metadata": {
    "collapsed": true
   },
   "source": [
    "## Directionality Scope Bug - PATCHED!\n",
    "\n",
    "In the sentence\n",
    "\n",
    "> The number of collection errors fell considerably, and operations speeded up.\n",
    "\n",
    "the scope of the directionality \"fell\" should be the financial entity phrase \"collection errors.\"\n"
   ]
  },
  {
   "cell_type": "code",
   "execution_count": null,
   "metadata": {
    "collapsed": false
   },
   "outputs": [],
   "source": [
    "sentence = \"The number of collection errors fell considerably, and operations speeded up.\"\n",
    "doc = show_detection(sentence, detectors=[dr_detector, if_detector])"
   ]
  },
  {
   "cell_type": "markdown",
   "metadata": {},
   "source": [
    "## Influencer Scope Bug - PATCHED!\n",
    "\n",
    "In the sentence\n",
    "\n",
    "> Despite the difficult conditions, the operating profit has jumped 36%.\n",
    "\n",
    "the scope of the reversal influencer \"Despite\" should be the LM term \"difficult.\""
   ]
  },
  {
   "cell_type": "code",
   "execution_count": null,
   "metadata": {
    "collapsed": false
   },
   "outputs": [],
   "source": [
    "sentence = \"Despite the difficult conditions, the operating profit has jumped 36%.\"\n",
    "doc = show_detection(sentence, detectors=[dr_detector, if_detector])"
   ]
  },
  {
   "cell_type": "markdown",
   "metadata": {},
   "source": [
    "## A Simple Example"
   ]
  },
  {
   "cell_type": "code",
   "execution_count": null,
   "metadata": {
    "collapsed": false
   },
   "outputs": [],
   "source": [
    "sentence = \"Google expects its EBIT in 2016 to increase 5-10% from 2015.\"\n",
    "doc = show_detection(sentence, detectors=[dr_detector, if_detector])"
   ]
  },
  {
   "cell_type": "markdown",
   "metadata": {},
   "source": [
    "## Miscellaneous Stuff - Can be deleted."
   ]
  },
  {
   "cell_type": "code",
   "execution_count": null,
   "metadata": {
    "collapsed": true
   },
   "outputs": [],
   "source": [
    "import networkx as nx\n",
    "def make_dir_graph(doc, include_punctuation=False):\n",
    "    graph = nx.DiGraph()\n",
    "    for token in doc:\n",
    "        if token.head.i == token.i: continue\n",
    "        if include_punctuation or token.pos_ != 'PUNCT':\n",
    "            s = str(token.head.i)\n",
    "            if not graph.has_node(s): graph.add_node(s, text=\"%s-%s\" % (s, token.head.text))\n",
    "            t = str(token.i)\n",
    "            if not graph.has_node(t): graph.add_node(t, text=\"%s-%s\" % (t, token.text))\n",
    "            graph.add_edge(s, t, **{'dep':token.dep_})\n",
    "    return graph"
   ]
  },
  {
   "cell_type": "code",
   "execution_count": null,
   "metadata": {
    "collapsed": true
   },
   "outputs": [],
   "source": [
    "graph = make_graph(doc)\n",
    "dir_graph = make_dir_graph(doc)\n",
    "lex2tokens = build_lex2tokens(doc)"
   ]
  },
  {
   "cell_type": "code",
   "execution_count": null,
   "metadata": {
    "collapsed": false
   },
   "outputs": [],
   "source": [
    "sources = if_detector.get_sources(doc, lex2tokens)\n",
    "print(\"sources:\", sources)\n",
    "targets = if_detector.get_targets(doc, lex2tokens)\n",
    "print(\"targets:\", targets)"
   ]
  },
  {
   "cell_type": "code",
   "execution_count": null,
   "metadata": {
    "collapsed": false
   },
   "outputs": [],
   "source": [
    "def score(graph, source, candidate):\n",
    "    f = get_distance(graph, source, candidate)\n",
    "    b = get_distance(graph, candidate, source)\n",
    "    d = min(f, b)\n",
    "    return d\n",
    "scores = []\n",
    "for source in sources:\n",
    "    print(source)\n",
    "    candidates = [target for target in targets if np.abs(target.i - source.i) < if_detector.max_delta]\n",
    "    for candidate in candidates:\n",
    "        scores.append((source, candidate, score_candidate(graph, source, candidate), np.abs(candidate.i - source.i)))\n",
    "scores = sorted(scores, key=lambda item: item[-2:])\n",
    "scores"
   ]
  },
  {
   "cell_type": "code",
   "execution_count": null,
   "metadata": {
    "collapsed": false
   },
   "outputs": [],
   "source": [
    "assigned = set([])\n",
    "scores = sorted(scores, key=lambda item: item[-2:])\n",
    "for source, candidate, score in scores:\n",
    "    print(source, candidate, score, candidate._.direction, source._.category)\n",
    "    if candidate.i in assigned: continue\n",
    "    print(\"Assigning %s to %s.\" % (source, candidate))\n",
    "    dr_detector.apply(source, candidate)\n",
    "    assigned.add(candidate.i)"
   ]
  },
  {
   "cell_type": "code",
   "execution_count": null,
   "metadata": {
    "collapsed": false
   },
   "outputs": [],
   "source": [
    "show(doc, index=None, include_text=True, include_tree=True)\n",
    "show_tokens(doc, include_annotations=False, include_text=False)"
   ]
  },
  {
   "cell_type": "code",
   "execution_count": null,
   "metadata": {
    "collapsed": true
   },
   "outputs": [],
   "source": []
  }
 ],
 "metadata": {
  "anaconda-cloud": {},
  "kernelspec": {
   "display_name": "Python [conda env:fsa]",
   "language": "python",
   "name": "conda-env-fsa-py"
  },
  "language_info": {
   "codemirror_mode": {
    "name": "ipython",
    "version": 3
   },
   "file_extension": ".py",
   "mimetype": "text/x-python",
   "name": "python",
   "nbconvert_exporter": "python",
   "pygments_lexer": "ipython3",
   "version": "3.5.5"
  }
 },
 "nbformat": 4,
 "nbformat_minor": 2
}
