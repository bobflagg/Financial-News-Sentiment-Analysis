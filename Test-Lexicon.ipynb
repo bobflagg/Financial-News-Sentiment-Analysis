{
 "cells": [
  {
   "cell_type": "code",
   "execution_count": 1,
   "metadata": {
    "collapsed": false
   },
   "outputs": [
    {
     "data": {
      "text/html": [
       "<style>.container { width:100% !important; }</style>"
      ],
      "text/plain": [
       "<IPython.core.display.HTML object>"
      ]
     },
     "metadata": {},
     "output_type": "display_data"
    }
   ],
   "source": [
    "from IPython.core.display import display, HTML\n",
    "display(HTML(\"<style>.container { width:100% !important; }</style>\"))\n",
    "\n",
    "%load_ext autoreload\n",
    "%autoreload 2"
   ]
  },
  {
   "cell_type": "code",
   "execution_count": 23,
   "metadata": {
    "collapsed": false
   },
   "outputs": [],
   "source": [
    "from fnsa.lexicon import get_entries, Lexicon, prepare, set_entries\n",
    "from fnsa.util import *\n",
    "import spacy"
   ]
  },
  {
   "cell_type": "code",
   "execution_count": 5,
   "metadata": {
    "collapsed": false
   },
   "outputs": [],
   "source": [
    "nlp = spacy.load('en_core_web_sm')\n",
    "sentences = load_sentences()"
   ]
  },
  {
   "cell_type": "code",
   "execution_count": 34,
   "metadata": {
    "collapsed": false
   },
   "outputs": [],
   "source": [
    "lexicon = Lexicon(nlp)"
   ]
  },
  {
   "cell_type": "code",
   "execution_count": 35,
   "metadata": {
    "collapsed": false
   },
   "outputs": [
    {
     "name": "stdout",
     "output_type": "stream",
     "text": [
      " [TietoEnator/xe:org] was [down/dr:-] [1.13/xe:car] pct to [18.38/xe:car] , [extending/dr:+] [recent lows/fe:-] after [last week 's/xe:dat] [second-quarter/xe:dat] report , [dealers/fe:+] said .\n"
     ]
    }
   ],
   "source": [
    "sentence = \"TietoEnator was down 1.13 pct to 18.38 , extending recent lows after last week 's second-quarter report , dealers said .\"\n",
    "doc = lexicon(sentence)\n",
    "show(doc)"
   ]
  },
  {
   "cell_type": "code",
   "execution_count": 29,
   "metadata": {
    "collapsed": false
   },
   "outputs": [
    {
     "name": "stdout",
     "output_type": "stream",
     "text": [
      " Initial estimated [total value/fe:+] of the [contract/if:lit] is $ [25,000/xe:mon] but it was later to [contract/dr:-] .\n"
     ]
    }
   ],
   "source": [
    "sentence = \"Initial estimated total value of the contract is $25,000 but it was later to contract.\"\n",
    "doc = lexicon(sentence)\n",
    "show(doc)"
   ]
  },
  {
   "cell_type": "code",
   "execution_count": 30,
   "metadata": {
    "collapsed": false
   },
   "outputs": [
    {
     "name": "stdout",
     "output_type": "stream",
     "text": [
      "Earnings per share ( EPS ) amounted to EUR0 .98 , up from the loss of EUR0 .02 .\n",
      " [Earnings per share/fe:+] ( [EPS/fe:+] ) amounted to [EUR0/xe:org] .98 , [up/dr:+] from the [loss/fe:-] of [EUR0/xe:org] .02 .\n"
     ]
    }
   ],
   "source": [
    "sentence = 'Earnings per share ( EPS ) amounted to EUR0 .98 , up from the loss of EUR0 .02 .'\n",
    "doc = lexicon(sentence)\n",
    "show(doc, include_text=True)"
   ]
  },
  {
   "cell_type": "code",
   "execution_count": 32,
   "metadata": {
    "collapsed": false
   },
   "outputs": [
    {
     "name": "stdout",
     "output_type": "stream",
     "text": [
      "1. Google expects its EBIT in 2016 to increase 5-10% from 2015.\n",
      "   [Google/xe:org] expects its [EBIT/fe:+] in [2016/xe:dat] to [increase/dr:+] [5-10%/xe:per] from [2015/xe:dat] .\n",
      "-----\n",
      "2. The number of collection errors fell considerably, and operations speeded up.\n",
      "   The number of [collection errors/fe:-] [fell/dr:-] [considerably/lm:=] , and [operations/fe:+] [speeded up/dr:+] .\n",
      "-----\n",
      "3. The Group's operative EBIT will probably be negative.\n",
      "   The [Group/xe:org] 's operative [EBIT/fe:+] will [probably/if:mod] be [negative/if:rev] .\n",
      "-----\n",
      "4. General Electric reports its operating profit increased to $20.5 million.\n",
      "   [General Electric/xe:org] reports its [operating profit/fe:+] [increased/dr:+] to [$20.5 million/xe:mon] .\n",
      "-----\n",
      "5. Ford Motor Company reported higher full-year profits on Thursday boosted by a buoyant period for its car loans unit.\n",
      "   [Ford Motor Company/xe:org] reported [higher/dr:+] [full-year profits/fe:+] on [Thursday/xe:dat] [boosted/dr:+] by a [buoyant period/fi:+] for its car loans unit .\n",
      "-----\n",
      "6. By agreeing to stay the proceedings, AT&T avoided a potential bombshell.\n",
      "   By agreeing to stay the proceedings , [AT&T/xe:org] [avoided/if:rev] a [potential bombshell/fi:-] .\n",
      "-----\n",
      "7. Shares of Standard Chartered rose 1.2%, while Royal Bank of Scotland shares rose 2% and Barclays shares were down 1.7%.\n",
      "   [Shares/fe:+] of [Standard Chartered/xe:org] [rose/dr:+] [1.2%/xe:per] , while [Royal Bank/xe:org] of [Scotland/xe:gpe] [shares/fe:+] [rose/dr:+] [2%/xe:per] and [Barclays/xe:org] [shares/fe:+] were [down/dr:-] [1.7%/xe:per] .\n",
      "-----\n",
      "8. Shares of Standard Chartered could not raise above $57.34, while Royal Bank of Scotland shares rose 2% and Barclays shares were down 1.7%.\n",
      "   [Shares/fe:+] of [Standard Chartered/xe:org] [could not/if:rev] [raise/dr:+] [above $57.34/xe:mon] , while [Royal Bank/xe:org] of [Scotland/xe:gpe] [shares/fe:+] [rose/dr:+] [2%/xe:per] and [Barclays/xe:org] [shares/fe:+] were [down/dr:-] [1.7%/xe:per] .\n",
      "-----\n",
      "9. German car manufacturer Volkswagen has been engulfed in a growing scandal over cheating on emissions tests.\n",
      "   [German/xe:nor] car manufacturer [Volkswagen/xe:org] has been [engulfed/dr:-] in a [growing/dr:+] [scandal/lm:-] over [cheating/lm:-] on emissions tests .\n",
      "-----\n",
      "10. CVS Pharmacy Ltd asked the city of Seattle to also file a separate lawsuit against Purdue Inc as well as units of Teva Pharmaceutical, Johnson & Johnson, and Allergan Ltd .\n",
      "    [CVS Pharmacy Ltd/xe:org] asked the city of [Seattle/xe:gpe] to also file a separate [lawsuit/if:lit] [against/lm:-] [Purdue Inc/xe:org] as [well/lm:+] as units of [Teva Pharmaceutical/xe:org] , [Johnson & Johnson/xe:org] , and [Allergan Ltd/xe:org] .\n",
      "-----\n",
      "11. IBM reduced its costs and increased its profit margin .\n",
      "    [IBM/xe:org] [reduced/dr:-] its [costs/fe:-] and [increased/dr:+] its [profit margin/fe:+] .\n",
      "-----\n",
      "12. IBM increased its costs and reduced its profit margin .\n",
      "    [IBM/xe:org] [increased/dr:+] its [costs/fe:-] and [reduced/dr:-] its [profit margin/fe:+] .\n",
      "-----\n",
      "13. However, given the strong sales in quarters three and four of the previous year, it will not be possible to sustain this high rate of growth over 2005 as a whole.\n",
      "    However , given the [strong/lm:+] [sales/fe:+] in [quarters three and four of the previous year/xe:dat] , it [will not be/if:rev] [possible/if:mod] to sustain this [high/lm:=] rate of [growth/dr:+] over [2005/xe:dat] as a whole .\n",
      "-----\n",
      "14. However, the insolvency of LEONI’s customer MG Rover must be expected to incur exceptional charges of between five and seven million euros.\n",
      "    However , the [insolvency/lm:-] of [LEONI/xe:org] ’s [customer/fe:+] [MG Rover/xe:per] [must/if:mod] be expected to incur [exceptional/lm:+] charges of [between five and seven million/xe:car] euros .\n",
      "-----\n",
      "15. It is not possible at this time to state the extent to which it might be possible to offset these charges during the current financial year.\n",
      "    It [is not/if:rev] [possible/if:mod] at this time to state the extent to which it [might/if:mod] be [possible/if:mod] to [offset/lm:+] these charges during [the current financial year/xe:dat] .\n",
      "-----\n",
      "16. Repair and maintenance group Homeserve, which also reports on Friday, rose 2.8 percent to £17.54 after RBS upgraded from ”hold” to ”buy”.\n",
      "    Repair and maintenance group [Homeserve/xe:org] , which also reports on [Friday/xe:dat] , [rose/dr:+] [2.8 percent/xe:per] to £ [17.54/xe:mon] after [RBS/xe:org] upgraded from ” hold ” to ” buy ” .\n",
      "-----\n",
      "17. This could raise doubts about Vodafone’s target of reaching 10m subscribers by the end of the current financial year.\n",
      "    This [could/if:mod] [raise/dr:+] [doubts/if:unc] about [Vodafone/xe:gpe] ’s target of reaching [10m subscribers/xe:qua] by the end of the current financial year .\n",
      "-----\n",
      "18. It will increase the number of Barclays’ customers in France by 25 percent.\n",
      "    It will [increase/dr:+] the number of [Barclays’/xe:loc] customers in [France/xe:gpe] by [25 percent/xe:per] .\n",
      "-----\n",
      "19. Last week, Engelhard scotched hopes of a negotiated deal with BASF, after three months of ding-dong talks, unveiling instead a defence strategy centred on a planned Dollars 1.2bn share buy-back at Dollars 45 a share.\n",
      "    [Last week/xe:dat] , [Engelhard/xe:org] scotched [hopes/lm:+] of a negotiated [deal/lm:+] with [BASF/xe:org] , after [three months/xe:dat] of ding - dong talks , unveiling instead a defence strategy centred on a planned Dollars [1.2bn/xe:mon] [share/fe:+] buy - [back/lm:+] at Dollars [45/xe:mon] a [share/fe:+] .\n",
      "-----\n",
      "20. So far, free cash flow has been used to finance share buybacks and dividend increases.\n",
      "    So far , [free/lm:+] [cash flow/fe:+] has been used to finance [share/fe:+] buybacks and [dividend/fe:+] [increases/dr:+] .\n",
      "-----\n",
      "21. The mobile network reseller also forecast mid-teen percentage growth in service revenue, far better than most analysts had expected in a tough UK market.\n",
      "    The mobile network reseller also [forecast/fe:+] mid - teen percentage [growth/dr:+] in [service/fe:+] [revenue/fe:+] , far [better/lm:+] than [most/lm:=] analysts had expected in a tough [UK/xe:gpe] [market/fe:+] .\n",
      "-----\n",
      "22. However, revenues from voice and text fell in the period.\n",
      "    However , [revenues/fe:+] from voice and text [fell/dr:-] in the period .\n",
      "-----\n",
      "23. Arun Sarin yesterday sought to dispel fears about slowing revenue growth at Vodafone by saying the mobile phone company would make more acquisitions in Africa and Asia.\n",
      "    [Arun Sarin/xe:per] [yesterday/xe:dat] sought to [dispel/dr:-] [fears/lm:-] about [slowing/dr:-] [revenue/fe:+] [growth/dr:+] at [Vodafone/xe:org] by saying the mobile phone company [would/if:mod] make more acquisitions in [Africa/xe:loc] and [Asia/xe:loc] .\n",
      "-----\n",
      "24. EMI eased 1.19 percent to 252p in spite of a buy recommendation from Deutsche Bank.\n",
      "    [EMI/xe:org] [eased/dr:-] [1.19 percent/xe:per] to 252p in [spite/lm:-] of a buy [recommendation/lm:+] from [Deutsche Bank/xe:org] .\n",
      "-----\n",
      "25. G4S led the blue-chip risers amid continued speculation that shareholders may block its £5.2bn deal to buy ISS, the office cleaning group.\n",
      "    G4S led the blue - chip risers amid continued [speculation/if:unc] that shareholders [may/if:mod] [block/lm:-] its £ [5.2bn/xe:mon] [deal/lm:+] to buy ISS , the office cleaning group .\n",
      "-----\n",
      "26. The weak oil price and a downgrade from RBS did the damage.\n",
      "    The [weak/dr:-] oil [price/fe:+] and a [downgrade/lm:-] from [RBS/xe:org] did the [damage/lm:-] .\n",
      "-----\n",
      "27. News that Hewlett-Packard was preparing a $10bn takeover offer for the software maker came too late for London traders to react.\n",
      "    News that [Hewlett-Packard/xe:org] was preparing a $ [10bn/xe:mon] takeover offer for the software maker came [too/lm:-] [late/lm:-] for [London/xe:gpe] traders to [react/lm:=] .\n",
      "-----\n",
      "28. Morgan Stanley repeated \"underweight\" advice in a note sent to clients overnight.\n",
      "    [Morgan Stanley/xe:org] repeated \" [underweight/dr:-] \" [advice/lm:+] in a note sent to [clients/fe:+] [overnight/xe:tim] .\n",
      "-----\n",
      "29. ECS argues Verizon Wireless is a \"passive investment\" for Vodafone because it last received a dividend in 2004-05, worth £923m.\n",
      "    ECS argues [Verizon Wireless/xe:org] is a \" [passive/lm:-] [investment/fe:+] \" for [Vodafone/xe:gpe] because it last received a [dividend/fe:+] in [2004-05/xe:dat] , [worth/lm:+] [£923m/xe:mon] .\n",
      "-----\n",
      "30. The acquisition would give CIBC control of FirstCaribbean with a stake of 87.4 percent.\n",
      "    The acquisition [would/if:mod] give [CIBC/xe:org] control of [FirstCaribbean/xe:org] with a [stake/fe:+] of [87.4 percent/xe:per] .\n",
      "-----\n"
     ]
    }
   ],
   "source": [
    "for i, sentence in enumerate(sentences):\n",
    "    doc = lexicon(sentence)\n",
    "    show(doc, index=(i+1), include_text=True)\n",
    "    print(\"-----\")"
   ]
  },
  {
   "cell_type": "markdown",
   "metadata": {},
   "source": [
    "## Miscellaneous Stuff - Can be Deleted!"
   ]
  },
  {
   "cell_type": "code",
   "execution_count": null,
   "metadata": {
    "collapsed": false
   },
   "outputs": [],
   "source": [
    "for lex, category, start, end, index, acceptable in doc.user_data['entries']:\n",
    "    print(\"%s --> %s/%s\" % (doc[start:end], lex, category))"
   ]
  },
  {
   "cell_type": "code",
   "execution_count": 26,
   "metadata": {
    "collapsed": false
   },
   "outputs": [
    {
     "name": "stdout",
     "output_type": "stream",
     "text": [
      " Initial estimated total value of the contract is $ 25,000 but it always contracts .\n",
      "-----\n",
      "fe + total value of\n",
      "if lit is\n",
      "if mod contracts\n",
      "dr - .\n",
      " Initial estimated [total value/fe:+] of the [contract/if:lit] is $ 25,000 but it [always/if:mod] [contracts/dr:-] .\n"
     ]
    }
   ],
   "source": [
    "sentence = \"Initial estimated total value of the contract is $25,000 but it always contracts.\"\n",
    "doc = lexicon.nlp(sentence)\n",
    "prepare(doc, lexicon.lexicons)\n",
    "lexicon.match(doc)\n",
    "show(doc)\n",
    "lex_entries = list(get_entries(doc))\n",
    "lex_entries = sorted(lex_entries, key=lambda item: (-(item[3] - item[2]), item[0]))\n",
    "#for lex, iid, start, end, index, accepted in lex_entries:\n",
    "# print(lex, iid, doc[start:end])    \n",
    "seen = set([])\n",
    "entries = []\n",
    "for item in lex_entries:\n",
    "    lex, iid, start, end, index, accepted = item\n",
    "    if start in seen or end - 1 in seen: continue\n",
    "    if lex in lexicon.pos_lexicons:\n",
    "        match2pos = lexicon.lexicon2matcher[lex].match2pos\n",
    "        span = doc[start:end]\n",
    "        phrase = span.text\n",
    "        if phrase in match2pos:\n",
    "            pos = \" \".join([token.pos_ for token in span])\n",
    "            if pos != match2pos[phrase]: continue\n",
    "    seen |= set(range(start, end))\n",
    "    doc[start]._.lex = lex\n",
    "    doc[start]._.category = iid\n",
    "    if lex == EXTRACTED_ENTITY_LEX:\n",
    "        doc[start]._.index = index\n",
    "        doc[start]._.accepted = accepted\n",
    "    entries.append(item)\n",
    "entries = sorted(entries, key=lambda item: item[2])\n",
    "\n",
    "set_entries(doc, entries)\n",
    "delta = 0\n",
    "for item in entries:\n",
    "    lex, iid, start, end, index, accepted = item\n",
    "    start -= delta\n",
    "    end -= delta\n",
    "    doc[start:end].merge()\n",
    "    delta += end - start - 1\n",
    "if lexicon.prune:\n",
    "    previous_lex = None\n",
    "    entries = []\n",
    "    for token in doc:\n",
    "        lex = token._.lex\n",
    "        if lex == DEFAULT_LEX:\n",
    "            if previous_lex != DEFAULT_LEX: start = token.start\n",
    "            stop = token.end\n",
    "        else:\n",
    "            if previous_lex == DEFAULT_LEX: entries.append((start, stop))\n",
    "        previous_lex = lex\n",
    "    delta = 0\n",
    "    for start, stop in entries:\n",
    "        start -= delta\n",
    "        stop -= delta\n",
    "        doc[start:stop].merge()\n",
    "        delta += stop - start - 1\n",
    "\n",
    "\n",
    "print('-----')\n",
    "for lex, iid, start, end, index, accepted in entries:\n",
    "    print(lex, iid, doc[start:end])\n",
    "\n",
    "show(doc)"
   ]
  },
  {
   "cell_type": "code",
   "execution_count": null,
   "metadata": {
    "collapsed": false
   },
   "outputs": [],
   "source": [
    "sentence = \"Initial estimated total value of the contract is $25,000 but it always contracts.\"\n",
    "match2pos = {'contracts':'VERB'}\n",
    "doc = lexicon.nlp(sentence)\n",
    "prepare(doc, lexicon.lexicons)\n",
    "lexicon.match(doc)\n",
    "show(doc)\n",
    "for lex, iid, start, end, index, accepted in doc.user_data['entries']:\n",
    "    \n",
    "    if lex == 'dr':\n",
    "        span = doc[start:end]\n",
    "        phrase = span.text\n",
    "        if phrase in match2pos:\n",
    "            pos = \" \".join([token.pos_ for token in span])\n",
    "            if pos == match2pos[phrase]: print(phrase)\n",
    "    #print(lex, iid, span, doc[start].pos_)"
   ]
  },
  {
   "cell_type": "code",
   "execution_count": null,
   "metadata": {
    "collapsed": true
   },
   "outputs": [],
   "source": [
    "doc = self.nlp(text)\n",
    "prepare(doc, self.lexicons)\n",
    "for e in doc.ents: \n",
    "    store_match(doc, EXTRACTED_ENTITY_LEX, e.label_.lower()[:3], e.start, e.end, -1, e.label_ in ACCEPTABLE_TYPES)\n",
    "self.match(doc)\n",
    "self.merge(doc)\n",
    "\n",
    "\n"
   ]
  },
  {
   "cell_type": "code",
   "execution_count": null,
   "metadata": {
    "collapsed": false
   },
   "outputs": [],
   "source": [
    "import json\n",
    "sentence = 'Earnings per share ( EPS ) amounted to EUR0 .98 , up from the loss of EUR0 .02 .'\n",
    "doc = nlp(sentence)\n",
    "print(sentence)\n",
    "prepare(doc, lexicon.lexicons)\n",
    "print(doc)\n",
    "#print(json.dumps(doc.user_data, indent=4, sort_keys=True))\n",
    "#print(doc.user_data)\n",
    "lexicon.match(doc)\n",
    "print(doc)\n",
    "lexicon.merge(doc)\n",
    "#print(doc)\n",
    "\n",
    "\n",
    "#print(json.dumps(doc.user_data, indent=4, sort_keys=True))\n",
    "#print(doc.user_data)\n",
    "\n",
    "#annotations = annotate(doc)\n",
    "#print(\" \".join(annotations))\n",
    "#for token in doc: print(\"[%s/%s:%s]\" % (token.text, token._.lex, token._.category))"
   ]
  },
  {
   "cell_type": "code",
   "execution_count": null,
   "metadata": {
    "collapsed": true
   },
   "outputs": [],
   "source": [
    "??show"
   ]
  },
  {
   "cell_type": "code",
   "execution_count": null,
   "metadata": {
    "collapsed": false
   },
   "outputs": [],
   "source": [
    "doc.user_data"
   ]
  },
  {
   "cell_type": "code",
   "execution_count": null,
   "metadata": {
    "collapsed": true
   },
   "outputs": [],
   "source": []
  }
 ],
 "metadata": {
  "anaconda-cloud": {},
  "kernelspec": {
   "display_name": "Python [conda env:fsa]",
   "language": "python",
   "name": "conda-env-fsa-py"
  },
  "language_info": {
   "codemirror_mode": {
    "name": "ipython",
    "version": 3
   },
   "file_extension": ".py",
   "mimetype": "text/x-python",
   "name": "python",
   "nbconvert_exporter": "python",
   "pygments_lexer": "ipython3",
   "version": "3.5.5"
  }
 },
 "nbformat": 4,
 "nbformat_minor": 2
}
