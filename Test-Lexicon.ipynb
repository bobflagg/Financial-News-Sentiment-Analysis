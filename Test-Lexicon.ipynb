{
 "cells": [
  {
   "cell_type": "code",
   "execution_count": 2,
   "metadata": {
    "collapsed": false
   },
   "outputs": [
    {
     "data": {
      "text/html": [
       "<style>.container { width:100% !important; }</style>"
      ],
      "text/plain": [
       "<IPython.core.display.HTML object>"
      ]
     },
     "metadata": {},
     "output_type": "display_data"
    }
   ],
   "source": [
    "from IPython.core.display import display, HTML\n",
    "display(HTML(\"<style>.container { width:100% !important; }</style>\"))\n",
    "\n",
    "%load_ext autoreload\n",
    "%autoreload 2"
   ]
  },
  {
   "cell_type": "code",
   "execution_count": 3,
   "metadata": {
    "collapsed": true
   },
   "outputs": [],
   "source": [
    "from fnsa.lexicon import Lexicon\n",
    "from fnsa.util import *\n",
    "import spacy"
   ]
  },
  {
   "cell_type": "code",
   "execution_count": 4,
   "metadata": {
    "collapsed": false
   },
   "outputs": [],
   "source": [
    "nlp = spacy.load('en_core_web_sm')\n",
    "sentences = load_sentences()"
   ]
  },
  {
   "cell_type": "code",
   "execution_count": 5,
   "metadata": {
    "collapsed": true
   },
   "outputs": [],
   "source": [
    "lexicon = Lexicon(nlp)"
   ]
  },
  {
   "cell_type": "code",
   "execution_count": 6,
   "metadata": {
    "collapsed": false
   },
   "outputs": [
    {
     "name": "stdout",
     "output_type": "stream",
     "text": [
      "1. General Electric reports its operating profit increased to $20.5 million.\n",
      "   [General Electric/en:ORG] reports its [operating profit/fe:+] [increased/dr:+] to [$20.5 million/en:MONEY] .\n",
      "2. Ford Motor Company reported higher full-year profits on Thursday boosted by a buoyant period for its car loans unit.\n",
      "   [Ford Motor Company/en:ORG] reported [higher/dr:+] [full-year profits/fe:+] on [Thursday/en:DATE] [boosted/dr:+] by a [buoyant period/fi:+] for its car loans unit .\n",
      "3. By agreeing to stay the proceedings, AT&T avoided a potential bombshell.\n",
      "   By agreeing to stay the proceedings , [AT&T/en:ORG] [avoided/if:rev] a [potential bombshell/fi:-] .\n",
      "4. Shares of Standard Chartered rose 1.2%, while Royal Bank of Scotland shares rose 2% and Barclays shares were down 1.7%.\n",
      "   [Shares/fe:+] of [Standard Chartered/en:ORG] [rose/dr:+] [1.2%/en:PERCENT] , while [Royal Bank/en:ORG] of [Scotland/en:GPE] [shares/fe:+] [rose/dr:+] [2%/en:PERCENT] and [Barclays/en:ORG] [shares/fe:+] were [down/dr:-] [1.7%/en:PERCENT] .\n",
      "5. Shares of Standard Chartered could not raise above $57.34, while Royal Bank of Scotland shares rose 2% and Barclays shares were down 1.7%.\n",
      "   [Shares/fe:+] of [Standard Chartered/en:ORG] [could not/if:rev] [raise/dr:+] [above $57.34/en:MONEY] , while [Royal Bank/en:ORG] of [Scotland/en:GPE] [shares/fe:+] [rose/dr:+] [2%/en:PERCENT] and [Barclays/en:ORG] [shares/fe:+] were [down/dr:-] [1.7%/en:PERCENT] .\n",
      "6. German car manufacturer Volkswagen has been engulfed in a growing scandal over cheating on emissions tests.\n",
      "   [German/en:NORP] car manufacturer [Volkswagen/en:ORG] has been [engulfed/dr:-] in a [growing/dr:+] [scandal/lm:-] over [cheating/lm:-] on emissions tests .\n",
      "7. CVS Pharmacy Ltd asked the city of Seattle to also file a separate lawsuit against Purdue as well as units of Teva Pharmaceutical, Johnson & Johnson, and Allergan Ltd .\n",
      "   [CVS Pharmacy Ltd/en:ORG] asked the city of [Seattle/en:GPE] to also file a separate [lawsuit/if:lit] [against/lm:-] [Purdue/en:PRODUCT] as [well/lm:+] as units of [Teva Pharmaceutical/en:ORG] , [Johnson & Johnson/en:ORG] , and [Allergan Ltd/en:ORG] .\n"
     ]
    }
   ],
   "source": [
    "for i, sentence in enumerate(sentences):\n",
    "    doc = lexicon(sentence)\n",
    "    show(doc, index=(i+1), include_text=True)"
   ]
  },
  {
   "cell_type": "code",
   "execution_count": null,
   "metadata": {
    "collapsed": true
   },
   "outputs": [],
   "source": []
  }
 ],
 "metadata": {
  "anaconda-cloud": {},
  "kernelspec": {
   "display_name": "Python [conda env:fsa]",
   "language": "python",
   "name": "conda-env-fsa-py"
  },
  "language_info": {
   "codemirror_mode": {
    "name": "ipython",
    "version": 3
   },
   "file_extension": ".py",
   "mimetype": "text/x-python",
   "name": "python",
   "nbconvert_exporter": "python",
   "pygments_lexer": "ipython3",
   "version": "3.5.5"
  }
 },
 "nbformat": 4,
 "nbformat_minor": 2
}
