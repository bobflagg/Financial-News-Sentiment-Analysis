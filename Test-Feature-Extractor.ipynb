{
 "cells": [
  {
   "cell_type": "code",
   "execution_count": 1,
   "metadata": {
    "collapsed": false
   },
   "outputs": [
    {
     "data": {
      "text/html": [
       "<style>.container { width:100% !important; }</style>"
      ],
      "text/plain": [
       "<IPython.core.display.HTML object>"
      ]
     },
     "metadata": {},
     "output_type": "display_data"
    }
   ],
   "source": [
    "from IPython.core.display import display, HTML\n",
    "display(HTML(\"<style>.container { width:100% !important; }</style>\"))\n",
    "\n",
    "%load_ext autoreload\n",
    "%autoreload 2"
   ]
  },
  {
   "cell_type": "code",
   "execution_count": 9,
   "metadata": {
    "collapsed": true
   },
   "outputs": [],
   "source": [
    "from fnsa.feature import FeatureExtractor\n",
    "from fnsa.lexicon import get_en2scope, Lexicon\n",
    "from fnsa.scope import DRScopeDetector, IFScopeDetector\n",
    "from fnsa.graph import make_graph\n",
    "from fnsa.util import *\n",
    "import spacy"
   ]
  },
  {
   "cell_type": "code",
   "execution_count": 11,
   "metadata": {
    "collapsed": true
   },
   "outputs": [],
   "source": [
    "nlp = spacy.load('en_core_web_sm')\n",
    "sentences = load_sentences()"
   ]
  },
  {
   "cell_type": "code",
   "execution_count": 16,
   "metadata": {
    "collapsed": false
   },
   "outputs": [],
   "source": [
    "lexicon = Lexicon(nlp)\n",
    "dr_detector = DRScopeDetector()\n",
    "if_detector = IFScopeDetector()\n",
    "extractor = FeatureExtractor(lexicon, detectors=[dr_detector, if_detector])"
   ]
  },
  {
   "cell_type": "code",
   "execution_count": 21,
   "metadata": {
    "collapsed": false,
    "scrolled": false
   },
   "outputs": [
    {
     "name": "stdout",
     "output_type": "stream",
     "text": [
      "General Electric reports its operating profit increased to $20.5 million.\n",
      " [General Electric/en:ORG] reports its [operating profit/fe:+] [increased/dr:+] to [$20.5 million/en:MONEY] .\n",
      " en_ORG nd_reports nd_its fe_+_+_= dr_+ nd_to en_MONEY nd_.\n",
      "-----\n",
      "Ford Motor Company reported higher full-year profits on Thursday boosted by a buoyant period for its car loans unit.\n",
      " [Ford Motor Company/en:ORG] reported [higher/dr:+] [full-year profits/fe:+] on [Thursday/en:DATE] [boosted/dr:+] by a [buoyant period/fi:+] for its car loans unit .\n",
      " en_ORG nd_reported dr_+ fe_+_+_= nd_on en_DATE dr_+ nd_by nd_a fi_+_= nd_for nd_its nd_car nd_loans nd_unit nd_.\n",
      "-----\n",
      "By agreeing to stay the proceedings, AT&T avoided a potential bombshell.\n",
      " By agreeing to stay the proceedings , [AT&T/en:ORG] [avoided/if:rev] a [potential bombshell/fi:-] .\n",
      " nd_By nd_agreeing nd_to nd_stay nd_the nd_proceedings nd_, en_ORG if_rev nd_a fi_-_rev nd_.\n",
      "-----\n",
      "Shares of Standard Chartered rose 1.2%, while Royal Bank of Scotland shares rose 2% and Barclays shares were down 1.7%.\n",
      " [Shares/fe:+] of [Standard Chartered/en:ORG] [rose/dr:+] [1.2%/en:PERCENT] , while [Royal Bank/en:ORG] of [Scotland/en:GPE] [shares/fe:+] [rose/dr:+] [2%/en:PERCENT] and [Barclays/en:ORG] [shares/fe:+] were [down/dr:-] [1.7%/en:PERCENT] .\n",
      " fe_+_+_= nd_of en_ORG dr_+ en_PERCENT nd_, nd_while en_ORG nd_of en_GPE fe_+_+_= dr_+ en_PERCENT nd_and en_ORG fe_+_-_= nd_were dr_- en_PERCENT nd_.\n",
      "-----\n",
      "Shares of Standard Chartered could not raise above $57.34, while Royal Bank of Scotland shares rose 2% and Barclays shares were down 1.7%.\n",
      " [Shares/fe:+] of [Standard Chartered/en:ORG] [could not/if:rev] [raise/dr:+] [above $57.34/en:MONEY] , while [Royal Bank/en:ORG] of [Scotland/en:GPE] [shares/fe:+] [rose/dr:+] [2%/en:PERCENT] and [Barclays/en:ORG] [shares/fe:+] were [down/dr:-] [1.7%/en:PERCENT] .\n",
      " fe_+_+_rev nd_of en_ORG if_rev dr_+ en_MONEY nd_, nd_while en_ORG nd_of en_GPE fe_+_+_= dr_+ en_PERCENT nd_and en_ORG fe_+_-_= nd_were dr_- en_PERCENT nd_.\n",
      "-----\n",
      "German car manufacturer Volkswagen has been engulfed in a growing scandal over cheating on emissions tests.\n",
      " [German/en:NORP] car manufacturer [Volkswagen/en:ORG] has been [engulfed/dr:-] in a [growing/dr:+] [scandal/lm:-] over [cheating/lm:-] on emissions tests .\n",
      " en_NORP nd_car nd_manufacturer en_ORG nd_has nd_been dr_- nd_in nd_a dr_+ lm_-_= nd_over lm_-_= nd_on nd_emissions nd_tests nd_.\n",
      "-----\n",
      "CVS Pharmacy Ltd asked the city of Seattle to also file a separate lawsuit against Purdue as well as units of Teva Pharmaceutical, Johnson & Johnson, and Allergan Ltd .\n",
      " [CVS Pharmacy Ltd/en:ORG] asked the city of [Seattle/en:GPE] to also file a separate [lawsuit/if:lit] [against/lm:-] [Purdue/en:PRODUCT] as [well/lm:+] as units of [Teva Pharmaceutical/en:ORG] , [Johnson & Johnson/en:ORG] , and [Allergan Ltd/en:ORG] .\n",
      " en_ORG nd_asked nd_the nd_city nd_of en_GPE nd_to nd_also nd_file nd_a nd_separate if_lit lm_-_lit en_PRODUCT nd_as lm_+_= nd_as nd_units nd_of en_ORG nd_, en_ORG nd_, nd_and en_ORG nd_.\n",
      "-----\n"
     ]
    }
   ],
   "source": [
    "def show_features(sentence, extractor):\n",
    "    doc, features = extractor(sentence)\n",
    "    show(doc, index=None, include_text=True, include_tree=False)\n",
    "    print(\" \" + \" \".join(features))\n",
    "    return doc\n",
    "for sentence in sentences: \n",
    "    doc = show_features(sentence, extractor)\n",
    "    print(\"-----\")"
   ]
  },
  {
   "cell_type": "code",
   "execution_count": null,
   "metadata": {
    "collapsed": true
   },
   "outputs": [],
   "source": []
  }
 ],
 "metadata": {
  "kernelspec": {
   "display_name": "Python [conda env:fsa]",
   "language": "python",
   "name": "conda-env-fsa-py"
  },
  "language_info": {
   "codemirror_mode": {
    "name": "ipython",
    "version": 3
   },
   "file_extension": ".py",
   "mimetype": "text/x-python",
   "name": "python",
   "nbconvert_exporter": "python",
   "pygments_lexer": "ipython3",
   "version": "3.5.5"
  }
 },
 "nbformat": 4,
 "nbformat_minor": 2
}
