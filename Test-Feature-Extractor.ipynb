{
 "cells": [
  {
   "cell_type": "code",
   "execution_count": 1,
   "metadata": {
    "collapsed": false
   },
   "outputs": [
    {
     "data": {
      "text/html": [
       "<style>.container { width:100% !important; }</style>"
      ],
      "text/plain": [
       "<IPython.core.display.HTML object>"
      ]
     },
     "metadata": {},
     "output_type": "display_data"
    }
   ],
   "source": [
    "from IPython.core.display import display, HTML\n",
    "display(HTML(\"<style>.container { width:100% !important; }</style>\"))\n",
    "\n",
    "%load_ext autoreload\n",
    "%autoreload 2"
   ]
  },
  {
   "cell_type": "code",
   "execution_count": 23,
   "metadata": {
    "collapsed": true
   },
   "outputs": [],
   "source": [
    "from fnsa.lexicon import Lexicon\n",
    "from fnsa.util import *\n",
    "import spacy\n",
    "nlp = spacy.load('en_core_web_sm')"
   ]
  },
  {
   "cell_type": "code",
   "execution_count": 5,
   "metadata": {
    "collapsed": false
   },
   "outputs": [],
   "source": [
    "lexicon = Lexicon(nlp)"
   ]
  },
  {
   "cell_type": "code",
   "execution_count": 33,
   "metadata": {
    "collapsed": true
   },
   "outputs": [],
   "source": [
    "def project(doc):\n",
    "    for token in doc:\n",
    "        if token._.lex in ['dr', 'en', 'if']: token._.lps = '%s_%s' % (token._.lex, token._.category)\n",
    "        elif token._.lex in ['fi', 'lm']: token._.lps = '%s_%s_%s' % (token._.lex, token._.category, token._.influence)\n",
    "        elif token._.lex == 'fe': token._.lps = '%s_%s_%s_%s' % (token._.lex, token._.category, token._.direction, token._.influence)\n"
   ]
  },
  {
   "cell_type": "code",
   "execution_count": 35,
   "metadata": {
    "collapsed": false
   },
   "outputs": [
    {
     "name": "stdout",
     "output_type": "stream",
     "text": [
      "Ford Motor Company reported higher full-year profits on Thursday boosted by a buoyant period for its car loans unit.\n",
      " [Ford Motor Company/en:ORG] reported [higher/dr:+] [full-year profits/fe:+] on [Thursday/en:DATE] [boosted/dr:+] by a [buoyant period/fi:+] for its car loans unit .\n",
      " [en||ORG]   Ford Motor Company -->> en_ORG\n",
      "   [nd||?]             reported -->> ?\n",
      "   [dr||+]               higher -->> dr_+\n",
      "   [fe||+]    full-year profits -->> fe_+_=_=\n",
      "   [nd||?]                   on -->> ?\n",
      " [en||DAT]             Thursday -->> en_DATE\n",
      "   [dr||+]              boosted -->> dr_+\n",
      "   [nd||?]                   by -->> ?\n",
      "   [nd||?]                    a -->> ?\n",
      "   [fi||+]       buoyant period -->> fi_+_=\n",
      "   [nd||?]                  for -->> ?\n",
      "   [nd||?]                  its -->> ?\n",
      "   [nd||?]                  car -->> ?\n",
      "   [nd||?]                loans -->> ?\n",
      "   [nd||?]                 unit -->> ?\n",
      "   [nd||?]                    . -->> ?\n",
      "General Electric reports its operating profit increased to $20.5 million.\n",
      " [General Electric/en:ORG] reports its [operating profit/fe:+] [increased/dr:+] to [$20.5 million/en:MONEY] .\n",
      " [en||ORG]     General Electric -->> en_ORG\n",
      "   [nd||?]              reports -->> ?\n",
      "   [nd||?]                  its -->> ?\n",
      "   [fe||+]     operating profit -->> fe_+_=_=\n",
      "   [dr||+]            increased -->> dr_+\n",
      "   [nd||?]                   to -->> ?\n",
      " [en||MON]        $20.5 million -->> en_MONEY\n",
      "   [nd||?]                    . -->> ?\n",
      "Shares of Standard Chartered could not raise above $57.34, while Royal Bank of Scotland shares rose 2% and Barclays shares were down 1.7%.\n",
      " [Shares/fe:+] of [Standard Chartered/en:ORG] [could not/if:rev] [raise/dr:+] [above $57.34/en:MONEY] , while [Royal Bank/en:ORG] of [Scotland/en:GPE] [shares/fe:+] [rose/dr:+] [2%/en:PERCENT] and [Barclays/en:ORG] [shares/fe:+] were [down/dr:-] [1.7%/en:PERCENT] .\n",
      "   [fe||+]               Shares -->> fe_+_=_=\n",
      "   [nd||?]                   of -->> ?\n",
      " [en||ORG]   Standard Chartered -->> en_ORG\n",
      " [if||rev]            could not -->> if_rev\n",
      "   [dr||+]                raise -->> dr_+\n",
      " [en||MON]         above $57.34 -->> en_MONEY\n",
      "   [nd||?]                    , -->> ?\n",
      "   [nd||?]                while -->> ?\n",
      " [en||ORG]           Royal Bank -->> en_ORG\n",
      "   [nd||?]                   of -->> ?\n",
      " [en||GPE]             Scotland -->> en_GPE\n",
      "   [fe||+]               shares -->> fe_+_=_=\n",
      "   [dr||+]                 rose -->> dr_+\n",
      " [en||PER]                   2% -->> en_PERCENT\n",
      "   [nd||?]                  and -->> ?\n",
      " [en||ORG]             Barclays -->> en_ORG\n",
      "   [fe||+]               shares -->> fe_+_=_=\n",
      "   [nd||?]                 were -->> ?\n",
      "   [dr||-]                 down -->> dr_-\n",
      " [en||PER]                 1.7% -->> en_PERCENT\n",
      "   [nd||?]                    . -->> ?\n",
      "German car manufacturer Volkswagen has been engulfed in a growing scandal over cheating on emissions tests.\n",
      " [German/en:NORP] car manufacturer [Volkswagen/en:ORG] has been [engulfed/dr:-] in a [growing/dr:+] [scandal/lm:-] over [cheating/lm:-] on emissions tests .\n",
      " [en||NOR]               German -->> en_NORP\n",
      "   [nd||?]                  car -->> ?\n",
      "   [nd||?]         manufacturer -->> ?\n",
      " [en||ORG]           Volkswagen -->> en_ORG\n",
      "   [nd||?]                  has -->> ?\n",
      "   [nd||?]                 been -->> ?\n",
      "   [dr||-]             engulfed -->> dr_-\n",
      "   [nd||?]                   in -->> ?\n",
      "   [nd||?]                    a -->> ?\n",
      "   [dr||+]              growing -->> dr_+\n",
      "   [lm||-]              scandal -->> lm_-_=\n",
      "   [nd||?]                 over -->> ?\n",
      "   [lm||-]             cheating -->> lm_-_=\n",
      "   [nd||?]                   on -->> ?\n",
      "   [nd||?]            emissions -->> ?\n",
      "   [nd||?]                tests -->> ?\n",
      "   [nd||?]                    . -->> ?\n"
     ]
    }
   ],
   "source": [
    "sentences = [\n",
    "    \"Ford Motor Company reported higher full-year profits on Thursday boosted by a buoyant period for its car loans unit.\",\n",
    "    \"General Electric reports its operating profit increased to $20.5 million.\",\n",
    "    \"Shares of Standard Chartered could not raise above $57.34, while Royal Bank of Scotland shares rose 2% and Barclays shares were down 1.7%.\",\n",
    "    \"German car manufacturer Volkswagen has been engulfed in a growing scandal over cheating on emissions tests.\"\n",
    "]\n",
    "for i, sentence in enumerate(sentences):\n",
    "    doc = lexicon(sentence)\n",
    "    project(doc)\n",
    "    show_tokens(doc, include_annotations=True, include_text=True)\n",
    "    #print('-----')"
   ]
  },
  {
   "cell_type": "code",
   "execution_count": null,
   "metadata": {
    "collapsed": true
   },
   "outputs": [],
   "source": []
  }
 ],
 "metadata": {
  "kernelspec": {
   "display_name": "Python [conda env:fsa]",
   "language": "python",
   "name": "conda-env-fsa-py"
  },
  "language_info": {
   "codemirror_mode": {
    "name": "ipython",
    "version": 3
   },
   "file_extension": ".py",
   "mimetype": "text/x-python",
   "name": "python",
   "nbconvert_exporter": "python",
   "pygments_lexer": "ipython3",
   "version": "3.5.5"
  }
 },
 "nbformat": 4,
 "nbformat_minor": 2
}
