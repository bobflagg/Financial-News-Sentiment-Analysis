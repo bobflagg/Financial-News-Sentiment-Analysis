{
 "cells": [
  {
   "cell_type": "code",
   "execution_count": 1,
   "metadata": {
    "collapsed": false
   },
   "outputs": [
    {
     "data": {
      "text/html": [
       "<style>.container { width:100% !important; }</style>"
      ],
      "text/plain": [
       "<IPython.core.display.HTML object>"
      ]
     },
     "metadata": {},
     "output_type": "display_data"
    }
   ],
   "source": [
    "from IPython.core.display import display, HTML\n",
    "display(HTML(\"<style>.container { width:100% !important; }</style>\"))\n",
    "\n",
    "%load_ext autoreload\n",
    "%autoreload 2"
   ]
  },
  {
   "cell_type": "code",
   "execution_count": 2,
   "metadata": {
    "collapsed": true
   },
   "outputs": [],
   "source": [
    "from fnsa.feature import FeatureExtractor\n",
    "from fnsa.lexicon import get_en2scope, Lexicon\n",
    "from fnsa.scope import DRScopeDetector, IFScopeDetector\n",
    "from fnsa.graph import make_graph\n",
    "from fnsa.util import *\n",
    "import spacy"
   ]
  },
  {
   "cell_type": "code",
   "execution_count": 3,
   "metadata": {
    "collapsed": true
   },
   "outputs": [],
   "source": [
    "nlp = spacy.load('en_core_web_sm')\n",
    "sentences = load_sentences()"
   ]
  },
  {
   "cell_type": "code",
   "execution_count": 7,
   "metadata": {
    "collapsed": false
   },
   "outputs": [],
   "source": [
    "lexicon = Lexicon(nlp)\n",
    "dr_detector = DRScopeDetector()\n",
    "if_detector = IFScopeDetector()\n",
    "extractor = FeatureExtractor(lexicon, detectors=[dr_detector, if_detector])"
   ]
  },
  {
   "cell_type": "code",
   "execution_count": 11,
   "metadata": {
    "collapsed": false,
    "scrolled": false
   },
   "outputs": [
    {
     "name": "stdout",
     "output_type": "stream",
     "text": [
      "General Electric reports its operating profit increased to $20.5 million.\n",
      " [General Electric/en:org] reports its [operating profit/fe:+] [increased/dr:+] to [$20.5 million/en:mon] .\n",
      "                     reports                             \n",
      "        ________________|_____________                    \n",
      "       |                          increased              \n",
      "       |                 _____________|___________        \n",
      "       |         operating profit                 to     \n",
      "       |                |                         |       \n",
      "General Electric       its                  $20.5 million\n",
      "\n",
      "FEATURES: [en_org, reports, its, fe_+_+_=, dr_+, to, en_mon, .]\n",
      "-----\n",
      "Ford Motor Company reported higher full-year profits on Thursday boosted by a buoyant period for its car loans unit.\n",
      " [Ford Motor Company/en:org] reported [higher/dr:+] [full-year profits/fe:+] on [Thursday/en:dat] [boosted/dr:+] by a [buoyant period/fi:+] for its car loans unit .\n",
      "                                  reported                              \n",
      "        _____________________________|_______________                    \n",
      "       |                |            |            boosted               \n",
      "       |                |            |               |                   \n",
      "       |                |            |               by                 \n",
      "       |                |            |               |                   \n",
      "       |                |            |         buoyant period           \n",
      "       |                |            |       ________|_________          \n",
      "       |                |            |      |                 for       \n",
      "       |                |            |      |                  |         \n",
      "       |                |            |      |                 unit      \n",
      "       |                |            |      |         _________|_____    \n",
      "       |         full-year profit    on     |        |             loans\n",
      "       |                s            |      |        |               |  \n",
      "       |                |            |      |        |               |   \n",
      "Ford Motor Compa      higher      Thursday  a       its             car \n",
      "       ny                                                               \n",
      "\n",
      "FEATURES: [en_org, reported, dr_+, fe_+_+_=, on, en_dat, dr_+, by, a, fi_+_=, for, its, car, loans, unit, .]\n",
      "-----\n",
      "By agreeing to stay the proceedings, AT&T avoided a potential bombshell.\n",
      " By agreeing to stay the proceedings , [AT&T/en:org] [avoided/if:rev] a [potential bombshell/fi:-] .\n",
      "     avoided                                      \n",
      "  ______|________________________________          \n",
      " |              By                       |        \n",
      " |              |                        |         \n",
      " |           agreeing                    |        \n",
      " |              |                        |         \n",
      " |             stay                      |        \n",
      " |       _______|__________              |         \n",
      " |      |             proceedings potential bombsh\n",
      " |      |                  |            ell       \n",
      " |      |                  |             |         \n",
      "AT&T    to                the            a        \n",
      "\n",
      "FEATURES: [By, agreeing, to, stay, the, proceedings, ,, en_org, if_rev, a, fi_-_rev, .]\n",
      "-----\n",
      "Shares of Standard Chartered rose 1.2%, while Royal Bank of Scotland shares rose 2% and Barclays shares were down 1.7%.\n",
      " [Shares/fe:+] of [Standard Chartered/en:org] [rose/dr:+] [1.2%/en:per] , while [Royal Bank/en:org] of [Scotland/en:gpe] [shares/fe:+] [rose/dr:+] [2%/en:per] and [Barclays/en:org] [shares/fe:+] were [down/dr:-] [1.7%/en:per] .\n",
      "                            rose                                   \n",
      "  ___________________________|____                                  \n",
      " |          |                    rose                              \n",
      " |          |            _________|________________________         \n",
      " |          |           |    |    |     shares             |       \n",
      " |          |           |    |    |       |                |        \n",
      " |        Shares        |    |    |   Royal Bank          were     \n",
      " |          |           |    |    |       |          ______|____    \n",
      " |          of          |    |    |       of      shares       down\n",
      " |          |           |    |    |       |         |           |   \n",
      "1.2% Standard Charter while  2%  and   Scotland  Barclays      1.7%\n",
      "            ed                                                     \n",
      "\n",
      "FEATURES: [fe_+_+_=, of, en_org, dr_+, en_per, ,, while, en_org, of, en_gpe, fe_+_+_=, dr_+, en_per, and, en_org, fe_+_-_=, were, dr_-, en_per, .]\n",
      "-----\n",
      "Shares of Standard Chartered could not raise above $57.34, while Royal Bank of Scotland shares rose 2% and Barclays shares were down 1.7%.\n",
      " [Shares/fe:+] of [Standard Chartered/en:org] [could not/if:rev] [raise/dr:+] [above $57.34/en:mon] , while [Royal Bank/en:org] of [Scotland/en:gpe] [shares/fe:+] [rose/dr:+] [2%/en:per] and [Barclays/en:org] [shares/fe:+] were [down/dr:-] [1.7%/en:per] .\n",
      "                                              raise                                   \n",
      "     ___________________________________________|____                                  \n",
      "    |          |              |                     rose                              \n",
      "    |          |              |            __________|________________________         \n",
      "    |          |              |           |     |    |     shares             |       \n",
      "    |          |              |           |     |    |       |                |        \n",
      "    |          |            Shares        |     |    |   Royal Bank          were     \n",
      "    |          |              |           |     |    |       |          ______|____    \n",
      "    |          |              of          |     |    |       of      shares       down\n",
      "    |          |              |           |     |    |       |         |           |   \n",
      "could not above $57.34 Standard Charter while   2%  and   Scotland  Barclays      1.7%\n",
      "                              ed                                                      \n",
      "\n",
      "FEATURES: [fe_+_+_rev, of, en_org, if_rev, dr_+, en_mon, ,, while, en_org, of, en_gpe, fe_+_+_=, dr_+, en_per, and, en_org, fe_+_-_=, were, dr_-, en_per, .]\n",
      "-----\n",
      "German car manufacturer Volkswagen has been engulfed in a growing scandal over cheating on emissions tests.\n",
      " [German/en:nor] car manufacturer [Volkswagen/en:org] has been [engulfed/dr:-] in a [growing/dr:+] [scandal/lm:-] over [cheating/lm:-] on emissions tests .\n",
      "                             engulfed                              \n",
      "  ______________________________|_____________________________      \n",
      " |   |               |                       |               over  \n",
      " |   |               |                       |                |     \n",
      " |   |               |                       |             cheating\n",
      " |   |               |                       |                |     \n",
      " |   |           Volkswagen                  in               on   \n",
      " |   |               |                       |                |     \n",
      " |   |          manufacturer              scandal           tests  \n",
      " |   |      _________|__________        _____|_______         |     \n",
      "has been German                car     a          growing emissions\n",
      "\n",
      "FEATURES: [en_nor, car, manufacturer, en_org, has, been, dr_-, in, a, dr_+, lm_-_=, over, lm_-_=, on, emissions, tests, .]\n",
      "-----\n",
      "CVS Pharmacy Ltd asked the city of Seattle to also file a separate lawsuit against Purdue Inc as well as units of Teva Pharmaceutical, Johnson & Johnson, and Allergan Ltd .\n",
      " [CVS Pharmacy Ltd/en:org] asked the city of [Seattle/en:gpe] to also file a separate [lawsuit/if:lit] [against/lm:-] [Purdue Inc/en:org] as [well/lm:+] as units of [Teva Pharmaceutical/en:org] , [Johnson & Johnson/en:org] , and [Allergan Ltd/en:org] .\n",
      "                                           asked                                                                       \n",
      "        _____________________________________|________________                                                          \n",
      "       |              |                                      file                                                      \n",
      "       |              |             __________________________|_________                                                \n",
      "       |              |            |   |                             lawsuit                                           \n",
      "       |              |            |   |      __________________________|________________________                       \n",
      "       |              |            |   |     |      |         |               |                units                   \n",
      "       |              |            |   |     |      |         |               |                  |                      \n",
      "       |              |            |   |     |      |         |               |                  of                    \n",
      "       |              |            |   |     |      |         |               |                  |                      \n",
      "       |             city          |   |     |      |         |               |           Teva Pharmaceuti             \n",
      "       |              |            |   |     |      |         |               |                 cal                    \n",
      "       |           ___|______      |   |     |      |         |               |                  |                      \n",
      "       |          |          of    |   |     |      |      against            as          Johnson & Johnso             \n",
      "       |          |          |     |   |     |      |         |               |                  n                     \n",
      "       |          |          |     |   |     |      |         |          _____|___      _________|______________        \n",
      "CVS Pharmacy Ltd the      Seattle  to also   a   separate Purdue Inc    as       well and                  Allergan Ltd\n",
      "\n",
      "FEATURES: [en_org, asked, the, city, of, en_gpe, to, also, file, a, separate, if_lit, lm_-_lit, en_org, as, lm_+_=, as, units, of, en_org, ,, en_org, ,, and, en_org, .]\n",
      "-----\n",
      "IBM reduced its costs and increased its profit margin .\n",
      " [IBM/en:org] [reduced/dr:-] its [costs/fe:-] and [increased/dr:+] its [profit margin/fe:+] .\n",
      "    reduced                    \n",
      "  _____|________________        \n",
      " |     |      |     increased  \n",
      " |     |      |         |       \n",
      " |     |    costs profit margin\n",
      " |     |      |         |       \n",
      "IBM   and    its       its     \n",
      "\n",
      "FEATURES: [en_org, dr_-, its, fe_-_-_=, and, dr_+, its, fe_+_+_=, .]\n",
      "-----\n",
      "IBM increased its costs and reduced its profit margin .\n",
      " [IBM/en:org] [increased/dr:+] its [costs/fe:-] and [reduced/dr:-] its [profit margin/fe:+] .\n",
      "    increased                    \n",
      "  ______|_________________        \n",
      " |      |       |      reduced   \n",
      " |      |       |         |       \n",
      " |      |     costs profit margin\n",
      " |      |       |         |       \n",
      "IBM    and     its       its     \n",
      "\n",
      "FEATURES: [en_org, dr_+, its, fe_-_+_=, and, dr_-, its, fe_+_-_=, .]\n",
      "-----\n"
     ]
    }
   ],
   "source": [
    "def show_features(sentence, extractor):\n",
    "    doc, features = extractor(sentence)\n",
    "    show(doc, index=None, include_text=True, include_tree=True)\n",
    "    print(\"FEATURES: [%s]\" % \", \".join(features))\n",
    "    return doc\n",
    "for sentence in sentences: \n",
    "    doc = show_features(sentence, extractor)\n",
    "    print(\"-----\")"
   ]
  },
  {
   "cell_type": "code",
   "execution_count": null,
   "metadata": {
    "collapsed": true
   },
   "outputs": [],
   "source": []
  }
 ],
 "metadata": {
  "anaconda-cloud": {},
  "kernelspec": {
   "display_name": "Python [conda env:fsa]",
   "language": "python",
   "name": "conda-env-fsa-py"
  },
  "language_info": {
   "codemirror_mode": {
    "name": "ipython",
    "version": 3
   },
   "file_extension": ".py",
   "mimetype": "text/x-python",
   "name": "python",
   "nbconvert_exporter": "python",
   "pygments_lexer": "ipython3",
   "version": "3.5.5"
  }
 },
 "nbformat": 4,
 "nbformat_minor": 2
}
